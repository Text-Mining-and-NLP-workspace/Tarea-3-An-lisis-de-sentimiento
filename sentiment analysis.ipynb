{
 "cells": [
  {
   "cell_type": "markdown",
   "id": "a3bbc6c6",
   "metadata": {},
   "source": [
    "## Carga de librerias"
   ]
  },
  {
   "cell_type": "code",
   "execution_count": null,
   "id": "9a3df4f6",
   "metadata": {},
   "outputs": [],
   "source": [
    "import enum\n",
    "import tqdm\n",
    "from typing import Generator, Dict, List, Tuple\n",
    "import pickle\n",
    "import math\n",
    "import random\n",
    "from gensim.parsing.preprocessing import remove_stopword_tokens\n",
    "from gensim.models import Phrases\n",
    "from gensim.models.phrases import Phraser\n",
    "from gensim.utils import simple_preprocess\n",
    "from gensim.corpora import Dictionary\n",
    "import numpy as np\n",
    "from nltk.corpus import stopwords\n",
    "import spacy\n",
    "from spacy.lang.en import English\n",
    "from datetime import datetime\n",
    "from collections import defaultdict\n",
    "import pandas as pd"
   ]
  },
  {
   "cell_type": "markdown",
   "id": "6d3aaa00",
   "metadata": {},
   "source": [
    "## Definicion de Modelo (clases y funciones)\n",
    "Definimos las funciones necesarias para nuestro pipeline, y definimos una clase para nuestro modelo de analisis de sentimiento"
   ]
  },
  {
   "cell_type": "code",
   "execution_count": 106,
   "id": "5e20c00f",
   "metadata": {},
   "outputs": [],
   "source": [
    "nlp = spacy.load('en_core_web_trf')\n",
    "class Sentiments(enum.Enum):\n",
    "    POS = 'POS'\n",
    "    NEG = 'NEG'\n",
    "    \n",
    "def split_data(data: List, weights: List = (0.7, 0.15, 0.15)):\n",
    "    split = {\n",
    "        'train': [],\n",
    "        'test': [],\n",
    "        'validation': [],\n",
    "    }\n",
    "    for word in data:\n",
    "        subset = random.choices(['train', 'test', 'validation'], weights=weights)[0]\n",
    "        split[subset].append(word)\n",
    "\n",
    "    return split\n",
    "\n",
    "def sentences_to_words(sentences: List[str]) -> List[List[str]]:\n",
    "    words = []\n",
    "    pbar=tqdm.tqdm(range(len(sentences)))\n",
    "    pbar.set_description('Sentences to Words')\n",
    "    for i in pbar:    \n",
    "    #for sentence in sentences:\n",
    "        # https://radimrehurek.com/gensim/utils.html#gensim.utils.simple_preprocess\n",
    "        words.append(simple_preprocess(str(sentences[i]), deacc=True))  # deacc=True elimina la puntuación\n",
    "    return words\n",
    "\n",
    "def remove_stopwords(documents: List[List[str]]) -> List[List[str]]:\n",
    "    pbar=tqdm.tqdm(range(len(documents)))\n",
    "    pbar.set_description('Remove StopWords')\n",
    "    docs=[]\n",
    "    for i in pbar:  \n",
    "        docs.append(remove_stopword_tokens(documents[i], stopwords=stopwords.words('english')))\n",
    "        #docs.append([word for word in simple_preprocess(str(documents[i])) if word not in stopwords.words('english')])\n",
    "    \n",
    "    return docs\n",
    "\n",
    "def create_ngrams(ngram_model_lst, documents: List[List[str]]):\n",
    "    pbar=tqdm.tqdm(range(len(ngram_model_lst)))\n",
    "    pbar.set_description('Create N-grams')\n",
    "    for i in pbar: \n",
    "    #for ngram_model in ngram_model_lst:\n",
    "        documents=[ngram_model_lst[i][doc] for doc in documents]\n",
    "    return documents\n",
    "\n",
    "def learn_ngrams(n,min_c,th,documents: List[List[str]]) -> List[List[str]]:\n",
    "    # We learn bigrams\n",
    "    #  https://radimrehurek.com/gensim/models/phrases.html#gensim.models.phrases.Phrases\n",
    "    print('learning N-grams')\n",
    "    ngram_model_lst=[]\n",
    "    ngram = Phrases(documents,min_count=min_c, threshold=th)\n",
    "    # we reduce the bigram model to its minimal functionality\n",
    "    ngram_mod = Phraser(ngram)\n",
    "    ngram_model_lst.append(ngram_mod)\n",
    "    if n > 2:\n",
    "        for i in range(3,n+1):\n",
    "            documents=[ngram_model_lst[i-3][doc] for doc in documents]\n",
    "            ngram_model_lst.append(Phraser(Phrases(documents,min_count=min_c, threshold=th)))\n",
    "\n",
    "    # we apply the bigram model to our documents\n",
    "    return ngram_model_lst\n",
    "\n",
    "\n",
    "\n",
    "def lemma(nlp: English, texts: List[List[str]], allowed_postags: List = None) -> List[List[str]]:\n",
    "    if allowed_postags is None:\n",
    "        allowed_postags = ['NOUN', 'ADJ', 'VERB', 'ADV']\n",
    "\n",
    "    \"\"\"https://spacy.io/api/annotation\"\"\"\n",
    "    texts_out = []\n",
    "    pbar=tqdm.tqdm(range(len(texts)))\n",
    "    pbar.set_description('Lemmatization')\n",
    "    for i in pbar: \n",
    "    #for sent in texts:\n",
    "        doc = nlp(\" \".join(texts[i]),disable=['parser','ner'])\n",
    "        texts_out.append([token.lemma_ for token in doc if token.pos_ in allowed_postags])\n",
    "    return texts_out\n",
    "\n",
    "def tokenize(stopwords,lemmatization,ngrams,documents: List[str], ngram_model_lst) -> List[List[str]]:\n",
    "\n",
    "    document_words = sentences_to_words(documents)\n",
    "    if lemmatization:\n",
    "        document_words = lemma(nlp, document_words)\n",
    "    if stopwords:\n",
    "        document_words = remove_stopwords(document_words)\n",
    "    if ngrams:\n",
    "        document_words = create_ngrams(ngram_model_lst, document_words)\n",
    "    return document_words\n",
    "\n",
    "def train_tokenize(stopwords,lemmatization,documents: List[str]) -> List[List[str]]:\n",
    "\n",
    "    document_words = sentences_to_words(documents)\n",
    "    if lemmatization:\n",
    "        document_words = lemma(nlp, document_words)\n",
    "    if stopwords:\n",
    "        document_words = remove_stopwords(document_words)\n",
    "\n",
    "\n",
    "    return document_words\n",
    "\n",
    "def create_dictionary(documents: List[List[str]]):\n",
    "    return Dictionary(documents)\n",
    "\n",
    "\n",
    "\n",
    "class NB_sentiment_analysis():\n",
    "    def __init__(self,**kwargs):\n",
    "        #definicion de Hyperparametros\n",
    "        self.ngrams = kwargs.get('ngrams', True)\n",
    "        self.stopwords = kwargs.get('stopwords', True)\n",
    "        self.lemmatization = kwargs.get('lemmatization', True)        \n",
    "        self.n = kwargs.get('n', 2)\n",
    "        self.ngram_mincount = kwargs.get('ngram_mincount', 5)\n",
    "        self.ngram_th = kwargs.get('ngram_th', 10)        \n",
    "        #variables auxiliares\n",
    "        self.ngram_model_lst=[]\n",
    "        \n",
    "    def fit(self,train_POS,train_NEG,verbose=False):\n",
    "        print(datetime.now())\n",
    "\n",
    "        if self.ngrams:\n",
    "            self.ngram_model_lst=learn_ngrams(self.n,self.ngram_mincount,self.ngram_th,train_POS+train_NEG)\n",
    "            print('Negative class N-grams')\n",
    "            tokenized_NEG = create_ngrams(self.ngram_model_lst, train_NEG)\n",
    "            print('Positive class N-grams')\n",
    "            tokenized_POS = create_ngrams(self.ngram_model_lst, train_POS)\n",
    "        else:\n",
    "            tokenized_NEG=train_NEG\n",
    "            tokenized_POS=train_POS\n",
    "            \n",
    "        positive_words = [item for sublist in tokenized_POS for item in sublist]\n",
    "        negative_words = [item for sublist in tokenized_NEG for item in sublist]\n",
    "        self.dictionary = create_dictionary([negative_words, positive_words])\n",
    "        positive_bow = self.dictionary.doc2bow(positive_words) \n",
    "        negative_bow = self.dictionary.doc2bow(negative_words)\n",
    "        total_negative_words = len(negative_words) + len(self.dictionary)\n",
    "        total_positive_words = len(positive_words) + len(self.dictionary)\n",
    "        self.negative_word_probs = {}\n",
    "        for id, count in negative_bow:\n",
    "            self.negative_word_probs[self.dictionary[id]] = {\n",
    "                'id': id,\n",
    "                'logprob': np.log((count + 1)/total_negative_words),\n",
    "                }\n",
    "        self.negative_word_probs = defaultdict(lambda: {'id': -1,'logprob': np.log(1/total_negative_words)}, self.negative_word_probs)\n",
    "\n",
    "        self.positive_word_probs = {}\n",
    "        for id, count in positive_bow:\n",
    "            self.positive_word_probs[self.dictionary[id]] = {\n",
    "                'id': id,\n",
    "                'logprob': np.log((count + 1)/total_positive_words),\n",
    "            }\n",
    "        self.positive_word_probs = defaultdict(lambda: {'id': -1,'logprob': np.log(1/total_positive_words)}, self.positive_word_probs)\n",
    "        \n",
    "        self.negative_prob = np.log(len(negative_words) / (len(negative_words) + len(positive_words)))\n",
    "        self.positive_prob = np.log(len(positive_words) / (len(negative_words) + len(positive_words)))\n",
    "        print(datetime.now())\n",
    "    \n",
    "    def predict(self,document):\n",
    "        doc=[document]\n",
    "        tokenized_doc=tokenize(self.stopwords,self.lemmatization,self.ngrams,doc, self.ngram_model_lst)\n",
    "        pos_prob=self.positive_prob\n",
    "        neg_prob=self.negative_prob\n",
    "        for token in tokenized_doc[0]:\n",
    "            pos_prob+=self.positive_word_probs[token]['logprob']\n",
    "            neg_prob+=self.negative_word_probs[token]['logprob']   \n",
    "        if pos_prob > neg_prob:\n",
    "            sentiment=Sentiments.POS\n",
    "        else:\n",
    "            sentiment=Sentiments.NEG\n",
    "        return sentiment\n",
    "    \n",
    "    def val_test(self,pos,neg):\n",
    "        if self.ngrams:\n",
    "            tokenized_POS=create_ngrams(self.ngram_model_lst, pos)\n",
    "            tokenized_NEG=create_ngrams(self.ngram_model_lst, neg)\n",
    "        else:\n",
    "            tokenized_NEG=neg\n",
    "            tokenized_POS=pos\n",
    "        tp=0\n",
    "        fp=0\n",
    "        tn=0\n",
    "        fn=0\n",
    "        pos_prob=self.positive_prob\n",
    "        neg_prob=self.negative_prob\n",
    "        pbar=tqdm.tqdm(range(len(tokenized_POS)))\n",
    "        pbar.set_description('Positive Validation/Test')\n",
    "        for i in pbar:\n",
    "            for token in tokenized_POS[i]:\n",
    "                pos_prob+=self.positive_word_probs[token]['logprob']\n",
    "                neg_prob+=self.negative_word_probs[token]['logprob']   \n",
    "            if pos_prob > neg_prob:                    \n",
    "                tp+=1\n",
    "            else:\n",
    "                fn+=1\n",
    "        pbar=tqdm.tqdm(range(len(tokenized_NEG)))\n",
    "        pbar.set_description('Negative Validation/Test')\n",
    "        pos_prob=self.positive_prob\n",
    "        neg_prob=self.negative_prob\n",
    "        for i in pbar:\n",
    "            for token in tokenized_NEG[i]:\n",
    "                pos_prob+=self.positive_word_probs[token]['logprob']\n",
    "                neg_prob+=self.negative_word_probs[token]['logprob']   \n",
    "            if pos_prob > neg_prob:                    \n",
    "                fp+=1\n",
    "            else:\n",
    "                tn+=1\n",
    "        acc=(tp+tn)/(tp+tn+fp+fn)\n",
    "        precision=tp/(tp+fp)\n",
    "        recall= tp/(tp+fn)\n",
    "        f1=2*precision*recall/(precision+ recall)\n",
    "        fpr=fp/(fp+tn)\n",
    "        fnr=fn/(tp+fn)\n",
    "        self.metrics={'accuracy': acc, 'precision': precision, 'recall' :recall, 'F1': f1 ,'False Positive Rate':fpr,'False Negative Rate':fnr}\n",
    "        return tp,tn,fp,fn            \n",
    "                    "
   ]
  },
  {
   "cell_type": "markdown",
   "id": "cbbbbfe6",
   "metadata": {},
   "source": [
    "## Seleccion de hyperparametros\n",
    "Seleccionamos los siguientes Hyperparametros con sus posibles valores"
   ]
  },
  {
   "cell_type": "code",
   "execution_count": null,
   "id": "9fbd68b8",
   "metadata": {},
   "outputs": [],
   "source": [
    "stopwords=[True,False]\n",
    "lemmatization=[True,False]\n",
    "ngrams=[True,False]\n",
    "n=[2,3,4]\n",
    "ngrams_mincount=[5,10,15,20]\n",
    "ngrams_th=[10,15,20,25]"
   ]
  },
  {
   "cell_type": "markdown",
   "id": "143cd223",
   "metadata": {},
   "source": [
    "Para poder hacer mas sencilla y rapida la iteracion de estos hyperparametros, generamos los siguientes cuatro sets de datos, combinando los valores de Hyperparametros stopwords y lemmatization, y los guardamos en la carpeta **data/interim** para luego poder cargarlos sin tener que generarlos de nuevo:\n",
    "\n",
    "Generacion de Datos Lematizados sin stopwords"
   ]
  },
  {
   "cell_type": "code",
   "execution_count": 20,
   "id": "64700b80",
   "metadata": {},
   "outputs": [
    {
     "name": "stderr",
     "output_type": "stream",
     "text": [
      "Sentences to Words: 100%|██████████| 13738/13738 [00:03<00:00, 4192.78it/s]\n",
      "Lemmatization:   0%|          | 0/13738 [00:00<?, ?it/s]C:\\Users\\Ax\\anaconda3\\lib\\site-packages\\torch\\autocast_mode.py:162: UserWarning: User provided device_type of 'cuda', but CUDA is not available. Disabling\n",
      "  warnings.warn('User provided device_type of \\'cuda\\', but CUDA is not available. Disabling')\n",
      "Lemmatization: 100%|██████████| 13738/13738 [52:00<00:00,  4.40it/s] \n",
      "Remove StopWords: 100%|██████████| 13738/13738 [00:04<00:00, 2806.29it/s]\n",
      "Sentences to Words: 100%|██████████| 1944/1944 [00:00<00:00, 4033.76it/s]\n",
      "Lemmatization: 100%|██████████| 1944/1944 [09:38<00:00,  3.36it/s]\n",
      "Remove StopWords: 100%|██████████| 1944/1944 [00:00<00:00, 2592.17it/s]\n"
     ]
    }
   ],
   "source": [
    "df = pd.read_csv('data/raw/reviews.csv')\n",
    "df['rating'] = df['rating'].astype(dtype='int64')\n",
    "df['sentiment'] = df['rating'].apply(lambda x: Sentiments.POS if x >= 40 else Sentiments.NEG)\n",
    "review_classes = {sentiment.value: df[df['sentiment'] == sentiment]['review'].values.tolist() for sentiment in Sentiments}\n",
    "positive_reviews = review_classes['POS']\n",
    "negative_reviews = review_classes['NEG']\n",
    "positive_tokens=train_tokenize(True,True,positive_reviews)\n",
    "negative_tokens=train_tokenize(True,True,negative_reviews)\n",
    "split_neg=split_data(negative_tokens)\n",
    "split_pos=split_data(positive_tokens)\n",
    "with open(r\"data/interim/split_pos_lemma_wo_sw.pkl\", \"wb\") as output_file:\n",
    "    pickle.dump(split_pos, output_file)\n",
    "\n",
    "with open(r\"data/interim/split_neg_lemma_wo_sw.pkl\", \"wb\") as output_file:\n",
    "    pickle.dump(split_neg, output_file)"
   ]
  },
  {
   "cell_type": "markdown",
   "id": "08eabf66",
   "metadata": {},
   "source": [
    "Generacion de Datos Lematizados con stopwords"
   ]
  },
  {
   "cell_type": "code",
   "execution_count": 86,
   "id": "8af12279",
   "metadata": {},
   "outputs": [
    {
     "name": "stderr",
     "output_type": "stream",
     "text": [
      "Sentences to Words: 100%|██████████| 13738/13738 [00:02<00:00, 4899.96it/s]\n",
      "Lemmatization:   0%|          | 0/13738 [00:00<?, ?it/s]C:\\Users\\Ax\\anaconda3\\lib\\site-packages\\torch\\autocast_mode.py:162: UserWarning: User provided device_type of 'cuda', but CUDA is not available. Disabling\n",
      "  warnings.warn('User provided device_type of \\'cuda\\', but CUDA is not available. Disabling')\n",
      "Lemmatization: 100%|██████████| 13738/13738 [59:15<00:00,  3.86it/s]    \n",
      "Sentences to Words: 100%|██████████| 1944/1944 [00:00<00:00, 3751.72it/s]\n",
      "Lemmatization: 100%|██████████| 1944/1944 [09:40<00:00,  3.35it/s]\n"
     ]
    }
   ],
   "source": [
    "df = pd.read_csv('data/raw/reviews.csv')\n",
    "df['rating'] = df['rating'].astype(dtype='int64')\n",
    "df['sentiment'] = df['rating'].apply(lambda x: Sentiments.POS if x >= 40 else Sentiments.NEG)\n",
    "review_classes = {sentiment.value: df[df['sentiment'] == sentiment]['review'].values.tolist() for sentiment in Sentiments}\n",
    "positive_reviews = review_classes['POS']\n",
    "negative_reviews = review_classes['NEG']\n",
    "positive_tokens=train_tokenize(False,True,positive_reviews)\n",
    "negative_tokens=train_tokenize(False,True,negative_reviews)\n",
    "split_neg=split_data(negative_tokens)\n",
    "split_pos=split_data(positive_tokens)\n",
    "\n",
    "with open(r\"data/interim/split_pos_lemma.pkl\", \"wb\") as output_file:\n",
    "    pickle.dump(split_pos, output_file)\n",
    "\n",
    "with open(r\"data/interim/split_neg_lemma.pkl\", \"wb\") as output_file:\n",
    "    pickle.dump(split_neg, output_file)"
   ]
  },
  {
   "cell_type": "markdown",
   "id": "484ca04c",
   "metadata": {},
   "source": [
    "Generacion de Datos no Lematizados con stopwords"
   ]
  },
  {
   "cell_type": "code",
   "execution_count": 85,
   "id": "106bc87f",
   "metadata": {},
   "outputs": [
    {
     "name": "stderr",
     "output_type": "stream",
     "text": [
      "Sentences to Words: 100%|██████████| 13738/13738 [00:02<00:00, 4919.00it/s]\n",
      "Sentences to Words: 100%|██████████| 1944/1944 [00:00<00:00, 4238.32it/s]\n"
     ]
    }
   ],
   "source": [
    "df = pd.read_csv('data/raw/reviews.csv')\n",
    "df['rating'] = df['rating'].astype(dtype='int64')\n",
    "df['sentiment'] = df['rating'].apply(lambda x: Sentiments.POS if x >= 40 else Sentiments.NEG)\n",
    "review_classes = {sentiment.value: df[df['sentiment'] == sentiment]['review'].values.tolist() for sentiment in Sentiments}\n",
    "positive_reviews = review_classes['POS']\n",
    "negative_reviews = review_classes['NEG']\n",
    "positive_tokens=train_tokenize(False,False,positive_reviews)\n",
    "negative_tokens=train_tokenize(False,False,negative_reviews)\n",
    "split_neg=split_data(negative_tokens)\n",
    "split_pos=split_data(positive_tokens)\n",
    "\n",
    "with open(r\"data/interim/split_pos.pkl\", \"wb\") as output_file:\n",
    "    pickle.dump(split_pos, output_file)\n",
    "\n",
    "with open(r\"data/interim/split_neg.pkl\", \"wb\") as output_file:\n",
    "    pickle.dump(split_neg, output_file)"
   ]
  },
  {
   "cell_type": "markdown",
   "id": "fb909d89",
   "metadata": {},
   "source": [
    "Generacion de Datos no Lematizados sin stopwords"
   ]
  },
  {
   "cell_type": "code",
   "execution_count": 84,
   "id": "c2fd156c",
   "metadata": {
    "scrolled": true
   },
   "outputs": [
    {
     "name": "stderr",
     "output_type": "stream",
     "text": [
      "Sentences to Words: 100%|██████████| 13738/13738 [00:02<00:00, 4810.60it/s]\n",
      "Remove StopWords: 100%|██████████| 13738/13738 [00:05<00:00, 2487.97it/s]\n",
      "Sentences to Words: 100%|██████████| 1944/1944 [00:00<00:00, 4144.11it/s]\n",
      "Remove StopWords: 100%|██████████| 1944/1944 [00:00<00:00, 2306.90it/s]\n"
     ]
    }
   ],
   "source": [
    "df = pd.read_csv('data/raw/reviews.csv')\n",
    "df['rating'] = df['rating'].astype(dtype='int64')\n",
    "df['sentiment'] = df['rating'].apply(lambda x: Sentiments.POS if x >= 40 else Sentiments.NEG)\n",
    "review_classes = {sentiment.value: df[df['sentiment'] == sentiment]['review'].values.tolist() for sentiment in Sentiments}\n",
    "positive_reviews = review_classes['POS']\n",
    "negative_reviews = review_classes['NEG']\n",
    "positive_tokens=train_tokenize(True,False,positive_reviews)\n",
    "negative_tokens=train_tokenize(True,False,negative_reviews)\n",
    "split_neg=split_data(negative_tokens)\n",
    "split_pos=split_data(positive_tokens)\n",
    "\n",
    "with open(r\"data/interim/split_pos_wo_sw.pkl\", \"wb\") as output_file:\n",
    "    pickle.dump(split_pos, output_file)\n",
    "\n",
    "with open(r\"data/interim/split_neg_wo_sw.pkl\", \"wb\") as output_file:\n",
    "    pickle.dump(split_neg, output_file)"
   ]
  },
  {
   "cell_type": "markdown",
   "id": "6b559be5",
   "metadata": {},
   "source": [
    "Carga de datasets"
   ]
  },
  {
   "cell_type": "code",
   "execution_count": 92,
   "id": "bd00228b",
   "metadata": {},
   "outputs": [],
   "source": [
    "positive_docs=[]\n",
    "negative_docs=[]\n",
    "with open(r\"data/interim/split_pos_lemma_wo_sw.pkl\", \"rb\") as input_file:\n",
    "    positive_docs.append(pickle.load(input_file))\n",
    "with open(r\"data/interim/split_neg_lemma_wo_sw.pkl\", \"rb\") as input_file:\n",
    "    negative_docs.append(pickle.load(input_file))\n",
    "    \n",
    "with open(r\"data/interim/split_pos_lemma.pkl\", \"rb\") as input_file:\n",
    "    positive_docs.append(pickle.load(input_file))\n",
    "with open(r\"data/interim/split_neg_lemma.pkl\", \"rb\") as input_file:\n",
    "    negative_docs.append(pickle.load(input_file))\n",
    "    \n",
    "with open(r\"data/interim/split_pos.pkl\", \"rb\") as input_file:\n",
    "    positive_docs.append(pickle.load(input_file))\n",
    "with open(r\"data/interim/split_neg.pkl\", \"rb\") as input_file:\n",
    "    negative_docs.append(pickle.load(input_file))\n",
    "\n",
    "with open(r\"data/interim/split_pos_wo_sw.pkl\", \"rb\") as input_file:\n",
    "    positive_docs.append(pickle.load(input_file))\n",
    "with open(r\"data/interim/split_neg_wo_sw.pkl\", \"rb\") as input_file:\n",
    "    negative_docs.append(pickle.load(input_file))\n",
    "\n",
    "    \n",
    "hp_key={0:{'lemma':True,'stopwords':True},1:{'lemma':True,'stopwords':False},2:{'lemma':False,'stopwords':False},3:{'lemma':False,'stopwords':True}}"
   ]
  },
  {
   "cell_type": "markdown",
   "id": "8c0457a2",
   "metadata": {},
   "source": [
    "Prueba de Hyperparametros para mejor modelo"
   ]
  },
  {
   "cell_type": "code",
   "execution_count": 109,
   "id": "9abd0a38",
   "metadata": {
    "scrolled": false
   },
   "outputs": [
    {
     "name": "stdout",
     "output_type": "stream",
     "text": [
      "2022-07-04 23:39:37.568738\n",
      "2022-07-04 23:39:37.940450\n"
     ]
    },
    {
     "name": "stderr",
     "output_type": "stream",
     "text": [
      "Positive Validation/Test: 100%|██████████| 2072/2072 [00:00<00:00, 29363.40it/s]\n",
      "Negative Validation/Test: 100%|██████████| 309/309 [00:00<00:00, 61893.02it/s]"
     ]
    },
    {
     "name": "stdout",
     "output_type": "stream",
     "text": [
      "2022-07-04 23:39:38.030764\n"
     ]
    },
    {
     "name": "stderr",
     "output_type": "stream",
     "text": [
      "\n"
     ]
    },
    {
     "name": "stdout",
     "output_type": "stream",
     "text": [
      "2022-07-04 23:39:38.422597\n"
     ]
    },
    {
     "name": "stderr",
     "output_type": "stream",
     "text": [
      "Positive Validation/Test: 100%|██████████| 2088/2088 [00:00<00:00, 29824.33it/s]\n",
      "Negative Validation/Test: 100%|██████████| 279/279 [00:00<00:00, 21039.39it/s]"
     ]
    },
    {
     "name": "stdout",
     "output_type": "stream",
     "text": [
      "2022-07-04 23:39:38.512870\n"
     ]
    },
    {
     "name": "stderr",
     "output_type": "stream",
     "text": [
      "\n"
     ]
    },
    {
     "name": "stdout",
     "output_type": "stream",
     "text": [
      "2022-07-04 23:39:39.254619\n"
     ]
    },
    {
     "name": "stderr",
     "output_type": "stream",
     "text": [
      "Positive Validation/Test: 100%|██████████| 2087/2087 [00:00<00:00, 17510.56it/s]\n",
      "Negative Validation/Test: 100%|██████████| 287/287 [00:00<00:00, 12864.31it/s]"
     ]
    },
    {
     "name": "stdout",
     "output_type": "stream",
     "text": [
      "2022-07-04 23:39:39.419194\n"
     ]
    },
    {
     "name": "stderr",
     "output_type": "stream",
     "text": [
      "\n"
     ]
    },
    {
     "name": "stdout",
     "output_type": "stream",
     "text": [
      "2022-07-04 23:39:39.885850\n"
     ]
    },
    {
     "name": "stderr",
     "output_type": "stream",
     "text": [
      "Positive Validation/Test: 100%|██████████| 1978/1978 [00:00<00:00, 26375.41it/s]\n",
      "Negative Validation/Test: 100%|██████████| 332/332 [00:00<00:00, 19530.83it/s]"
     ]
    },
    {
     "name": "stdout",
     "output_type": "stream",
     "text": [
      "2022-07-04 23:39:39.995847\n",
      "learning N-grams\n"
     ]
    },
    {
     "name": "stderr",
     "output_type": "stream",
     "text": [
      "\n"
     ]
    },
    {
     "name": "stdout",
     "output_type": "stream",
     "text": [
      "Negative class N-grams\n"
     ]
    },
    {
     "name": "stderr",
     "output_type": "stream",
     "text": [
      "Create N-grams: 100%|██████████| 1/1 [00:00<00:00, 14.19it/s]\n"
     ]
    },
    {
     "name": "stdout",
     "output_type": "stream",
     "text": [
      "Positive class N-grams\n"
     ]
    },
    {
     "name": "stderr",
     "output_type": "stream",
     "text": [
      "Create N-grams: 100%|██████████| 1/1 [00:00<00:00,  2.47it/s]\n"
     ]
    },
    {
     "name": "stdout",
     "output_type": "stream",
     "text": [
      "2022-07-04 23:39:41.935334\n"
     ]
    },
    {
     "name": "stderr",
     "output_type": "stream",
     "text": [
      "Create N-grams: 100%|██████████| 1/1 [00:00<00:00, 10.85it/s]\n",
      "Create N-grams: 100%|██████████| 1/1 [00:00<00:00, 39.04it/s]\n",
      "Positive Validation/Test: 100%|██████████| 2072/2072 [00:00<00:00, 32889.78it/s]\n",
      "Negative Validation/Test: 100%|██████████| 309/309 [00:00<00:00, 23772.26it/s]\n"
     ]
    },
    {
     "name": "stdout",
     "output_type": "stream",
     "text": [
      "2022-07-04 23:39:42.155748\n",
      "learning N-grams\n",
      "Negative class N-grams\n"
     ]
    },
    {
     "name": "stderr",
     "output_type": "stream",
     "text": [
      "Create N-grams: 100%|██████████| 1/1 [00:00<00:00, 11.68it/s]\n"
     ]
    },
    {
     "name": "stdout",
     "output_type": "stream",
     "text": [
      "Positive class N-grams\n"
     ]
    },
    {
     "name": "stderr",
     "output_type": "stream",
     "text": [
      "Create N-grams: 100%|██████████| 1/1 [00:00<00:00,  2.54it/s]\n"
     ]
    },
    {
     "name": "stdout",
     "output_type": "stream",
     "text": [
      "2022-07-04 23:39:44.076888\n"
     ]
    },
    {
     "name": "stderr",
     "output_type": "stream",
     "text": [
      "Create N-grams: 100%|██████████| 1/1 [00:00<00:00, 11.23it/s]\n",
      "Create N-grams: 100%|██████████| 1/1 [00:00<00:00, 58.85it/s]\n",
      "Positive Validation/Test: 100%|██████████| 2072/2072 [00:00<00:00, 33419.21it/s]\n",
      "Negative Validation/Test: 100%|██████████| 309/309 [00:00<00:00, 25775.94it/s]\n"
     ]
    },
    {
     "name": "stdout",
     "output_type": "stream",
     "text": [
      "2022-07-04 23:39:44.302789\n",
      "learning N-grams\n",
      "Negative class N-grams\n"
     ]
    },
    {
     "name": "stderr",
     "output_type": "stream",
     "text": [
      "Create N-grams: 100%|██████████| 1/1 [00:00<00:00, 12.29it/s]\n"
     ]
    },
    {
     "name": "stdout",
     "output_type": "stream",
     "text": [
      "Positive class N-grams\n"
     ]
    },
    {
     "name": "stderr",
     "output_type": "stream",
     "text": [
      "Create N-grams: 100%|██████████| 1/1 [00:00<00:00,  2.52it/s]\n"
     ]
    },
    {
     "name": "stdout",
     "output_type": "stream",
     "text": [
      "2022-07-04 23:39:46.234660\n"
     ]
    },
    {
     "name": "stderr",
     "output_type": "stream",
     "text": [
      "Create N-grams: 100%|██████████| 1/1 [00:00<00:00, 11.07it/s]\n",
      "Create N-grams: 100%|██████████| 1/1 [00:00<00:00, 32.99it/s]\n",
      "Positive Validation/Test: 100%|██████████| 2072/2072 [00:00<00:00, 30931.14it/s]\n",
      "Negative Validation/Test: 100%|██████████| 309/309 [00:00<00:00, 25761.59it/s]\n"
     ]
    },
    {
     "name": "stdout",
     "output_type": "stream",
     "text": [
      "2022-07-04 23:39:46.460961\n",
      "learning N-grams\n",
      "Negative class N-grams\n"
     ]
    },
    {
     "name": "stderr",
     "output_type": "stream",
     "text": [
      "Create N-grams: 100%|██████████| 1/1 [00:00<00:00, 13.97it/s]\n"
     ]
    },
    {
     "name": "stdout",
     "output_type": "stream",
     "text": [
      "Positive class N-grams\n"
     ]
    },
    {
     "name": "stderr",
     "output_type": "stream",
     "text": [
      "Create N-grams: 100%|██████████| 1/1 [00:00<00:00,  2.36it/s]\n"
     ]
    },
    {
     "name": "stdout",
     "output_type": "stream",
     "text": [
      "2022-07-04 23:39:48.407745\n"
     ]
    },
    {
     "name": "stderr",
     "output_type": "stream",
     "text": [
      "Create N-grams: 100%|██████████| 1/1 [00:00<00:00, 10.77it/s]\n",
      "Create N-grams: 100%|██████████| 1/1 [00:00<00:00, 39.30it/s]\n",
      "Positive Validation/Test: 100%|██████████| 2072/2072 [00:00<00:00, 38324.59it/s]\n",
      "Negative Validation/Test: 100%|██████████| 309/309 [00:00<00:00, 10965.64it/s]\n"
     ]
    },
    {
     "name": "stdout",
     "output_type": "stream",
     "text": [
      "2022-07-04 23:39:48.632913\n",
      "learning N-grams\n",
      "Negative class N-grams\n"
     ]
    },
    {
     "name": "stderr",
     "output_type": "stream",
     "text": [
      "Create N-grams: 100%|██████████| 1/1 [00:00<00:00, 14.72it/s]\n"
     ]
    },
    {
     "name": "stdout",
     "output_type": "stream",
     "text": [
      "Positive class N-grams\n"
     ]
    },
    {
     "name": "stderr",
     "output_type": "stream",
     "text": [
      "Create N-grams: 100%|██████████| 1/1 [00:00<00:00,  2.42it/s]\n"
     ]
    },
    {
     "name": "stdout",
     "output_type": "stream",
     "text": [
      "2022-07-04 23:39:50.588874\n"
     ]
    },
    {
     "name": "stderr",
     "output_type": "stream",
     "text": [
      "Create N-grams: 100%|██████████| 1/1 [00:00<00:00, 11.51it/s]\n",
      "Create N-grams: 100%|██████████| 1/1 [00:00<00:00, 39.27it/s]\n",
      "Positive Validation/Test: 100%|██████████| 2072/2072 [00:00<00:00, 33610.62it/s]\n",
      "Negative Validation/Test: 100%|██████████| 309/309 [00:00<00:00, 22072.28it/s]\n"
     ]
    },
    {
     "name": "stdout",
     "output_type": "stream",
     "text": [
      "2022-07-04 23:39:50.800872\n",
      "learning N-grams\n",
      "Negative class N-grams\n"
     ]
    },
    {
     "name": "stderr",
     "output_type": "stream",
     "text": [
      "Create N-grams: 100%|██████████| 1/1 [00:00<00:00, 14.29it/s]\n"
     ]
    },
    {
     "name": "stdout",
     "output_type": "stream",
     "text": [
      "Positive class N-grams\n"
     ]
    },
    {
     "name": "stderr",
     "output_type": "stream",
     "text": [
      "Create N-grams: 100%|██████████| 1/1 [00:00<00:00,  2.44it/s]\n"
     ]
    },
    {
     "name": "stdout",
     "output_type": "stream",
     "text": [
      "2022-07-04 23:39:52.741002\n"
     ]
    },
    {
     "name": "stderr",
     "output_type": "stream",
     "text": [
      "Create N-grams: 100%|██████████| 1/1 [00:00<00:00, 11.16it/s]\n",
      "Create N-grams: 100%|██████████| 1/1 [00:00<00:00, 42.67it/s]\n",
      "Positive Validation/Test: 100%|██████████| 2072/2072 [00:00<00:00, 34534.88it/s]\n",
      "Negative Validation/Test: 100%|██████████| 309/309 [00:00<00:00, 27464.87it/s]\n"
     ]
    },
    {
     "name": "stdout",
     "output_type": "stream",
     "text": [
      "2022-07-04 23:39:52.954895\n",
      "learning N-grams\n",
      "Negative class N-grams\n"
     ]
    },
    {
     "name": "stderr",
     "output_type": "stream",
     "text": [
      "Create N-grams: 100%|██████████| 1/1 [00:00<00:00, 14.78it/s]\n"
     ]
    },
    {
     "name": "stdout",
     "output_type": "stream",
     "text": [
      "Positive class N-grams\n"
     ]
    },
    {
     "name": "stderr",
     "output_type": "stream",
     "text": [
      "Create N-grams: 100%|██████████| 1/1 [00:00<00:00,  2.41it/s]\n"
     ]
    },
    {
     "name": "stdout",
     "output_type": "stream",
     "text": [
      "2022-07-04 23:39:54.911465\n"
     ]
    },
    {
     "name": "stderr",
     "output_type": "stream",
     "text": [
      "Create N-grams: 100%|██████████| 1/1 [00:00<00:00, 10.99it/s]\n",
      "Create N-grams: 100%|██████████| 1/1 [00:00<00:00, 55.57it/s]\n",
      "Positive Validation/Test: 100%|██████████| 2072/2072 [00:00<00:00, 31871.17it/s]\n",
      "Negative Validation/Test: 100%|██████████| 309/309 [00:00<00:00, 22065.51it/s]\n"
     ]
    },
    {
     "name": "stdout",
     "output_type": "stream",
     "text": [
      "2022-07-04 23:39:55.128465\n",
      "learning N-grams\n",
      "Negative class N-grams\n"
     ]
    },
    {
     "name": "stderr",
     "output_type": "stream",
     "text": [
      "Create N-grams: 100%|██████████| 1/1 [00:00<00:00, 14.49it/s]\n"
     ]
    },
    {
     "name": "stdout",
     "output_type": "stream",
     "text": [
      "Positive class N-grams\n"
     ]
    },
    {
     "name": "stderr",
     "output_type": "stream",
     "text": [
      "Create N-grams: 100%|██████████| 1/1 [00:00<00:00,  2.49it/s]\n"
     ]
    },
    {
     "name": "stdout",
     "output_type": "stream",
     "text": [
      "2022-07-04 23:39:57.089771\n"
     ]
    },
    {
     "name": "stderr",
     "output_type": "stream",
     "text": [
      "Create N-grams: 100%|██████████| 1/1 [00:00<00:00, 10.75it/s]\n",
      "Create N-grams: 100%|██████████| 1/1 [00:00<00:00, 48.14it/s]\n",
      "Positive Validation/Test: 100%|██████████| 2072/2072 [00:00<00:00, 30925.96it/s]\n",
      "Negative Validation/Test: 100%|██████████| 309/309 [00:00<00:00, 23765.72it/s]\n"
     ]
    },
    {
     "name": "stdout",
     "output_type": "stream",
     "text": [
      "2022-07-04 23:39:57.308221\n",
      "learning N-grams\n",
      "Negative class N-grams\n"
     ]
    },
    {
     "name": "stderr",
     "output_type": "stream",
     "text": [
      "Create N-grams: 100%|██████████| 1/1 [00:00<00:00, 14.73it/s]\n"
     ]
    },
    {
     "name": "stdout",
     "output_type": "stream",
     "text": [
      "Positive class N-grams\n"
     ]
    },
    {
     "name": "stderr",
     "output_type": "stream",
     "text": [
      "Create N-grams: 100%|██████████| 1/1 [00:00<00:00,  2.24it/s]\n"
     ]
    },
    {
     "name": "stdout",
     "output_type": "stream",
     "text": [
      "2022-07-04 23:39:59.375427\n"
     ]
    },
    {
     "name": "stderr",
     "output_type": "stream",
     "text": [
      "Create N-grams: 100%|██████████| 1/1 [00:00<00:00, 10.80it/s]\n",
      "Create N-grams: 100%|██████████| 1/1 [00:00<00:00, 58.82it/s]\n",
      "Positive Validation/Test: 100%|██████████| 2072/2072 [00:00<00:00, 31876.08it/s]\n",
      "Negative Validation/Test: 100%|██████████| 309/309 [00:00<00:00, 25754.43it/s]\n"
     ]
    },
    {
     "name": "stdout",
     "output_type": "stream",
     "text": [
      "2022-07-04 23:39:59.592040\n",
      "learning N-grams\n",
      "Negative class N-grams\n"
     ]
    },
    {
     "name": "stderr",
     "output_type": "stream",
     "text": [
      "Create N-grams: 100%|██████████| 1/1 [00:00<00:00, 13.72it/s]\n"
     ]
    },
    {
     "name": "stdout",
     "output_type": "stream",
     "text": [
      "Positive class N-grams\n"
     ]
    },
    {
     "name": "stderr",
     "output_type": "stream",
     "text": [
      "Create N-grams: 100%|██████████| 1/1 [00:00<00:00,  2.37it/s]\n"
     ]
    },
    {
     "name": "stdout",
     "output_type": "stream",
     "text": [
      "2022-07-04 23:40:01.558804\n"
     ]
    },
    {
     "name": "stderr",
     "output_type": "stream",
     "text": [
      "Create N-grams: 100%|██████████| 1/1 [00:00<00:00,  9.38it/s]\n",
      "Create N-grams: 100%|██████████| 1/1 [00:00<00:00, 55.55it/s]\n",
      "Positive Validation/Test: 100%|██████████| 2072/2072 [00:00<00:00, 32888.16it/s]\n",
      "Negative Validation/Test: 100%|██████████| 309/309 [00:00<00:00, 23767.90it/s]\n"
     ]
    },
    {
     "name": "stdout",
     "output_type": "stream",
     "text": [
      "2022-07-04 23:40:01.775435\n",
      "learning N-grams\n",
      "Negative class N-grams\n"
     ]
    },
    {
     "name": "stderr",
     "output_type": "stream",
     "text": [
      "Create N-grams: 100%|██████████| 1/1 [00:00<00:00, 13.08it/s]\n"
     ]
    },
    {
     "name": "stdout",
     "output_type": "stream",
     "text": [
      "Positive class N-grams\n"
     ]
    },
    {
     "name": "stderr",
     "output_type": "stream",
     "text": [
      "Create N-grams: 100%|██████████| 1/1 [00:00<00:00,  2.38it/s]\n"
     ]
    },
    {
     "name": "stdout",
     "output_type": "stream",
     "text": [
      "2022-07-04 23:40:03.761540\n"
     ]
    },
    {
     "name": "stderr",
     "output_type": "stream",
     "text": [
      "Create N-grams: 100%|██████████| 1/1 [00:00<00:00,  9.29it/s]\n",
      "Create N-grams: 100%|██████████| 1/1 [00:00<00:00, 55.55it/s]\n",
      "Positive Validation/Test: 100%|██████████| 2072/2072 [00:00<00:00, 27628.32it/s]\n",
      "Negative Validation/Test: 100%|██████████| 309/309 [00:00<00:00, 22072.28it/s]\n"
     ]
    },
    {
     "name": "stdout",
     "output_type": "stream",
     "text": [
      "2022-07-04 23:40:03.990219\n",
      "learning N-grams\n",
      "Negative class N-grams\n"
     ]
    },
    {
     "name": "stderr",
     "output_type": "stream",
     "text": [
      "Create N-grams: 100%|██████████| 1/1 [00:00<00:00, 10.65it/s]\n"
     ]
    },
    {
     "name": "stdout",
     "output_type": "stream",
     "text": [
      "Positive class N-grams\n"
     ]
    },
    {
     "name": "stderr",
     "output_type": "stream",
     "text": [
      "Create N-grams: 100%|██████████| 1/1 [00:00<00:00,  1.20it/s]\n"
     ]
    },
    {
     "name": "stdout",
     "output_type": "stream",
     "text": [
      "2022-07-04 23:40:06.459552\n"
     ]
    },
    {
     "name": "stderr",
     "output_type": "stream",
     "text": [
      "Create N-grams: 100%|██████████| 1/1 [00:00<00:00, 10.31it/s]\n",
      "Create N-grams: 100%|██████████| 1/1 [00:00<00:00, 58.83it/s]\n",
      "Positive Validation/Test: 100%|██████████| 2072/2072 [00:00<00:00, 30029.50it/s]\n",
      "Negative Validation/Test: 100%|██████████| 309/309 [00:00<00:00, 25745.22it/s]\n"
     ]
    },
    {
     "name": "stdout",
     "output_type": "stream",
     "text": [
      "2022-07-04 23:40:06.685164\n",
      "learning N-grams\n",
      "Negative class N-grams\n"
     ]
    },
    {
     "name": "stderr",
     "output_type": "stream",
     "text": [
      "Create N-grams: 100%|██████████| 1/1 [00:00<00:00, 13.11it/s]\n"
     ]
    },
    {
     "name": "stdout",
     "output_type": "stream",
     "text": [
      "Positive class N-grams\n"
     ]
    },
    {
     "name": "stderr",
     "output_type": "stream",
     "text": [
      "Create N-grams: 100%|██████████| 1/1 [00:00<00:00,  2.33it/s]\n"
     ]
    },
    {
     "name": "stdout",
     "output_type": "stream",
     "text": [
      "2022-07-04 23:40:08.686531\n"
     ]
    },
    {
     "name": "stderr",
     "output_type": "stream",
     "text": [
      "Create N-grams: 100%|██████████| 1/1 [00:00<00:00, 10.28it/s]\n",
      "Create N-grams: 100%|██████████| 1/1 [00:00<00:00, 58.83it/s]\n",
      "Positive Validation/Test: 100%|██████████| 2072/2072 [00:00<00:00, 30470.87it/s]\n",
      "Negative Validation/Test: 100%|██████████| 309/309 [00:00<00:00, 23767.47it/s]\n"
     ]
    },
    {
     "name": "stdout",
     "output_type": "stream",
     "text": [
      "2022-07-04 23:40:08.915486\n",
      "learning N-grams\n",
      "Negative class N-grams\n"
     ]
    },
    {
     "name": "stderr",
     "output_type": "stream",
     "text": [
      "Create N-grams: 100%|██████████| 1/1 [00:00<00:00, 11.86it/s]\n"
     ]
    },
    {
     "name": "stdout",
     "output_type": "stream",
     "text": [
      "Positive class N-grams\n"
     ]
    },
    {
     "name": "stderr",
     "output_type": "stream",
     "text": [
      "Create N-grams: 100%|██████████| 1/1 [00:00<00:00,  2.29it/s]\n"
     ]
    },
    {
     "name": "stdout",
     "output_type": "stream",
     "text": [
      "2022-07-04 23:40:10.939291\n"
     ]
    },
    {
     "name": "stderr",
     "output_type": "stream",
     "text": [
      "Create N-grams: 100%|██████████| 1/1 [00:00<00:00,  9.78it/s]\n",
      "Create N-grams: 100%|██████████| 1/1 [00:00<00:00, 50.00it/s]\n",
      "Positive Validation/Test: 100%|██████████| 2072/2072 [00:00<00:00, 32374.33it/s]\n",
      "Negative Validation/Test: 100%|██████████| 309/309 [00:00<00:00, 25744.19it/s]\n"
     ]
    },
    {
     "name": "stdout",
     "output_type": "stream",
     "text": [
      "2022-07-04 23:40:11.169172\n",
      "learning N-grams\n",
      "Negative class N-grams\n"
     ]
    },
    {
     "name": "stderr",
     "output_type": "stream",
     "text": [
      "Create N-grams: 100%|██████████| 1/1 [00:00<00:00, 11.43it/s]\n"
     ]
    },
    {
     "name": "stdout",
     "output_type": "stream",
     "text": [
      "Positive class N-grams\n"
     ]
    },
    {
     "name": "stderr",
     "output_type": "stream",
     "text": [
      "Create N-grams: 100%|██████████| 1/1 [00:00<00:00,  2.33it/s]\n"
     ]
    },
    {
     "name": "stdout",
     "output_type": "stream",
     "text": [
      "2022-07-04 23:40:13.200239\n"
     ]
    },
    {
     "name": "stderr",
     "output_type": "stream",
     "text": [
      "Create N-grams: 100%|██████████| 1/1 [00:00<00:00, 10.04it/s]\n",
      "Create N-grams: 100%|██████████| 1/1 [00:00<00:00, 55.55it/s]\n",
      "Positive Validation/Test: 100%|██████████| 2072/2072 [00:00<00:00, 32375.90it/s]\n",
      "Negative Validation/Test: 100%|██████████| 309/309 [00:00<00:00, 25748.29it/s]\n"
     ]
    },
    {
     "name": "stdout",
     "output_type": "stream",
     "text": [
      "2022-07-04 23:40:13.426477\n",
      "learning N-grams\n",
      "Negative class N-grams\n"
     ]
    },
    {
     "name": "stderr",
     "output_type": "stream",
     "text": [
      "Create N-grams: 100%|██████████| 1/1 [00:00<00:00, 16.14it/s]\n"
     ]
    },
    {
     "name": "stdout",
     "output_type": "stream",
     "text": [
      "Positive class N-grams\n"
     ]
    },
    {
     "name": "stderr",
     "output_type": "stream",
     "text": [
      "Create N-grams: 100%|██████████| 1/1 [00:00<00:00,  2.34it/s]\n"
     ]
    },
    {
     "name": "stdout",
     "output_type": "stream",
     "text": [
      "2022-07-04 23:40:15.404810\n"
     ]
    },
    {
     "name": "stderr",
     "output_type": "stream",
     "text": [
      "Create N-grams: 100%|██████████| 1/1 [00:00<00:00,  9.60it/s]\n",
      "Create N-grams: 100%|██████████| 1/1 [00:00<00:00, 50.08it/s]\n",
      "Positive Validation/Test: 100%|██████████| 2072/2072 [00:00<00:00, 32849.87it/s]\n",
      "Negative Validation/Test: 100%|██████████| 309/309 [00:00<00:00, 20596.58it/s]\n"
     ]
    },
    {
     "name": "stdout",
     "output_type": "stream",
     "text": [
      "2022-07-04 23:40:15.634612\n",
      "learning N-grams\n",
      "Negative class N-grams\n"
     ]
    },
    {
     "name": "stderr",
     "output_type": "stream",
     "text": [
      "Create N-grams: 100%|██████████| 2/2 [00:00<00:00, 13.82it/s]\n"
     ]
    },
    {
     "name": "stdout",
     "output_type": "stream",
     "text": [
      "Positive class N-grams\n"
     ]
    },
    {
     "name": "stderr",
     "output_type": "stream",
     "text": [
      "Create N-grams: 100%|██████████| 2/2 [00:00<00:00,  2.31it/s]\n"
     ]
    },
    {
     "name": "stdout",
     "output_type": "stream",
     "text": [
      "2022-07-04 23:40:19.657331\n"
     ]
    },
    {
     "name": "stderr",
     "output_type": "stream",
     "text": [
      "Create N-grams: 100%|██████████| 2/2 [00:00<00:00, 10.83it/s]\n",
      "Create N-grams: 100%|██████████| 2/2 [00:00<00:00, 60.61it/s]\n",
      "Positive Validation/Test: 100%|██████████| 2072/2072 [00:00<00:00, 30471.30it/s]\n",
      "Negative Validation/Test: 100%|██████████| 309/309 [00:00<00:00, 18181.87it/s]\n"
     ]
    },
    {
     "name": "stdout",
     "output_type": "stream",
     "text": [
      "2022-07-04 23:40:19.997090\n",
      "learning N-grams\n",
      "Negative class N-grams\n"
     ]
    },
    {
     "name": "stderr",
     "output_type": "stream",
     "text": [
      "Create N-grams: 100%|██████████| 2/2 [00:00<00:00, 14.18it/s]\n"
     ]
    },
    {
     "name": "stdout",
     "output_type": "stream",
     "text": [
      "Positive class N-grams\n"
     ]
    },
    {
     "name": "stderr",
     "output_type": "stream",
     "text": [
      "Create N-grams: 100%|██████████| 2/2 [00:00<00:00,  2.38it/s]\n"
     ]
    },
    {
     "name": "stdout",
     "output_type": "stream",
     "text": [
      "2022-07-04 23:40:24.206764\n"
     ]
    },
    {
     "name": "stderr",
     "output_type": "stream",
     "text": [
      "Create N-grams: 100%|██████████| 2/2 [00:00<00:00, 10.20it/s]\n",
      "Create N-grams: 100%|██████████| 2/2 [00:00<00:00, 58.84it/s]\n",
      "Positive Validation/Test: 100%|██████████| 2072/2072 [00:00<00:00, 29599.42it/s]\n",
      "Negative Validation/Test: 100%|██████████| 309/309 [00:00<00:00, 23765.72it/s]\n"
     ]
    },
    {
     "name": "stdout",
     "output_type": "stream",
     "text": [
      "2022-07-04 23:40:24.550422\n",
      "learning N-grams\n",
      "Negative class N-grams\n"
     ]
    },
    {
     "name": "stderr",
     "output_type": "stream",
     "text": [
      "Create N-grams: 100%|██████████| 2/2 [00:00<00:00, 15.38it/s]\n"
     ]
    },
    {
     "name": "stdout",
     "output_type": "stream",
     "text": [
      "Positive class N-grams\n"
     ]
    },
    {
     "name": "stderr",
     "output_type": "stream",
     "text": [
      "Create N-grams: 100%|██████████| 2/2 [00:00<00:00,  2.39it/s]\n"
     ]
    },
    {
     "name": "stdout",
     "output_type": "stream",
     "text": [
      "2022-07-04 23:40:28.600138\n"
     ]
    },
    {
     "name": "stderr",
     "output_type": "stream",
     "text": [
      "Create N-grams: 100%|██████████| 2/2 [00:00<00:00, 10.91it/s]\n",
      "Create N-grams: 100%|██████████| 2/2 [00:00<00:00, 55.55it/s]\n",
      "Positive Validation/Test: 100%|██████████| 2072/2072 [00:00<00:00, 29600.13it/s]\n",
      "Negative Validation/Test: 100%|██████████| 309/309 [00:00<00:00, 22074.91it/s]\n"
     ]
    },
    {
     "name": "stdout",
     "output_type": "stream",
     "text": [
      "2022-07-04 23:40:28.935455\n",
      "learning N-grams\n",
      "Negative class N-grams\n"
     ]
    },
    {
     "name": "stderr",
     "output_type": "stream",
     "text": [
      "Create N-grams: 100%|██████████| 2/2 [00:00<00:00, 13.47it/s]\n"
     ]
    },
    {
     "name": "stdout",
     "output_type": "stream",
     "text": [
      "Positive class N-grams\n"
     ]
    },
    {
     "name": "stderr",
     "output_type": "stream",
     "text": [
      "Create N-grams: 100%|██████████| 2/2 [00:00<00:00,  2.39it/s]\n"
     ]
    },
    {
     "name": "stdout",
     "output_type": "stream",
     "text": [
      "2022-07-04 23:40:32.995767\n"
     ]
    },
    {
     "name": "stderr",
     "output_type": "stream",
     "text": [
      "Create N-grams: 100%|██████████| 2/2 [00:00<00:00, 10.51it/s]\n",
      "Create N-grams: 100%|██████████| 2/2 [00:00<00:00, 60.61it/s]\n",
      "Positive Validation/Test: 100%|██████████| 2072/2072 [00:00<00:00, 31875.38it/s]\n",
      "Negative Validation/Test: 100%|██████████| 309/309 [00:00<00:00, 19313.32it/s]\n"
     ]
    },
    {
     "name": "stdout",
     "output_type": "stream",
     "text": [
      "2022-07-04 23:40:33.325164\n",
      "learning N-grams\n",
      "Negative class N-grams\n"
     ]
    },
    {
     "name": "stderr",
     "output_type": "stream",
     "text": [
      "Create N-grams: 100%|██████████| 2/2 [00:00<00:00, 12.46it/s]\n"
     ]
    },
    {
     "name": "stdout",
     "output_type": "stream",
     "text": [
      "Positive class N-grams\n"
     ]
    },
    {
     "name": "stderr",
     "output_type": "stream",
     "text": [
      "Create N-grams: 100%|██████████| 2/2 [00:00<00:00,  2.29it/s]\n"
     ]
    },
    {
     "name": "stdout",
     "output_type": "stream",
     "text": [
      "2022-07-04 23:40:37.817214\n"
     ]
    },
    {
     "name": "stderr",
     "output_type": "stream",
     "text": [
      "Create N-grams: 100%|██████████| 2/2 [00:00<00:00, 11.02it/s]\n",
      "Create N-grams: 100%|██████████| 2/2 [00:00<00:00, 58.83it/s]\n",
      "Positive Validation/Test: 100%|██████████| 2072/2072 [00:00<00:00, 30469.70it/s]\n",
      "Negative Validation/Test: 100%|██████████| 309/309 [00:00<00:00, 23902.91it/s]\n"
     ]
    },
    {
     "name": "stdout",
     "output_type": "stream",
     "text": [
      "2022-07-04 23:40:38.151961\n",
      "learning N-grams\n",
      "Negative class N-grams\n"
     ]
    },
    {
     "name": "stderr",
     "output_type": "stream",
     "text": [
      "Create N-grams: 100%|██████████| 2/2 [00:00<00:00, 13.39it/s]\n"
     ]
    },
    {
     "name": "stdout",
     "output_type": "stream",
     "text": [
      "Positive class N-grams\n"
     ]
    },
    {
     "name": "stderr",
     "output_type": "stream",
     "text": [
      "Create N-grams: 100%|██████████| 2/2 [00:00<00:00,  2.38it/s]\n"
     ]
    },
    {
     "name": "stdout",
     "output_type": "stream",
     "text": [
      "2022-07-04 23:40:42.283864\n"
     ]
    },
    {
     "name": "stderr",
     "output_type": "stream",
     "text": [
      "Create N-grams: 100%|██████████| 2/2 [00:00<00:00, 11.02it/s]\n",
      "Create N-grams: 100%|██████████| 2/2 [00:00<00:00, 60.61it/s]\n",
      "Positive Validation/Test: 100%|██████████| 2072/2072 [00:00<00:00, 35063.38it/s]\n",
      "Negative Validation/Test: 100%|██████████| 309/309 [00:00<00:00, 15302.44it/s]\n"
     ]
    },
    {
     "name": "stdout",
     "output_type": "stream",
     "text": [
      "2022-07-04 23:40:42.614969\n",
      "learning N-grams\n",
      "Negative class N-grams\n"
     ]
    },
    {
     "name": "stderr",
     "output_type": "stream",
     "text": [
      "Create N-grams: 100%|██████████| 2/2 [00:00<00:00, 14.94it/s]\n"
     ]
    },
    {
     "name": "stdout",
     "output_type": "stream",
     "text": [
      "Positive class N-grams\n"
     ]
    },
    {
     "name": "stderr",
     "output_type": "stream",
     "text": [
      "Create N-grams: 100%|██████████| 2/2 [00:00<00:00,  2.38it/s]\n"
     ]
    },
    {
     "name": "stdout",
     "output_type": "stream",
     "text": [
      "2022-07-04 23:40:46.745057\n"
     ]
    },
    {
     "name": "stderr",
     "output_type": "stream",
     "text": [
      "Create N-grams: 100%|██████████| 2/2 [00:00<00:00, 10.19it/s]\n",
      "Create N-grams: 100%|██████████| 2/2 [00:00<00:00, 60.61it/s]\n",
      "Positive Validation/Test: 100%|██████████| 2072/2072 [00:00<00:00, 36538.61it/s]\n",
      "Negative Validation/Test: 100%|██████████| 309/309 [00:00<00:00, 22982.69it/s]\n"
     ]
    },
    {
     "name": "stdout",
     "output_type": "stream",
     "text": [
      "2022-07-04 23:40:47.086436\n",
      "learning N-grams\n",
      "Negative class N-grams\n"
     ]
    },
    {
     "name": "stderr",
     "output_type": "stream",
     "text": [
      "Create N-grams: 100%|██████████| 2/2 [00:00<00:00, 15.17it/s]\n"
     ]
    },
    {
     "name": "stdout",
     "output_type": "stream",
     "text": [
      "Positive class N-grams\n"
     ]
    },
    {
     "name": "stderr",
     "output_type": "stream",
     "text": [
      "Create N-grams: 100%|██████████| 2/2 [00:00<00:00,  2.48it/s]\n"
     ]
    },
    {
     "name": "stdout",
     "output_type": "stream",
     "text": [
      "2022-07-04 23:40:51.129264\n"
     ]
    },
    {
     "name": "stderr",
     "output_type": "stream",
     "text": [
      "Create N-grams: 100%|██████████| 2/2 [00:00<00:00, 10.91it/s]\n",
      "Create N-grams: 100%|██████████| 2/2 [00:00<00:00, 62.50it/s]\n",
      "Positive Validation/Test: 100%|██████████| 2072/2072 [00:00<00:00, 31876.54it/s]\n",
      "Negative Validation/Test: 100%|██████████| 309/309 [00:00<00:00, 25645.37it/s]\n"
     ]
    },
    {
     "name": "stdout",
     "output_type": "stream",
     "text": [
      "2022-07-04 23:40:51.464440\n",
      "learning N-grams\n",
      "Negative class N-grams\n"
     ]
    },
    {
     "name": "stderr",
     "output_type": "stream",
     "text": [
      "Create N-grams: 100%|██████████| 2/2 [00:00<00:00, 13.87it/s]\n"
     ]
    },
    {
     "name": "stdout",
     "output_type": "stream",
     "text": [
      "Positive class N-grams\n"
     ]
    },
    {
     "name": "stderr",
     "output_type": "stream",
     "text": [
      "Create N-grams: 100%|██████████| 2/2 [00:00<00:00,  2.48it/s]\n"
     ]
    },
    {
     "name": "stdout",
     "output_type": "stream",
     "text": [
      "2022-07-04 23:40:55.477695\n"
     ]
    },
    {
     "name": "stderr",
     "output_type": "stream",
     "text": [
      "Create N-grams: 100%|██████████| 2/2 [00:00<00:00, 10.89it/s]\n",
      "Create N-grams: 100%|██████████| 2/2 [00:00<00:00, 60.61it/s]\n",
      "Positive Validation/Test: 100%|██████████| 2072/2072 [00:00<00:00, 32373.97it/s]\n",
      "Negative Validation/Test: 100%|██████████| 309/309 [00:00<00:00, 25759.03it/s]\n"
     ]
    },
    {
     "name": "stdout",
     "output_type": "stream",
     "text": [
      "2022-07-04 23:40:55.808971\n",
      "learning N-grams\n",
      "Negative class N-grams\n"
     ]
    },
    {
     "name": "stderr",
     "output_type": "stream",
     "text": [
      "Create N-grams: 100%|██████████| 2/2 [00:00<00:00, 14.07it/s]\n"
     ]
    },
    {
     "name": "stdout",
     "output_type": "stream",
     "text": [
      "Positive class N-grams\n"
     ]
    },
    {
     "name": "stderr",
     "output_type": "stream",
     "text": [
      "Create N-grams: 100%|██████████| 2/2 [00:00<00:00,  2.44it/s]\n"
     ]
    },
    {
     "name": "stdout",
     "output_type": "stream",
     "text": [
      "2022-07-04 23:40:59.815087\n"
     ]
    },
    {
     "name": "stderr",
     "output_type": "stream",
     "text": [
      "Create N-grams: 100%|██████████| 2/2 [00:00<00:00, 10.91it/s]\n",
      "Create N-grams: 100%|██████████| 2/2 [00:00<00:00, 55.90it/s]\n",
      "Positive Validation/Test: 100%|██████████| 2072/2072 [00:00<00:00, 30028.15it/s]\n",
      "Negative Validation/Test: 100%|██████████| 309/309 [00:00<00:00, 25228.53it/s]\n"
     ]
    },
    {
     "name": "stdout",
     "output_type": "stream",
     "text": [
      "2022-07-04 23:41:00.142976\n",
      "learning N-grams\n",
      "Negative class N-grams\n"
     ]
    },
    {
     "name": "stderr",
     "output_type": "stream",
     "text": [
      "Create N-grams: 100%|██████████| 2/2 [00:00<00:00, 15.26it/s]\n"
     ]
    },
    {
     "name": "stdout",
     "output_type": "stream",
     "text": [
      "Positive class N-grams\n"
     ]
    },
    {
     "name": "stderr",
     "output_type": "stream",
     "text": [
      "Create N-grams: 100%|██████████| 2/2 [00:00<00:00,  2.43it/s]\n"
     ]
    },
    {
     "name": "stdout",
     "output_type": "stream",
     "text": [
      "2022-07-04 23:41:04.341623\n"
     ]
    },
    {
     "name": "stderr",
     "output_type": "stream",
     "text": [
      "Create N-grams: 100%|██████████| 2/2 [00:00<00:00, 10.76it/s]\n",
      "Create N-grams: 100%|██████████| 2/2 [00:00<00:00, 60.61it/s]\n",
      "Positive Validation/Test: 100%|██████████| 2072/2072 [00:00<00:00, 32373.49it/s]\n",
      "Negative Validation/Test: 100%|██████████| 309/309 [00:00<00:00, 20481.04it/s]\n"
     ]
    },
    {
     "name": "stdout",
     "output_type": "stream",
     "text": [
      "2022-07-04 23:41:04.682749\n",
      "learning N-grams\n",
      "Negative class N-grams\n"
     ]
    },
    {
     "name": "stderr",
     "output_type": "stream",
     "text": [
      "Create N-grams: 100%|██████████| 2/2 [00:00<00:00, 14.44it/s]\n"
     ]
    },
    {
     "name": "stdout",
     "output_type": "stream",
     "text": [
      "Positive class N-grams\n"
     ]
    },
    {
     "name": "stderr",
     "output_type": "stream",
     "text": [
      "Create N-grams: 100%|██████████| 2/2 [00:00<00:00,  2.39it/s]\n"
     ]
    },
    {
     "name": "stdout",
     "output_type": "stream",
     "text": [
      "2022-07-04 23:41:08.709760\n"
     ]
    },
    {
     "name": "stderr",
     "output_type": "stream",
     "text": [
      "Create N-grams: 100%|██████████| 2/2 [00:00<00:00, 10.52it/s]\n",
      "Create N-grams: 100%|██████████| 2/2 [00:00<00:00, 57.14it/s]\n",
      "Positive Validation/Test: 100%|██████████| 2072/2072 [00:00<00:00, 34325.09it/s]\n",
      "Negative Validation/Test: 100%|██████████| 309/309 [00:00<00:00, 12025.98it/s]\n"
     ]
    },
    {
     "name": "stdout",
     "output_type": "stream",
     "text": [
      "2022-07-04 23:41:09.045918\n",
      "learning N-grams\n",
      "Negative class N-grams\n"
     ]
    },
    {
     "name": "stderr",
     "output_type": "stream",
     "text": [
      "Create N-grams: 100%|██████████| 2/2 [00:00<00:00, 13.58it/s]\n"
     ]
    },
    {
     "name": "stdout",
     "output_type": "stream",
     "text": [
      "Positive class N-grams\n"
     ]
    },
    {
     "name": "stderr",
     "output_type": "stream",
     "text": [
      "Create N-grams: 100%|██████████| 2/2 [00:00<00:00,  2.36it/s]\n"
     ]
    },
    {
     "name": "stdout",
     "output_type": "stream",
     "text": [
      "2022-07-04 23:41:13.105724\n"
     ]
    },
    {
     "name": "stderr",
     "output_type": "stream",
     "text": [
      "Create N-grams: 100%|██████████| 2/2 [00:00<00:00, 10.82it/s]\n",
      "Create N-grams: 100%|██████████| 2/2 [00:00<00:00, 60.60it/s]\n",
      "Positive Validation/Test: 100%|██████████| 2072/2072 [00:00<00:00, 31392.13it/s]\n",
      "Negative Validation/Test: 100%|██████████| 309/309 [00:00<00:00, 23189.54it/s]\n"
     ]
    },
    {
     "name": "stdout",
     "output_type": "stream",
     "text": [
      "2022-07-04 23:41:13.435175\n",
      "learning N-grams\n",
      "Negative class N-grams\n"
     ]
    },
    {
     "name": "stderr",
     "output_type": "stream",
     "text": [
      "Create N-grams: 100%|██████████| 2/2 [00:00<00:00, 15.01it/s]\n"
     ]
    },
    {
     "name": "stdout",
     "output_type": "stream",
     "text": [
      "Positive class N-grams\n"
     ]
    },
    {
     "name": "stderr",
     "output_type": "stream",
     "text": [
      "Create N-grams: 100%|██████████| 2/2 [00:00<00:00,  2.49it/s]\n"
     ]
    },
    {
     "name": "stdout",
     "output_type": "stream",
     "text": [
      "2022-07-04 23:41:17.396431\n"
     ]
    },
    {
     "name": "stderr",
     "output_type": "stream",
     "text": [
      "Create N-grams: 100%|██████████| 2/2 [00:00<00:00, 12.31it/s]\n",
      "Create N-grams: 100%|██████████| 2/2 [00:00<00:00, 59.35it/s]\n",
      "Positive Validation/Test: 100%|██████████| 2072/2072 [00:00<00:00, 33417.15it/s]\n",
      "Negative Validation/Test: 100%|██████████| 309/309 [00:00<00:00, 19880.66it/s]\n"
     ]
    },
    {
     "name": "stdout",
     "output_type": "stream",
     "text": [
      "2022-07-04 23:41:17.711818\n",
      "learning N-grams\n",
      "Negative class N-grams\n"
     ]
    },
    {
     "name": "stderr",
     "output_type": "stream",
     "text": [
      "Create N-grams: 100%|██████████| 2/2 [00:00<00:00, 14.95it/s]\n"
     ]
    },
    {
     "name": "stdout",
     "output_type": "stream",
     "text": [
      "Positive class N-grams\n"
     ]
    },
    {
     "name": "stderr",
     "output_type": "stream",
     "text": [
      "Create N-grams: 100%|██████████| 2/2 [00:00<00:00,  2.45it/s]\n"
     ]
    },
    {
     "name": "stdout",
     "output_type": "stream",
     "text": [
      "2022-07-04 23:41:21.705077\n"
     ]
    },
    {
     "name": "stderr",
     "output_type": "stream",
     "text": [
      "Create N-grams: 100%|██████████| 2/2 [00:00<00:00, 10.45it/s]\n",
      "Create N-grams: 100%|██████████| 2/2 [00:00<00:00, 58.49it/s]\n",
      "Positive Validation/Test: 100%|██████████| 2072/2072 [00:00<00:00, 31392.93it/s]\n",
      "Negative Validation/Test: 100%|██████████| 309/309 [00:00<00:00, 25218.22it/s]\n"
     ]
    },
    {
     "name": "stdout",
     "output_type": "stream",
     "text": [
      "2022-07-04 23:41:22.039576\n",
      "learning N-grams\n",
      "Negative class N-grams\n"
     ]
    },
    {
     "name": "stderr",
     "output_type": "stream",
     "text": [
      "Create N-grams: 100%|██████████| 2/2 [00:00<00:00, 13.28it/s]\n"
     ]
    },
    {
     "name": "stdout",
     "output_type": "stream",
     "text": [
      "Positive class N-grams\n"
     ]
    },
    {
     "name": "stderr",
     "output_type": "stream",
     "text": [
      "Create N-grams: 100%|██████████| 2/2 [00:00<00:00,  2.45it/s]\n"
     ]
    },
    {
     "name": "stdout",
     "output_type": "stream",
     "text": [
      "2022-07-04 23:41:26.003762\n"
     ]
    },
    {
     "name": "stderr",
     "output_type": "stream",
     "text": [
      "Create N-grams: 100%|██████████| 2/2 [00:00<00:00, 11.68it/s]\n",
      "Create N-grams: 100%|██████████| 2/2 [00:00<00:00, 46.82it/s]\n",
      "Positive Validation/Test: 100%|██████████| 2072/2072 [00:00<00:00, 27802.71it/s]\n",
      "Negative Validation/Test: 100%|██████████| 309/309 [00:00<00:00, 16180.88it/s]\n"
     ]
    },
    {
     "name": "stdout",
     "output_type": "stream",
     "text": [
      "2022-07-04 23:41:26.333262\n",
      "learning N-grams\n",
      "Negative class N-grams\n"
     ]
    },
    {
     "name": "stderr",
     "output_type": "stream",
     "text": [
      "Create N-grams: 100%|██████████| 3/3 [00:00<00:00, 15.18it/s]\n"
     ]
    },
    {
     "name": "stdout",
     "output_type": "stream",
     "text": [
      "Positive class N-grams\n"
     ]
    },
    {
     "name": "stderr",
     "output_type": "stream",
     "text": [
      "Create N-grams: 100%|██████████| 3/3 [00:01<00:00,  2.49it/s]\n"
     ]
    },
    {
     "name": "stdout",
     "output_type": "stream",
     "text": [
      "2022-07-04 23:41:32.510967\n"
     ]
    },
    {
     "name": "stderr",
     "output_type": "stream",
     "text": [
      "Create N-grams: 100%|██████████| 3/3 [00:00<00:00, 10.85it/s]\n",
      "Create N-grams: 100%|██████████| 3/3 [00:00<00:00, 63.83it/s]\n",
      "Positive Validation/Test: 100%|██████████| 2072/2072 [00:00<00:00, 32888.04it/s]\n",
      "Negative Validation/Test: 100%|██████████| 309/309 [00:00<00:00, 23766.16it/s]\n"
     ]
    },
    {
     "name": "stdout",
     "output_type": "stream",
     "text": [
      "2022-07-04 23:41:32.929569\n",
      "learning N-grams\n",
      "Negative class N-grams\n"
     ]
    },
    {
     "name": "stderr",
     "output_type": "stream",
     "text": [
      "Create N-grams: 100%|██████████| 3/3 [00:00<00:00, 14.52it/s]\n"
     ]
    },
    {
     "name": "stdout",
     "output_type": "stream",
     "text": [
      "Positive class N-grams\n"
     ]
    },
    {
     "name": "stderr",
     "output_type": "stream",
     "text": [
      "Create N-grams: 100%|██████████| 3/3 [00:01<00:00,  2.51it/s]\n"
     ]
    },
    {
     "name": "stdout",
     "output_type": "stream",
     "text": [
      "2022-07-04 23:41:38.868665\n"
     ]
    },
    {
     "name": "stderr",
     "output_type": "stream",
     "text": [
      "Create N-grams: 100%|██████████| 3/3 [00:00<00:00, 12.08it/s]\n",
      "Create N-grams: 100%|██████████| 3/3 [00:00<00:00, 62.50it/s]\n",
      "Positive Validation/Test: 100%|██████████| 2072/2072 [00:00<00:00, 31967.42it/s]\n",
      "Negative Validation/Test: 100%|██████████| 309/309 [00:00<00:00, 19704.44it/s]\n"
     ]
    },
    {
     "name": "stdout",
     "output_type": "stream",
     "text": [
      "2022-07-04 23:41:39.293173\n",
      "learning N-grams\n",
      "Negative class N-grams\n"
     ]
    },
    {
     "name": "stderr",
     "output_type": "stream",
     "text": [
      "Create N-grams: 100%|██████████| 3/3 [00:00<00:00, 14.35it/s]\n"
     ]
    },
    {
     "name": "stdout",
     "output_type": "stream",
     "text": [
      "Positive class N-grams\n"
     ]
    },
    {
     "name": "stderr",
     "output_type": "stream",
     "text": [
      "Create N-grams: 100%|██████████| 3/3 [00:01<00:00,  2.46it/s]\n"
     ]
    },
    {
     "name": "stdout",
     "output_type": "stream",
     "text": [
      "2022-07-04 23:41:45.325779\n"
     ]
    },
    {
     "name": "stderr",
     "output_type": "stream",
     "text": [
      "Create N-grams: 100%|██████████| 3/3 [00:00<00:00, 10.79it/s]\n",
      "Create N-grams: 100%|██████████| 3/3 [00:00<00:00, 62.50it/s]\n",
      "Positive Validation/Test: 100%|██████████| 2072/2072 [00:00<00:00, 32886.67it/s]\n",
      "Negative Validation/Test: 100%|██████████| 309/309 [00:00<00:00, 23763.98it/s]\n"
     ]
    },
    {
     "name": "stdout",
     "output_type": "stream",
     "text": [
      "2022-07-04 23:41:45.759476\n",
      "learning N-grams\n",
      "Negative class N-grams\n"
     ]
    },
    {
     "name": "stderr",
     "output_type": "stream",
     "text": [
      "Create N-grams: 100%|██████████| 3/3 [00:00<00:00, 14.56it/s]\n"
     ]
    },
    {
     "name": "stdout",
     "output_type": "stream",
     "text": [
      "Positive class N-grams\n"
     ]
    },
    {
     "name": "stderr",
     "output_type": "stream",
     "text": [
      "Create N-grams: 100%|██████████| 3/3 [00:01<00:00,  2.46it/s]\n"
     ]
    },
    {
     "name": "stdout",
     "output_type": "stream",
     "text": [
      "2022-07-04 23:41:51.877239\n"
     ]
    },
    {
     "name": "stderr",
     "output_type": "stream",
     "text": [
      "Create N-grams: 100%|██████████| 3/3 [00:00<00:00, 10.59it/s]\n",
      "Create N-grams: 100%|██████████| 3/3 [00:00<00:00, 53.81it/s]\n",
      "Positive Validation/Test: 100%|██████████| 2072/2072 [00:00<00:00, 6583.79it/s]\n",
      "Negative Validation/Test: 100%|██████████| 309/309 [00:00<00:00, 21944.46it/s]\n"
     ]
    },
    {
     "name": "stdout",
     "output_type": "stream",
     "text": [
      "2022-07-04 23:41:52.570667\n",
      "learning N-grams\n",
      "Negative class N-grams\n"
     ]
    },
    {
     "name": "stderr",
     "output_type": "stream",
     "text": [
      "Create N-grams: 100%|██████████| 3/3 [00:00<00:00, 14.87it/s]\n"
     ]
    },
    {
     "name": "stdout",
     "output_type": "stream",
     "text": [
      "Positive class N-grams\n"
     ]
    },
    {
     "name": "stderr",
     "output_type": "stream",
     "text": [
      "Create N-grams: 100%|██████████| 3/3 [00:01<00:00,  2.34it/s]\n"
     ]
    },
    {
     "name": "stdout",
     "output_type": "stream",
     "text": [
      "2022-07-04 23:41:58.707592\n"
     ]
    },
    {
     "name": "stderr",
     "output_type": "stream",
     "text": [
      "Create N-grams: 100%|██████████| 3/3 [00:00<00:00, 11.15it/s]\n",
      "Create N-grams: 100%|██████████| 3/3 [00:00<00:00, 62.49it/s]\n",
      "Positive Validation/Test: 100%|██████████| 2072/2072 [00:00<00:00, 31395.87it/s]\n",
      "Negative Validation/Test: 100%|██████████| 309/309 [00:00<00:00, 23767.90it/s]\n"
     ]
    },
    {
     "name": "stdout",
     "output_type": "stream",
     "text": [
      "2022-07-04 23:41:59.132612\n",
      "learning N-grams\n",
      "Negative class N-grams\n"
     ]
    },
    {
     "name": "stderr",
     "output_type": "stream",
     "text": [
      "Create N-grams: 100%|██████████| 3/3 [00:00<00:00, 14.27it/s]\n"
     ]
    },
    {
     "name": "stdout",
     "output_type": "stream",
     "text": [
      "Positive class N-grams\n"
     ]
    },
    {
     "name": "stderr",
     "output_type": "stream",
     "text": [
      "Create N-grams: 100%|██████████| 3/3 [00:01<00:00,  2.43it/s]\n"
     ]
    },
    {
     "name": "stdout",
     "output_type": "stream",
     "text": [
      "2022-07-04 23:42:05.254581\n"
     ]
    },
    {
     "name": "stderr",
     "output_type": "stream",
     "text": [
      "Create N-grams: 100%|██████████| 3/3 [00:00<00:00, 10.83it/s]\n",
      "Create N-grams: 100%|██████████| 3/3 [00:00<00:00, 62.50it/s]\n",
      "Positive Validation/Test: 100%|██████████| 2072/2072 [00:00<00:00, 29601.14it/s]\n",
      "Negative Validation/Test: 100%|██████████| 309/309 [00:00<00:00, 23770.52it/s]\n"
     ]
    },
    {
     "name": "stdout",
     "output_type": "stream",
     "text": [
      "2022-07-04 23:42:05.690552\n",
      "learning N-grams\n",
      "Negative class N-grams\n"
     ]
    },
    {
     "name": "stderr",
     "output_type": "stream",
     "text": [
      "Create N-grams: 100%|██████████| 3/3 [00:00<00:00, 14.77it/s]\n"
     ]
    },
    {
     "name": "stdout",
     "output_type": "stream",
     "text": [
      "Positive class N-grams\n"
     ]
    },
    {
     "name": "stderr",
     "output_type": "stream",
     "text": [
      "Create N-grams: 100%|██████████| 3/3 [00:01<00:00,  2.48it/s]\n"
     ]
    },
    {
     "name": "stdout",
     "output_type": "stream",
     "text": [
      "2022-07-04 23:42:11.771261\n"
     ]
    },
    {
     "name": "stderr",
     "output_type": "stream",
     "text": [
      "Create N-grams: 100%|██████████| 3/3 [00:00<00:00, 10.88it/s]\n",
      "Create N-grams: 100%|██████████| 3/3 [00:00<00:00, 55.46it/s]\n",
      "Positive Validation/Test: 100%|██████████| 2072/2072 [00:00<00:00, 31350.35it/s]\n",
      "Negative Validation/Test: 100%|██████████| 309/309 [00:00<00:00, 13945.36it/s]\n"
     ]
    },
    {
     "name": "stdout",
     "output_type": "stream",
     "text": [
      "2022-07-04 23:42:12.215324\n",
      "learning N-grams\n",
      "Negative class N-grams\n"
     ]
    },
    {
     "name": "stderr",
     "output_type": "stream",
     "text": [
      "Create N-grams: 100%|██████████| 3/3 [00:00<00:00, 15.42it/s]\n"
     ]
    },
    {
     "name": "stdout",
     "output_type": "stream",
     "text": [
      "Positive class N-grams\n"
     ]
    },
    {
     "name": "stderr",
     "output_type": "stream",
     "text": [
      "Create N-grams: 100%|██████████| 3/3 [00:01<00:00,  2.03it/s]\n"
     ]
    },
    {
     "name": "stdout",
     "output_type": "stream",
     "text": [
      "2022-07-04 23:42:18.556830\n"
     ]
    },
    {
     "name": "stderr",
     "output_type": "stream",
     "text": [
      "Create N-grams: 100%|██████████| 3/3 [00:00<00:00, 10.71it/s]\n",
      "Create N-grams: 100%|██████████| 3/3 [00:00<00:00, 61.23it/s]\n",
      "Positive Validation/Test: 100%|██████████| 2072/2072 [00:00<00:00, 31391.79it/s]\n",
      "Negative Validation/Test: 100%|██████████| 309/309 [00:00<00:00, 99381.94it/s]\n"
     ]
    },
    {
     "name": "stdout",
     "output_type": "stream",
     "text": [
      "2022-07-04 23:42:18.982828\n",
      "learning N-grams\n",
      "Negative class N-grams\n"
     ]
    },
    {
     "name": "stderr",
     "output_type": "stream",
     "text": [
      "Create N-grams: 100%|██████████| 3/3 [00:00<00:00, 14.25it/s]\n"
     ]
    },
    {
     "name": "stdout",
     "output_type": "stream",
     "text": [
      "Positive class N-grams\n"
     ]
    },
    {
     "name": "stderr",
     "output_type": "stream",
     "text": [
      "Create N-grams: 100%|██████████| 3/3 [00:01<00:00,  2.40it/s]\n"
     ]
    },
    {
     "name": "stdout",
     "output_type": "stream",
     "text": [
      "2022-07-04 23:42:24.992110\n"
     ]
    },
    {
     "name": "stderr",
     "output_type": "stream",
     "text": [
      "Create N-grams: 100%|██████████| 3/3 [00:00<00:00, 10.86it/s]\n",
      "Create N-grams: 100%|██████████| 3/3 [00:00<00:00, 64.01it/s]\n",
      "Positive Validation/Test: 100%|██████████| 2072/2072 [00:00<00:00, 31772.47it/s]\n",
      "Negative Validation/Test: 100%|██████████| 309/309 [00:00<00:00, 21289.48it/s]\n"
     ]
    },
    {
     "name": "stdout",
     "output_type": "stream",
     "text": [
      "2022-07-04 23:42:25.438424\n",
      "learning N-grams\n",
      "Negative class N-grams\n"
     ]
    },
    {
     "name": "stderr",
     "output_type": "stream",
     "text": [
      "Create N-grams: 100%|██████████| 3/3 [00:00<00:00, 14.56it/s]\n"
     ]
    },
    {
     "name": "stdout",
     "output_type": "stream",
     "text": [
      "Positive class N-grams\n"
     ]
    },
    {
     "name": "stderr",
     "output_type": "stream",
     "text": [
      "Create N-grams: 100%|██████████| 3/3 [00:01<00:00,  2.44it/s]\n"
     ]
    },
    {
     "name": "stdout",
     "output_type": "stream",
     "text": [
      "2022-07-04 23:42:31.740877\n"
     ]
    },
    {
     "name": "stderr",
     "output_type": "stream",
     "text": [
      "Create N-grams: 100%|██████████| 3/3 [00:00<00:00, 10.79it/s]\n",
      "Create N-grams: 100%|██████████| 3/3 [00:00<00:00, 61.22it/s]\n",
      "Positive Validation/Test: 100%|██████████| 2072/2072 [00:00<00:00, 31879.23it/s]\n",
      "Negative Validation/Test: 100%|██████████| 309/309 [00:00<00:00, 25754.94it/s]\n"
     ]
    },
    {
     "name": "stdout",
     "output_type": "stream",
     "text": [
      "2022-07-04 23:42:32.179148\n",
      "learning N-grams\n",
      "Negative class N-grams\n"
     ]
    },
    {
     "name": "stderr",
     "output_type": "stream",
     "text": [
      "Create N-grams: 100%|██████████| 3/3 [00:00<00:00, 13.75it/s]\n"
     ]
    },
    {
     "name": "stdout",
     "output_type": "stream",
     "text": [
      "Positive class N-grams\n"
     ]
    },
    {
     "name": "stderr",
     "output_type": "stream",
     "text": [
      "Create N-grams: 100%|██████████| 3/3 [00:01<00:00,  2.53it/s]\n"
     ]
    },
    {
     "name": "stdout",
     "output_type": "stream",
     "text": [
      "2022-07-04 23:42:38.192251\n"
     ]
    },
    {
     "name": "stderr",
     "output_type": "stream",
     "text": [
      "Create N-grams: 100%|██████████| 3/3 [00:00<00:00, 10.64it/s]\n",
      "Create N-grams: 100%|██████████| 3/3 [00:00<00:00, 63.83it/s]\n",
      "Positive Validation/Test: 100%|██████████| 2072/2072 [00:00<00:00, 6512.77it/s]\n",
      "Negative Validation/Test: 100%|██████████| 309/309 [00:00<00:00, 23773.13it/s]\n"
     ]
    },
    {
     "name": "stdout",
     "output_type": "stream",
     "text": [
      "2022-07-04 23:42:38.896096\n",
      "learning N-grams\n",
      "Negative class N-grams\n"
     ]
    },
    {
     "name": "stderr",
     "output_type": "stream",
     "text": [
      "Create N-grams: 100%|██████████| 3/3 [00:00<00:00, 14.15it/s]\n"
     ]
    },
    {
     "name": "stdout",
     "output_type": "stream",
     "text": [
      "Positive class N-grams\n"
     ]
    },
    {
     "name": "stderr",
     "output_type": "stream",
     "text": [
      "Create N-grams: 100%|██████████| 3/3 [00:01<00:00,  2.49it/s]\n"
     ]
    },
    {
     "name": "stdout",
     "output_type": "stream",
     "text": [
      "2022-07-04 23:42:44.762373\n"
     ]
    },
    {
     "name": "stderr",
     "output_type": "stream",
     "text": [
      "Create N-grams: 100%|██████████| 3/3 [00:00<00:00, 10.92it/s]\n",
      "Create N-grams: 100%|██████████| 3/3 [00:00<00:00, 51.00it/s]\n",
      "Positive Validation/Test: 100%|██████████| 2072/2072 [00:00<00:00, 30848.68it/s]\n",
      "Negative Validation/Test: 100%|██████████| 309/309 [00:00<00:00, 19146.13it/s]\n"
     ]
    },
    {
     "name": "stdout",
     "output_type": "stream",
     "text": [
      "2022-07-04 23:42:45.209804\n",
      "learning N-grams\n",
      "Negative class N-grams\n"
     ]
    },
    {
     "name": "stderr",
     "output_type": "stream",
     "text": [
      "Create N-grams: 100%|██████████| 3/3 [00:00<00:00, 14.60it/s]\n"
     ]
    },
    {
     "name": "stdout",
     "output_type": "stream",
     "text": [
      "Positive class N-grams\n"
     ]
    },
    {
     "name": "stderr",
     "output_type": "stream",
     "text": [
      "Create N-grams: 100%|██████████| 3/3 [00:01<00:00,  2.51it/s]\n"
     ]
    },
    {
     "name": "stdout",
     "output_type": "stream",
     "text": [
      "2022-07-04 23:42:51.350806\n"
     ]
    },
    {
     "name": "stderr",
     "output_type": "stream",
     "text": [
      "Create N-grams: 100%|██████████| 3/3 [00:00<00:00, 11.40it/s]\n",
      "Create N-grams: 100%|██████████| 3/3 [00:00<00:00, 62.02it/s]\n",
      "Positive Validation/Test: 100%|██████████| 2072/2072 [00:00<00:00, 37444.79it/s]\n",
      "Negative Validation/Test: 100%|██████████| 309/309 [00:00<00:00, 11432.25it/s]\n"
     ]
    },
    {
     "name": "stdout",
     "output_type": "stream",
     "text": [
      "2022-07-04 23:42:51.774867\n",
      "learning N-grams\n",
      "Negative class N-grams\n"
     ]
    },
    {
     "name": "stderr",
     "output_type": "stream",
     "text": [
      "Create N-grams: 100%|██████████| 3/3 [00:00<00:00, 14.05it/s]\n"
     ]
    },
    {
     "name": "stdout",
     "output_type": "stream",
     "text": [
      "Positive class N-grams\n"
     ]
    },
    {
     "name": "stderr",
     "output_type": "stream",
     "text": [
      "Create N-grams: 100%|██████████| 3/3 [00:01<00:00,  2.52it/s]\n"
     ]
    },
    {
     "name": "stdout",
     "output_type": "stream",
     "text": [
      "2022-07-04 23:42:57.654866\n"
     ]
    },
    {
     "name": "stderr",
     "output_type": "stream",
     "text": [
      "Create N-grams: 100%|██████████| 3/3 [00:00<00:00, 11.35it/s]\n",
      "Create N-grams: 100%|██████████| 3/3 [00:00<00:00, 62.50it/s]\n",
      "Positive Validation/Test: 100%|██████████| 2072/2072 [00:00<00:00, 32665.03it/s]\n",
      "Negative Validation/Test: 100%|██████████| 309/309 [00:00<00:00, 23767.03it/s]\n"
     ]
    },
    {
     "name": "stdout",
     "output_type": "stream",
     "text": [
      "2022-07-04 23:42:58.078190\n",
      "learning N-grams\n",
      "Negative class N-grams\n"
     ]
    },
    {
     "name": "stderr",
     "output_type": "stream",
     "text": [
      "Create N-grams: 100%|██████████| 3/3 [00:00<00:00, 15.38it/s]\n"
     ]
    },
    {
     "name": "stdout",
     "output_type": "stream",
     "text": [
      "Positive class N-grams\n"
     ]
    },
    {
     "name": "stderr",
     "output_type": "stream",
     "text": [
      "Create N-grams: 100%|██████████| 3/3 [00:01<00:00,  2.02it/s]\n"
     ]
    },
    {
     "name": "stdout",
     "output_type": "stream",
     "text": [
      "2022-07-04 23:43:04.302542\n"
     ]
    },
    {
     "name": "stderr",
     "output_type": "stream",
     "text": [
      "Create N-grams: 100%|██████████| 3/3 [00:00<00:00, 11.72it/s]\n",
      "Create N-grams: 100%|██████████| 3/3 [00:00<00:00, 60.01it/s]\n",
      "Positive Validation/Test: 100%|██████████| 2072/2072 [00:00<00:00, 31777.35it/s]\n",
      "Negative Validation/Test: 100%|██████████| 309/309 [00:00<00:00, 25747.77it/s]\n"
     ]
    },
    {
     "name": "stdout",
     "output_type": "stream",
     "text": [
      "2022-07-04 23:43:04.742615\n",
      "learning N-grams\n",
      "Negative class N-grams\n"
     ]
    },
    {
     "name": "stderr",
     "output_type": "stream",
     "text": [
      "Create N-grams: 100%|██████████| 3/3 [00:00<00:00, 15.88it/s]\n"
     ]
    },
    {
     "name": "stdout",
     "output_type": "stream",
     "text": [
      "Positive class N-grams\n"
     ]
    },
    {
     "name": "stderr",
     "output_type": "stream",
     "text": [
      "Create N-grams: 100%|██████████| 3/3 [00:01<00:00,  2.52it/s]\n"
     ]
    },
    {
     "name": "stdout",
     "output_type": "stream",
     "text": [
      "2022-07-04 23:43:10.617915\n"
     ]
    },
    {
     "name": "stderr",
     "output_type": "stream",
     "text": [
      "Create N-grams: 100%|██████████| 3/3 [00:00<00:00, 10.96it/s]\n",
      "Create N-grams: 100%|██████████| 3/3 [00:00<00:00, 57.04it/s]\n",
      "Positive Validation/Test: 100%|██████████| 2072/2072 [00:00<00:00, 33417.02it/s]\n",
      "Negative Validation/Test: 100%|██████████| 309/309 [00:00<00:00, 23764.42it/s]\n"
     ]
    },
    {
     "name": "stdout",
     "output_type": "stream",
     "text": [
      "2022-07-04 23:43:11.048009\n",
      "learning N-grams\n",
      "Negative class N-grams\n"
     ]
    },
    {
     "name": "stderr",
     "output_type": "stream",
     "text": [
      "Create N-grams: 100%|██████████| 1/1 [00:00<00:00, 12.72it/s]\n"
     ]
    },
    {
     "name": "stdout",
     "output_type": "stream",
     "text": [
      "Positive class N-grams\n"
     ]
    },
    {
     "name": "stderr",
     "output_type": "stream",
     "text": [
      "Create N-grams: 100%|██████████| 1/1 [00:00<00:00,  2.35it/s]\n"
     ]
    },
    {
     "name": "stdout",
     "output_type": "stream",
     "text": [
      "2022-07-04 23:43:13.083835\n"
     ]
    },
    {
     "name": "stderr",
     "output_type": "stream",
     "text": [
      "Create N-grams: 100%|██████████| 1/1 [00:00<00:00, 10.12it/s]\n",
      "Create N-grams: 100%|██████████| 1/1 [00:00<00:00, 36.11it/s]\n",
      "Positive Validation/Test: 100%|██████████| 2088/2088 [00:00<00:00, 35931.12it/s]\n",
      "Negative Validation/Test: 100%|██████████| 279/279 [00:00<00:00, 21461.91it/s]\n"
     ]
    },
    {
     "name": "stdout",
     "output_type": "stream",
     "text": [
      "2022-07-04 23:43:13.312464\n",
      "learning N-grams\n",
      "Negative class N-grams\n"
     ]
    },
    {
     "name": "stderr",
     "output_type": "stream",
     "text": [
      "Create N-grams: 100%|██████████| 1/1 [00:00<00:00, 13.26it/s]\n"
     ]
    },
    {
     "name": "stdout",
     "output_type": "stream",
     "text": [
      "Positive class N-grams\n"
     ]
    },
    {
     "name": "stderr",
     "output_type": "stream",
     "text": [
      "Create N-grams: 100%|██████████| 1/1 [00:00<00:00,  2.25it/s]\n"
     ]
    },
    {
     "name": "stdout",
     "output_type": "stream",
     "text": [
      "2022-07-04 23:43:15.374184\n"
     ]
    },
    {
     "name": "stderr",
     "output_type": "stream",
     "text": [
      "Create N-grams: 100%|██████████| 1/1 [00:00<00:00, 10.07it/s]\n",
      "Create N-grams: 100%|██████████| 1/1 [00:00<00:00, 55.55it/s]\n",
      "Positive Validation/Test: 100%|██████████| 2088/2088 [00:00<00:00, 33140.12it/s]\n",
      "Negative Validation/Test: 100%|██████████| 279/279 [00:00<00:00, 21581.85it/s]\n"
     ]
    },
    {
     "name": "stdout",
     "output_type": "stream",
     "text": [
      "2022-07-04 23:43:15.592587\n",
      "learning N-grams\n",
      "Negative class N-grams\n"
     ]
    },
    {
     "name": "stderr",
     "output_type": "stream",
     "text": [
      "Create N-grams: 100%|██████████| 1/1 [00:00<00:00, 11.16it/s]\n"
     ]
    },
    {
     "name": "stdout",
     "output_type": "stream",
     "text": [
      "Positive class N-grams\n"
     ]
    },
    {
     "name": "stderr",
     "output_type": "stream",
     "text": [
      "Create N-grams: 100%|██████████| 1/1 [00:00<00:00,  2.26it/s]\n"
     ]
    },
    {
     "name": "stdout",
     "output_type": "stream",
     "text": [
      "2022-07-04 23:43:17.688754\n"
     ]
    },
    {
     "name": "stderr",
     "output_type": "stream",
     "text": [
      "Create N-grams: 100%|██████████| 1/1 [00:00<00:00, 10.53it/s]\n",
      "Create N-grams: 100%|██████████| 1/1 [00:00<00:00, 40.65it/s]\n",
      "Positive Validation/Test: 100%|██████████| 2088/2088 [00:00<00:00, 35930.97it/s]\n",
      "Negative Validation/Test: 100%|██████████| 279/279 [00:00<00:00, 19933.41it/s]\n"
     ]
    },
    {
     "name": "stdout",
     "output_type": "stream",
     "text": [
      "2022-07-04 23:43:17.910824\n",
      "learning N-grams\n",
      "Negative class N-grams\n"
     ]
    },
    {
     "name": "stderr",
     "output_type": "stream",
     "text": [
      "Create N-grams: 100%|██████████| 1/1 [00:00<00:00, 13.01it/s]\n"
     ]
    },
    {
     "name": "stdout",
     "output_type": "stream",
     "text": [
      "Positive class N-grams\n"
     ]
    },
    {
     "name": "stderr",
     "output_type": "stream",
     "text": [
      "Create N-grams: 100%|██████████| 1/1 [00:00<00:00,  2.30it/s]\n"
     ]
    },
    {
     "name": "stdout",
     "output_type": "stream",
     "text": [
      "2022-07-04 23:43:19.984132\n"
     ]
    },
    {
     "name": "stderr",
     "output_type": "stream",
     "text": [
      "Create N-grams: 100%|██████████| 1/1 [00:00<00:00, 10.83it/s]\n",
      "Create N-grams: 100%|██████████| 1/1 [00:00<00:00, 55.34it/s]\n",
      "Positive Validation/Test: 100%|██████████| 2088/2088 [00:00<00:00, 33675.33it/s]\n",
      "Negative Validation/Test: 100%|██████████| 279/279 [00:00<00:00, 15453.22it/s]\n"
     ]
    },
    {
     "name": "stdout",
     "output_type": "stream",
     "text": [
      "2022-07-04 23:43:20.216952\n",
      "learning N-grams\n",
      "Negative class N-grams\n"
     ]
    },
    {
     "name": "stderr",
     "output_type": "stream",
     "text": [
      "Create N-grams: 100%|██████████| 1/1 [00:00<00:00, 12.06it/s]\n"
     ]
    },
    {
     "name": "stdout",
     "output_type": "stream",
     "text": [
      "Positive class N-grams\n"
     ]
    },
    {
     "name": "stderr",
     "output_type": "stream",
     "text": [
      "Create N-grams: 100%|██████████| 1/1 [00:00<00:00,  2.32it/s]\n"
     ]
    },
    {
     "name": "stdout",
     "output_type": "stream",
     "text": [
      "2022-07-04 23:43:22.280711\n"
     ]
    },
    {
     "name": "stderr",
     "output_type": "stream",
     "text": [
      "Create N-grams: 100%|██████████| 1/1 [00:00<00:00, 11.50it/s]\n",
      "Create N-grams: 100%|██████████| 1/1 [00:00<00:00, 34.48it/s]\n",
      "Positive Validation/Test: 100%|██████████| 2088/2088 [00:00<00:00, 38834.60it/s]\n",
      "Negative Validation/Test: 100%|██████████| 279/279 [00:00<00:00, 10432.01it/s]\n"
     ]
    },
    {
     "name": "stdout",
     "output_type": "stream",
     "text": [
      "2022-07-04 23:43:22.499184\n",
      "learning N-grams\n",
      "Negative class N-grams\n"
     ]
    },
    {
     "name": "stderr",
     "output_type": "stream",
     "text": [
      "Create N-grams: 100%|██████████| 1/1 [00:00<00:00, 12.50it/s]\n"
     ]
    },
    {
     "name": "stdout",
     "output_type": "stream",
     "text": [
      "Positive class N-grams\n"
     ]
    },
    {
     "name": "stderr",
     "output_type": "stream",
     "text": [
      "Create N-grams: 100%|██████████| 1/1 [00:00<00:00,  2.17it/s]\n"
     ]
    },
    {
     "name": "stdout",
     "output_type": "stream",
     "text": [
      "2022-07-04 23:43:24.630019\n"
     ]
    },
    {
     "name": "stderr",
     "output_type": "stream",
     "text": [
      "Create N-grams: 100%|██████████| 1/1 [00:00<00:00,  9.80it/s]\n",
      "Create N-grams: 100%|██████████| 1/1 [00:00<00:00, 55.55it/s]\n",
      "Positive Validation/Test: 100%|██████████| 2088/2088 [00:00<00:00, 32623.60it/s]\n",
      "Negative Validation/Test: 100%|██████████| 279/279 [00:00<00:00, 21456.01it/s]\n"
     ]
    },
    {
     "name": "stdout",
     "output_type": "stream",
     "text": [
      "2022-07-04 23:43:24.854021\n",
      "learning N-grams\n",
      "Negative class N-grams\n"
     ]
    },
    {
     "name": "stderr",
     "output_type": "stream",
     "text": [
      "Create N-grams: 100%|██████████| 1/1 [00:00<00:00, 12.50it/s]\n"
     ]
    },
    {
     "name": "stdout",
     "output_type": "stream",
     "text": [
      "Positive class N-grams\n"
     ]
    },
    {
     "name": "stderr",
     "output_type": "stream",
     "text": [
      "Create N-grams: 100%|██████████| 1/1 [00:00<00:00,  2.19it/s]\n"
     ]
    },
    {
     "name": "stdout",
     "output_type": "stream",
     "text": [
      "2022-07-04 23:43:27.063875\n"
     ]
    },
    {
     "name": "stderr",
     "output_type": "stream",
     "text": [
      "Create N-grams: 100%|██████████| 1/1 [00:00<00:00, 10.10it/s]\n",
      "Create N-grams: 100%|██████████| 1/1 [00:00<00:00, 58.82it/s]\n",
      "Positive Validation/Test: 100%|██████████| 2088/2088 [00:00<00:00, 31636.26it/s]\n",
      "Negative Validation/Test: 100%|██████████| 279/279 [00:00<00:00, 25356.68it/s]\n"
     ]
    },
    {
     "name": "stdout",
     "output_type": "stream",
     "text": [
      "2022-07-04 23:43:27.288878\n",
      "learning N-grams\n",
      "Negative class N-grams\n"
     ]
    },
    {
     "name": "stderr",
     "output_type": "stream",
     "text": [
      "Create N-grams: 100%|██████████| 1/1 [00:00<00:00, 12.35it/s]\n"
     ]
    },
    {
     "name": "stdout",
     "output_type": "stream",
     "text": [
      "Positive class N-grams\n"
     ]
    },
    {
     "name": "stderr",
     "output_type": "stream",
     "text": [
      "Create N-grams: 100%|██████████| 1/1 [00:00<00:00,  2.20it/s]\n"
     ]
    },
    {
     "name": "stdout",
     "output_type": "stream",
     "text": [
      "2022-07-04 23:43:29.451625\n"
     ]
    },
    {
     "name": "stderr",
     "output_type": "stream",
     "text": [
      "Create N-grams: 100%|██████████| 1/1 [00:00<00:00, 11.03it/s]\n",
      "Create N-grams: 100%|██████████| 1/1 [00:00<00:00, 61.19it/s]\n",
      "Positive Validation/Test: 100%|██████████| 2088/2088 [00:00<00:00, 32627.97it/s]\n",
      "Negative Validation/Test: 100%|██████████| 279/279 [00:00<00:00, 19627.49it/s]\n"
     ]
    },
    {
     "name": "stdout",
     "output_type": "stream",
     "text": [
      "2022-07-04 23:43:29.680250\n",
      "learning N-grams\n",
      "Negative class N-grams\n"
     ]
    },
    {
     "name": "stderr",
     "output_type": "stream",
     "text": [
      "Create N-grams: 100%|██████████| 1/1 [00:00<00:00, 10.63it/s]\n"
     ]
    },
    {
     "name": "stdout",
     "output_type": "stream",
     "text": [
      "Positive class N-grams\n"
     ]
    },
    {
     "name": "stderr",
     "output_type": "stream",
     "text": [
      "Create N-grams: 100%|██████████| 1/1 [00:00<00:00,  2.27it/s]\n"
     ]
    },
    {
     "name": "stdout",
     "output_type": "stream",
     "text": [
      "2022-07-04 23:43:31.807138\n"
     ]
    },
    {
     "name": "stderr",
     "output_type": "stream",
     "text": [
      "Create N-grams: 100%|██████████| 1/1 [00:00<00:00,  9.18it/s]\n",
      "Create N-grams: 100%|██████████| 1/1 [00:00<00:00, 62.51it/s]\n",
      "Positive Validation/Test: 100%|██████████| 2088/2088 [00:00<00:00, 29829.31it/s]\n",
      "Negative Validation/Test: 100%|██████████| 279/279 [00:00<00:00, 18601.64it/s]\n"
     ]
    },
    {
     "name": "stdout",
     "output_type": "stream",
     "text": [
      "2022-07-04 23:43:32.050722\n",
      "learning N-grams\n",
      "Negative class N-grams\n"
     ]
    },
    {
     "name": "stderr",
     "output_type": "stream",
     "text": [
      "Create N-grams: 100%|██████████| 1/1 [00:00<00:00, 11.42it/s]\n"
     ]
    },
    {
     "name": "stdout",
     "output_type": "stream",
     "text": [
      "Positive class N-grams\n"
     ]
    },
    {
     "name": "stderr",
     "output_type": "stream",
     "text": [
      "Create N-grams: 100%|██████████| 1/1 [00:00<00:00,  1.32it/s]\n"
     ]
    },
    {
     "name": "stdout",
     "output_type": "stream",
     "text": [
      "2022-07-04 23:43:34.525644\n"
     ]
    },
    {
     "name": "stderr",
     "output_type": "stream",
     "text": [
      "Create N-grams: 100%|██████████| 1/1 [00:00<00:00,  9.13it/s]\n",
      "Create N-grams: 100%|██████████| 1/1 [00:00<00:00, 62.51it/s]\n",
      "Positive Validation/Test: 100%|██████████| 2088/2088 [00:00<00:00, 30711.02it/s]\n",
      "Negative Validation/Test: 100%|██████████| 279/279 [00:00<00:00, 18601.35it/s]\n"
     ]
    },
    {
     "name": "stdout",
     "output_type": "stream",
     "text": [
      "2022-07-04 23:43:34.767838\n",
      "learning N-grams\n",
      "Negative class N-grams\n"
     ]
    },
    {
     "name": "stderr",
     "output_type": "stream",
     "text": [
      "Create N-grams: 100%|██████████| 1/1 [00:00<00:00, 12.92it/s]\n"
     ]
    },
    {
     "name": "stdout",
     "output_type": "stream",
     "text": [
      "Positive class N-grams\n"
     ]
    },
    {
     "name": "stderr",
     "output_type": "stream",
     "text": [
      "Create N-grams: 100%|██████████| 1/1 [00:00<00:00,  2.26it/s]\n"
     ]
    },
    {
     "name": "stdout",
     "output_type": "stream",
     "text": [
      "2022-07-04 23:43:36.879185\n"
     ]
    },
    {
     "name": "stderr",
     "output_type": "stream",
     "text": [
      "Create N-grams: 100%|██████████| 1/1 [00:00<00:00, 10.20it/s]\n",
      "Create N-grams: 100%|██████████| 1/1 [00:00<00:00, 58.82it/s]\n",
      "Positive Validation/Test: 100%|██████████| 2088/2088 [00:00<00:00, 31163.89it/s]\n",
      "Negative Validation/Test: 100%|██████████| 279/279 [00:00<00:00, 19931.03it/s]\n"
     ]
    },
    {
     "name": "stdout",
     "output_type": "stream",
     "text": [
      "2022-07-04 23:43:37.107379\n",
      "learning N-grams\n",
      "Negative class N-grams\n"
     ]
    },
    {
     "name": "stderr",
     "output_type": "stream",
     "text": [
      "Create N-grams: 100%|██████████| 1/1 [00:00<00:00, 11.78it/s]\n"
     ]
    },
    {
     "name": "stdout",
     "output_type": "stream",
     "text": [
      "Positive class N-grams\n"
     ]
    },
    {
     "name": "stderr",
     "output_type": "stream",
     "text": [
      "Create N-grams: 100%|██████████| 1/1 [00:00<00:00,  2.31it/s]\n"
     ]
    },
    {
     "name": "stdout",
     "output_type": "stream",
     "text": [
      "2022-07-04 23:43:39.251708\n"
     ]
    },
    {
     "name": "stderr",
     "output_type": "stream",
     "text": [
      "Create N-grams: 100%|██████████| 1/1 [00:00<00:00, 10.99it/s]\n",
      "Create N-grams: 100%|██████████| 1/1 [00:00<00:00, 49.83it/s]\n",
      "Positive Validation/Test: 100%|██████████| 2088/2088 [00:00<00:00, 33678.69it/s]\n",
      "Negative Validation/Test: 100%|██████████| 279/279 [00:00<00:00, 18602.83it/s]\n"
     ]
    },
    {
     "name": "stdout",
     "output_type": "stream",
     "text": [
      "2022-07-04 23:43:39.486612\n",
      "learning N-grams\n",
      "Negative class N-grams\n"
     ]
    },
    {
     "name": "stderr",
     "output_type": "stream",
     "text": [
      "Create N-grams: 100%|██████████| 1/1 [00:00<00:00, 12.89it/s]\n"
     ]
    },
    {
     "name": "stdout",
     "output_type": "stream",
     "text": [
      "Positive class N-grams\n"
     ]
    },
    {
     "name": "stderr",
     "output_type": "stream",
     "text": [
      "Create N-grams: 100%|██████████| 1/1 [00:00<00:00,  2.26it/s]\n"
     ]
    },
    {
     "name": "stdout",
     "output_type": "stream",
     "text": [
      "2022-07-04 23:43:41.593725\n"
     ]
    },
    {
     "name": "stderr",
     "output_type": "stream",
     "text": [
      "Create N-grams: 100%|██████████| 1/1 [00:00<00:00, 10.91it/s]\n",
      "Create N-grams: 100%|██████████| 1/1 [00:00<00:00, 58.83it/s]\n",
      "Positive Validation/Test: 100%|██████████| 2088/2088 [00:00<00:00, 31637.17it/s]\n",
      "Negative Validation/Test: 100%|██████████| 279/279 [00:00<00:00, 19557.95it/s]\n"
     ]
    },
    {
     "name": "stdout",
     "output_type": "stream",
     "text": [
      "2022-07-04 23:43:41.827022\n",
      "learning N-grams\n",
      "Negative class N-grams\n"
     ]
    },
    {
     "name": "stderr",
     "output_type": "stream",
     "text": [
      "Create N-grams: 100%|██████████| 1/1 [00:00<00:00, 11.22it/s]\n"
     ]
    },
    {
     "name": "stdout",
     "output_type": "stream",
     "text": [
      "Positive class N-grams\n"
     ]
    },
    {
     "name": "stderr",
     "output_type": "stream",
     "text": [
      "Create N-grams: 100%|██████████| 1/1 [00:00<00:00,  2.22it/s]\n"
     ]
    },
    {
     "name": "stdout",
     "output_type": "stream",
     "text": [
      "2022-07-04 23:43:43.954240\n"
     ]
    },
    {
     "name": "stderr",
     "output_type": "stream",
     "text": [
      "Create N-grams: 100%|██████████| 1/1 [00:00<00:00, 11.36it/s]\n",
      "Create N-grams: 100%|██████████| 1/1 [00:00<00:00, 58.54it/s]\n",
      "Positive Validation/Test: 100%|██████████| 2088/2088 [00:00<00:00, 31165.00it/s]\n",
      "Negative Validation/Test: 100%|██████████| 279/279 [00:00<00:00, 18600.46it/s]\n"
     ]
    },
    {
     "name": "stdout",
     "output_type": "stream",
     "text": [
      "2022-07-04 23:43:44.185614\n",
      "learning N-grams\n",
      "Negative class N-grams\n"
     ]
    },
    {
     "name": "stderr",
     "output_type": "stream",
     "text": [
      "Create N-grams: 100%|██████████| 1/1 [00:00<00:00, 11.03it/s]\n"
     ]
    },
    {
     "name": "stdout",
     "output_type": "stream",
     "text": [
      "Positive class N-grams\n"
     ]
    },
    {
     "name": "stderr",
     "output_type": "stream",
     "text": [
      "Create N-grams: 100%|██████████| 1/1 [00:00<00:00,  2.18it/s]\n"
     ]
    },
    {
     "name": "stdout",
     "output_type": "stream",
     "text": [
      "2022-07-04 23:43:46.324793\n"
     ]
    },
    {
     "name": "stderr",
     "output_type": "stream",
     "text": [
      "Create N-grams: 100%|██████████| 1/1 [00:00<00:00,  9.42it/s]\n",
      "Create N-grams: 100%|██████████| 1/1 [00:00<00:00, 58.82it/s]\n",
      "Positive Validation/Test: 100%|██████████| 2088/2088 [00:00<00:00, 31165.77it/s]\n",
      "Negative Validation/Test: 100%|██████████| 279/279 [00:00<00:00, 18601.94it/s]\n"
     ]
    },
    {
     "name": "stdout",
     "output_type": "stream",
     "text": [
      "2022-07-04 23:43:46.561556\n",
      "learning N-grams\n",
      "Negative class N-grams\n"
     ]
    },
    {
     "name": "stderr",
     "output_type": "stream",
     "text": [
      "Create N-grams: 100%|██████████| 1/1 [00:00<00:00, 10.76it/s]\n"
     ]
    },
    {
     "name": "stdout",
     "output_type": "stream",
     "text": [
      "Positive class N-grams\n"
     ]
    },
    {
     "name": "stderr",
     "output_type": "stream",
     "text": [
      "Create N-grams: 100%|██████████| 1/1 [00:00<00:00,  2.33it/s]\n"
     ]
    },
    {
     "name": "stdout",
     "output_type": "stream",
     "text": [
      "2022-07-04 23:43:48.690341\n"
     ]
    },
    {
     "name": "stderr",
     "output_type": "stream",
     "text": [
      "Create N-grams: 100%|██████████| 1/1 [00:00<00:00,  9.26it/s]\n",
      "Create N-grams: 100%|██████████| 1/1 [00:00<00:00, 62.50it/s]\n",
      "Positive Validation/Test: 100%|██████████| 2088/2088 [00:00<00:00, 30260.24it/s]\n",
      "Negative Validation/Test: 100%|██████████| 279/279 [00:00<00:00, 17438.50it/s]\n"
     ]
    },
    {
     "name": "stdout",
     "output_type": "stream",
     "text": [
      "2022-07-04 23:43:48.931959\n",
      "learning N-grams\n",
      "Negative class N-grams\n"
     ]
    },
    {
     "name": "stderr",
     "output_type": "stream",
     "text": [
      "Create N-grams: 100%|██████████| 2/2 [00:00<00:00, 12.83it/s]\n"
     ]
    },
    {
     "name": "stdout",
     "output_type": "stream",
     "text": [
      "Positive class N-grams\n"
     ]
    },
    {
     "name": "stderr",
     "output_type": "stream",
     "text": [
      "Create N-grams: 100%|██████████| 2/2 [00:00<00:00,  2.32it/s]\n"
     ]
    },
    {
     "name": "stdout",
     "output_type": "stream",
     "text": [
      "2022-07-04 23:43:53.231362\n"
     ]
    },
    {
     "name": "stderr",
     "output_type": "stream",
     "text": [
      "Create N-grams: 100%|██████████| 2/2 [00:00<00:00, 10.62it/s]\n",
      "Create N-grams: 100%|██████████| 2/2 [00:00<00:00, 60.61it/s]\n",
      "Positive Validation/Test: 100%|██████████| 2088/2088 [00:00<00:00, 27473.43it/s]\n",
      "Negative Validation/Test: 100%|██████████| 279/279 [00:00<00:00, 21461.52it/s]\n"
     ]
    },
    {
     "name": "stdout",
     "output_type": "stream",
     "text": [
      "2022-07-04 23:43:53.577640\n",
      "learning N-grams\n",
      "Negative class N-grams\n"
     ]
    },
    {
     "name": "stderr",
     "output_type": "stream",
     "text": [
      "Create N-grams: 100%|██████████| 2/2 [00:00<00:00, 13.04it/s]\n"
     ]
    },
    {
     "name": "stdout",
     "output_type": "stream",
     "text": [
      "Positive class N-grams\n"
     ]
    },
    {
     "name": "stderr",
     "output_type": "stream",
     "text": [
      "Create N-grams: 100%|██████████| 2/2 [00:01<00:00,  1.95it/s]\n"
     ]
    },
    {
     "name": "stdout",
     "output_type": "stream",
     "text": [
      "2022-07-04 23:43:58.268002\n"
     ]
    },
    {
     "name": "stderr",
     "output_type": "stream",
     "text": [
      "Create N-grams: 100%|██████████| 2/2 [00:00<00:00, 11.18it/s]\n",
      "Create N-grams: 100%|██████████| 2/2 [00:00<00:00, 103.91it/s]\n",
      "Positive Validation/Test: 100%|██████████| 2088/2088 [00:00<00:00, 29032.87it/s]\n",
      "Negative Validation/Test: 100%|██████████| 279/279 [00:00<00:00, 15810.88it/s]\n"
     ]
    },
    {
     "name": "stdout",
     "output_type": "stream",
     "text": [
      "2022-07-04 23:43:58.608843\n",
      "learning N-grams\n",
      "Negative class N-grams\n"
     ]
    },
    {
     "name": "stderr",
     "output_type": "stream",
     "text": [
      "Create N-grams: 100%|██████████| 2/2 [00:00<00:00, 11.43it/s]\n"
     ]
    },
    {
     "name": "stdout",
     "output_type": "stream",
     "text": [
      "Positive class N-grams\n"
     ]
    },
    {
     "name": "stderr",
     "output_type": "stream",
     "text": [
      "Create N-grams: 100%|██████████| 2/2 [00:00<00:00,  2.26it/s]\n"
     ]
    },
    {
     "name": "stdout",
     "output_type": "stream",
     "text": [
      "2022-07-04 23:44:02.941731\n"
     ]
    },
    {
     "name": "stderr",
     "output_type": "stream",
     "text": [
      "Create N-grams: 100%|██████████| 2/2 [00:00<00:00,  9.86it/s]\n",
      "Create N-grams: 100%|██████████| 2/2 [00:00<00:00, 77.43it/s]\n",
      "Positive Validation/Test: 100%|██████████| 2088/2088 [00:00<00:00, 25563.83it/s]\n",
      "Negative Validation/Test: 100%|██████████| 279/279 [00:00<00:00, 33828.94it/s]\n"
     ]
    },
    {
     "name": "stdout",
     "output_type": "stream",
     "text": [
      "2022-07-04 23:44:03.282384\n",
      "learning N-grams\n",
      "Negative class N-grams\n"
     ]
    },
    {
     "name": "stderr",
     "output_type": "stream",
     "text": [
      "Create N-grams: 100%|██████████| 2/2 [00:00<00:00,  4.76it/s]\n"
     ]
    },
    {
     "name": "stdout",
     "output_type": "stream",
     "text": [
      "Positive class N-grams\n"
     ]
    },
    {
     "name": "stderr",
     "output_type": "stream",
     "text": [
      "Create N-grams: 100%|██████████| 2/2 [00:00<00:00,  2.23it/s]\n"
     ]
    },
    {
     "name": "stdout",
     "output_type": "stream",
     "text": [
      "2022-07-04 23:44:08.060415\n"
     ]
    },
    {
     "name": "stderr",
     "output_type": "stream",
     "text": [
      "Create N-grams: 100%|██████████| 2/2 [00:00<00:00, 10.68it/s]\n",
      "Create N-grams: 100%|██████████| 2/2 [00:00<00:00, 55.72it/s]\n",
      "Positive Validation/Test: 100%|██████████| 2088/2088 [00:00<00:00, 29584.25it/s]\n",
      "Negative Validation/Test: 100%|██████████| 279/279 [00:00<00:00, 36680.28it/s]\n"
     ]
    },
    {
     "name": "stdout",
     "output_type": "stream",
     "text": [
      "2022-07-04 23:44:08.392177\n",
      "learning N-grams\n",
      "Negative class N-grams\n"
     ]
    },
    {
     "name": "stderr",
     "output_type": "stream",
     "text": [
      "Create N-grams: 100%|██████████| 2/2 [00:00<00:00, 11.09it/s]\n"
     ]
    },
    {
     "name": "stdout",
     "output_type": "stream",
     "text": [
      "Positive class N-grams\n"
     ]
    },
    {
     "name": "stderr",
     "output_type": "stream",
     "text": [
      "Create N-grams: 100%|██████████| 2/2 [00:00<00:00,  2.31it/s]\n"
     ]
    },
    {
     "name": "stdout",
     "output_type": "stream",
     "text": [
      "2022-07-04 23:44:12.721267\n"
     ]
    },
    {
     "name": "stderr",
     "output_type": "stream",
     "text": [
      "Create N-grams: 100%|██████████| 2/2 [00:00<00:00, 10.76it/s]\n",
      "Create N-grams: 100%|██████████| 2/2 [00:00<00:00, 68.68it/s]\n",
      "Positive Validation/Test: 100%|██████████| 2088/2088 [00:00<00:00, 31748.31it/s]\n",
      "Negative Validation/Test: 100%|██████████| 279/279 [00:00<00:00, 21253.37it/s]\n"
     ]
    },
    {
     "name": "stdout",
     "output_type": "stream",
     "text": [
      "2022-07-04 23:44:13.045278\n",
      "learning N-grams\n",
      "Negative class N-grams\n"
     ]
    },
    {
     "name": "stderr",
     "output_type": "stream",
     "text": [
      "Create N-grams: 100%|██████████| 2/2 [00:00<00:00, 13.60it/s]\n"
     ]
    },
    {
     "name": "stdout",
     "output_type": "stream",
     "text": [
      "Positive class N-grams\n"
     ]
    },
    {
     "name": "stderr",
     "output_type": "stream",
     "text": [
      "Create N-grams: 100%|██████████| 2/2 [00:00<00:00,  2.36it/s]\n"
     ]
    },
    {
     "name": "stdout",
     "output_type": "stream",
     "text": [
      "2022-07-04 23:44:17.276909\n"
     ]
    },
    {
     "name": "stderr",
     "output_type": "stream",
     "text": [
      "Create N-grams: 100%|██████████| 2/2 [00:00<00:00, 10.33it/s]\n",
      "Create N-grams: 100%|██████████| 2/2 [00:00<00:00, 66.27it/s]\n",
      "Positive Validation/Test: 100%|██████████| 2088/2088 [00:00<00:00, 33716.17it/s]\n",
      "Negative Validation/Test: 100%|██████████| 279/279 [00:00<00:00, 93811.99it/s]\n"
     ]
    },
    {
     "name": "stdout",
     "output_type": "stream",
     "text": [
      "2022-07-04 23:44:17.607429\n",
      "learning N-grams\n",
      "Negative class N-grams\n"
     ]
    },
    {
     "name": "stderr",
     "output_type": "stream",
     "text": [
      "Create N-grams: 100%|██████████| 2/2 [00:00<00:00, 12.80it/s]\n"
     ]
    },
    {
     "name": "stdout",
     "output_type": "stream",
     "text": [
      "Positive class N-grams\n"
     ]
    },
    {
     "name": "stderr",
     "output_type": "stream",
     "text": [
      "Create N-grams: 100%|██████████| 2/2 [00:00<00:00,  2.28it/s]\n"
     ]
    },
    {
     "name": "stdout",
     "output_type": "stream",
     "text": [
      "2022-07-04 23:44:21.881484\n"
     ]
    },
    {
     "name": "stderr",
     "output_type": "stream",
     "text": [
      "Create N-grams: 100%|██████████| 2/2 [00:00<00:00, 10.94it/s]\n",
      "Create N-grams: 100%|██████████| 2/2 [00:00<00:00, 63.73it/s]\n",
      "Positive Validation/Test: 100%|██████████| 2088/2088 [00:00<00:00, 30896.72it/s]\n",
      "Negative Validation/Test: 100%|██████████| 279/279 [00:00<00:00, 14726.30it/s]\n"
     ]
    },
    {
     "name": "stdout",
     "output_type": "stream",
     "text": [
      "2022-07-04 23:44:22.203689\n",
      "learning N-grams\n",
      "Negative class N-grams\n"
     ]
    },
    {
     "name": "stderr",
     "output_type": "stream",
     "text": [
      "Create N-grams: 100%|██████████| 2/2 [00:00<00:00, 12.59it/s]\n"
     ]
    },
    {
     "name": "stdout",
     "output_type": "stream",
     "text": [
      "Positive class N-grams\n"
     ]
    },
    {
     "name": "stderr",
     "output_type": "stream",
     "text": [
      "Create N-grams: 100%|██████████| 2/2 [00:00<00:00,  2.34it/s]\n"
     ]
    },
    {
     "name": "stdout",
     "output_type": "stream",
     "text": [
      "2022-07-04 23:44:26.364320\n"
     ]
    },
    {
     "name": "stderr",
     "output_type": "stream",
     "text": [
      "Create N-grams: 100%|██████████| 2/2 [00:00<00:00, 11.02it/s]\n",
      "Create N-grams: 100%|██████████| 2/2 [00:00<00:00, 100.93it/s]\n",
      "Positive Validation/Test: 100%|██████████| 2088/2088 [00:00<00:00, 32126.94it/s]\n",
      "Negative Validation/Test: 100%|██████████| 279/279 [00:00<00:00, 17773.01it/s]\n"
     ]
    },
    {
     "name": "stdout",
     "output_type": "stream",
     "text": [
      "2022-07-04 23:44:26.676815\n",
      "learning N-grams\n",
      "Negative class N-grams\n"
     ]
    },
    {
     "name": "stderr",
     "output_type": "stream",
     "text": [
      "Create N-grams: 100%|██████████| 2/2 [00:00<00:00, 14.44it/s]\n"
     ]
    },
    {
     "name": "stdout",
     "output_type": "stream",
     "text": [
      "Positive class N-grams\n"
     ]
    },
    {
     "name": "stderr",
     "output_type": "stream",
     "text": [
      "Create N-grams: 100%|██████████| 2/2 [00:00<00:00,  2.33it/s]\n"
     ]
    },
    {
     "name": "stdout",
     "output_type": "stream",
     "text": [
      "2022-07-04 23:44:30.838962\n"
     ]
    },
    {
     "name": "stderr",
     "output_type": "stream",
     "text": [
      "Create N-grams: 100%|██████████| 2/2 [00:00<00:00, 10.54it/s]\n",
      "Create N-grams: 100%|██████████| 2/2 [00:00<00:00, 102.60it/s]\n",
      "Positive Validation/Test: 100%|██████████| 2088/2088 [00:00<00:00, 30757.72it/s]\n",
      "Negative Validation/Test: 100%|██████████| 279/279 [00:00<00:00, 19142.36it/s]\n"
     ]
    },
    {
     "name": "stdout",
     "output_type": "stream",
     "text": [
      "2022-07-04 23:44:31.165499\n",
      "learning N-grams\n",
      "Negative class N-grams\n"
     ]
    },
    {
     "name": "stderr",
     "output_type": "stream",
     "text": [
      "Create N-grams: 100%|██████████| 2/2 [00:00<00:00,  4.72it/s]\n"
     ]
    },
    {
     "name": "stdout",
     "output_type": "stream",
     "text": [
      "Positive class N-grams\n"
     ]
    },
    {
     "name": "stderr",
     "output_type": "stream",
     "text": [
      "Create N-grams: 100%|██████████| 2/2 [00:00<00:00,  2.32it/s]\n"
     ]
    },
    {
     "name": "stdout",
     "output_type": "stream",
     "text": [
      "2022-07-04 23:44:35.581067\n"
     ]
    },
    {
     "name": "stderr",
     "output_type": "stream",
     "text": [
      "Create N-grams: 100%|██████████| 2/2 [00:00<00:00, 11.17it/s]\n",
      "Create N-grams: 100%|██████████| 2/2 [00:00<00:00, 62.48it/s]\n",
      "Positive Validation/Test: 100%|██████████| 2088/2088 [00:00<00:00, 32568.03it/s]\n",
      "Negative Validation/Test: 100%|██████████| 279/279 [00:00<00:00, 18454.38it/s]\n"
     ]
    },
    {
     "name": "stdout",
     "output_type": "stream",
     "text": [
      "2022-07-04 23:44:35.899794\n",
      "learning N-grams\n",
      "Negative class N-grams\n"
     ]
    },
    {
     "name": "stderr",
     "output_type": "stream",
     "text": [
      "Create N-grams: 100%|██████████| 2/2 [00:00<00:00, 13.55it/s]\n"
     ]
    },
    {
     "name": "stdout",
     "output_type": "stream",
     "text": [
      "Positive class N-grams\n"
     ]
    },
    {
     "name": "stderr",
     "output_type": "stream",
     "text": [
      "Create N-grams: 100%|██████████| 2/2 [00:00<00:00,  2.34it/s]\n"
     ]
    },
    {
     "name": "stdout",
     "output_type": "stream",
     "text": [
      "2022-07-04 23:44:40.113927\n"
     ]
    },
    {
     "name": "stderr",
     "output_type": "stream",
     "text": [
      "Create N-grams: 100%|██████████| 2/2 [00:00<00:00, 10.89it/s]\n",
      "Create N-grams: 100%|██████████| 2/2 [00:00<00:00, 65.20it/s]\n",
      "Positive Validation/Test: 100%|██████████| 2088/2088 [00:00<00:00, 31324.06it/s]\n",
      "Negative Validation/Test: 100%|██████████| 279/279 [00:00<00:00, 22147.98it/s]\n"
     ]
    },
    {
     "name": "stdout",
     "output_type": "stream",
     "text": [
      "2022-07-04 23:44:40.437350\n",
      "learning N-grams\n",
      "Negative class N-grams\n"
     ]
    },
    {
     "name": "stderr",
     "output_type": "stream",
     "text": [
      "Create N-grams: 100%|██████████| 2/2 [00:00<00:00, 13.39it/s]\n"
     ]
    },
    {
     "name": "stdout",
     "output_type": "stream",
     "text": [
      "Positive class N-grams\n"
     ]
    },
    {
     "name": "stderr",
     "output_type": "stream",
     "text": [
      "Create N-grams: 100%|██████████| 2/2 [00:00<00:00,  2.28it/s]\n"
     ]
    },
    {
     "name": "stdout",
     "output_type": "stream",
     "text": [
      "2022-07-04 23:44:44.624570\n"
     ]
    },
    {
     "name": "stderr",
     "output_type": "stream",
     "text": [
      "Create N-grams: 100%|██████████| 2/2 [00:00<00:00, 10.72it/s]\n",
      "Create N-grams: 100%|██████████| 2/2 [00:00<00:00, 63.19it/s]\n",
      "Positive Validation/Test: 100%|██████████| 2088/2088 [00:00<00:00, 40542.31it/s]\n",
      "Negative Validation/Test: 100%|██████████| 279/279 [00:00<00:00, 18015.44it/s]\n"
     ]
    },
    {
     "name": "stdout",
     "output_type": "stream",
     "text": [
      "2022-07-04 23:44:44.951737\n",
      "learning N-grams\n",
      "Negative class N-grams\n"
     ]
    },
    {
     "name": "stderr",
     "output_type": "stream",
     "text": [
      "Create N-grams: 100%|██████████| 2/2 [00:00<00:00, 14.22it/s]\n"
     ]
    },
    {
     "name": "stdout",
     "output_type": "stream",
     "text": [
      "Positive class N-grams\n"
     ]
    },
    {
     "name": "stderr",
     "output_type": "stream",
     "text": [
      "Create N-grams: 100%|██████████| 2/2 [00:00<00:00,  2.32it/s]\n"
     ]
    },
    {
     "name": "stdout",
     "output_type": "stream",
     "text": [
      "2022-07-04 23:44:49.132733\n"
     ]
    },
    {
     "name": "stderr",
     "output_type": "stream",
     "text": [
      "Create N-grams: 100%|██████████| 2/2 [00:00<00:00, 11.02it/s]\n",
      "Create N-grams: 100%|██████████| 2/2 [00:00<00:00, 65.92it/s]\n",
      "Positive Validation/Test: 100%|██████████| 2088/2088 [00:00<00:00, 32552.66it/s]\n",
      "Negative Validation/Test: 100%|██████████| 279/279 [00:00<00:00, 15339.58it/s]\n"
     ]
    },
    {
     "name": "stdout",
     "output_type": "stream",
     "text": [
      "2022-07-04 23:44:49.455229\n",
      "learning N-grams\n",
      "Negative class N-grams\n"
     ]
    },
    {
     "name": "stderr",
     "output_type": "stream",
     "text": [
      "Create N-grams: 100%|██████████| 2/2 [00:00<00:00, 13.19it/s]\n"
     ]
    },
    {
     "name": "stdout",
     "output_type": "stream",
     "text": [
      "Positive class N-grams\n"
     ]
    },
    {
     "name": "stderr",
     "output_type": "stream",
     "text": [
      "Create N-grams: 100%|██████████| 2/2 [00:00<00:00,  2.33it/s]\n"
     ]
    },
    {
     "name": "stdout",
     "output_type": "stream",
     "text": [
      "2022-07-04 23:44:53.649022\n"
     ]
    },
    {
     "name": "stderr",
     "output_type": "stream",
     "text": [
      "Create N-grams: 100%|██████████| 2/2 [00:00<00:00, 10.52it/s]\n",
      "Create N-grams: 100%|██████████| 2/2 [00:00<00:00, 75.10it/s]\n",
      "Positive Validation/Test: 100%|██████████| 2088/2088 [00:00<00:00, 32484.32it/s]\n",
      "Negative Validation/Test: 100%|██████████| 279/279 [00:00<00:00, 14933.78it/s]\n"
     ]
    },
    {
     "name": "stdout",
     "output_type": "stream",
     "text": [
      "2022-07-04 23:44:53.964425\n",
      "learning N-grams\n",
      "Negative class N-grams\n"
     ]
    },
    {
     "name": "stderr",
     "output_type": "stream",
     "text": [
      "Create N-grams: 100%|██████████| 2/2 [00:00<00:00, 14.68it/s]\n"
     ]
    },
    {
     "name": "stdout",
     "output_type": "stream",
     "text": [
      "Positive class N-grams\n"
     ]
    },
    {
     "name": "stderr",
     "output_type": "stream",
     "text": [
      "Create N-grams: 100%|██████████| 2/2 [00:00<00:00,  2.30it/s]\n"
     ]
    },
    {
     "name": "stdout",
     "output_type": "stream",
     "text": [
      "2022-07-04 23:44:58.167149\n"
     ]
    },
    {
     "name": "stderr",
     "output_type": "stream",
     "text": [
      "Create N-grams: 100%|██████████| 2/2 [00:00<00:00, 10.35it/s]\n",
      "Create N-grams: 100%|██████████| 2/2 [00:00<00:00, 83.76it/s]\n",
      "Positive Validation/Test: 100%|██████████| 2088/2088 [00:00<00:00, 22015.13it/s]\n",
      "Negative Validation/Test: 100%|██████████| 279/279 [00:00<00:00, 46551.47it/s]\n"
     ]
    },
    {
     "name": "stdout",
     "output_type": "stream",
     "text": [
      "2022-07-04 23:44:58.527284\n",
      "learning N-grams\n",
      "Negative class N-grams\n"
     ]
    },
    {
     "name": "stderr",
     "output_type": "stream",
     "text": [
      "Create N-grams: 100%|██████████| 2/2 [00:00<00:00, 11.24it/s]\n"
     ]
    },
    {
     "name": "stdout",
     "output_type": "stream",
     "text": [
      "Positive class N-grams\n"
     ]
    },
    {
     "name": "stderr",
     "output_type": "stream",
     "text": [
      "Create N-grams: 100%|██████████| 2/2 [00:01<00:00,  1.78it/s]\n"
     ]
    },
    {
     "name": "stdout",
     "output_type": "stream",
     "text": [
      "2022-07-04 23:45:02.964649\n"
     ]
    },
    {
     "name": "stderr",
     "output_type": "stream",
     "text": [
      "Create N-grams: 100%|██████████| 2/2 [00:00<00:00, 10.98it/s]\n",
      "Create N-grams: 100%|██████████| 2/2 [00:00<00:00, 71.97it/s]\n",
      "Positive Validation/Test: 100%|██████████| 2088/2088 [00:00<00:00, 33316.75it/s]\n",
      "Negative Validation/Test: 100%|██████████| 279/279 [00:00<00:00, 17163.30it/s]\n"
     ]
    },
    {
     "name": "stdout",
     "output_type": "stream",
     "text": [
      "2022-07-04 23:45:03.283570\n",
      "learning N-grams\n",
      "Negative class N-grams\n"
     ]
    },
    {
     "name": "stderr",
     "output_type": "stream",
     "text": [
      "Create N-grams: 100%|██████████| 3/3 [00:00<00:00, 13.65it/s]\n"
     ]
    },
    {
     "name": "stdout",
     "output_type": "stream",
     "text": [
      "Positive class N-grams\n"
     ]
    },
    {
     "name": "stderr",
     "output_type": "stream",
     "text": [
      "Create N-grams: 100%|██████████| 3/3 [00:01<00:00,  2.31it/s]\n"
     ]
    },
    {
     "name": "stdout",
     "output_type": "stream",
     "text": [
      "2022-07-04 23:45:09.611363\n"
     ]
    },
    {
     "name": "stderr",
     "output_type": "stream",
     "text": [
      "Create N-grams: 100%|██████████| 3/3 [00:00<00:00, 10.01it/s]\n",
      "Create N-grams: 100%|██████████| 3/3 [00:00<00:00, 74.85it/s]\n",
      "Positive Validation/Test: 100%|██████████| 2088/2088 [00:00<00:00, 32916.41it/s]\n",
      "Negative Validation/Test: 100%|██████████| 279/279 [00:00<00:00, 15079.26it/s]\n"
     ]
    },
    {
     "name": "stdout",
     "output_type": "stream",
     "text": [
      "2022-07-04 23:45:10.048794\n",
      "learning N-grams\n",
      "Negative class N-grams\n"
     ]
    },
    {
     "name": "stderr",
     "output_type": "stream",
     "text": [
      "Create N-grams: 100%|██████████| 3/3 [00:00<00:00, 13.49it/s]\n"
     ]
    },
    {
     "name": "stdout",
     "output_type": "stream",
     "text": [
      "Positive class N-grams\n"
     ]
    },
    {
     "name": "stderr",
     "output_type": "stream",
     "text": [
      "Create N-grams: 100%|██████████| 3/3 [00:01<00:00,  2.32it/s]\n"
     ]
    },
    {
     "name": "stdout",
     "output_type": "stream",
     "text": [
      "2022-07-04 23:45:16.386056\n"
     ]
    },
    {
     "name": "stderr",
     "output_type": "stream",
     "text": [
      "Create N-grams: 100%|██████████| 3/3 [00:00<00:00, 11.24it/s]\n",
      "Create N-grams: 100%|██████████| 3/3 [00:00<00:00, 82.46it/s]\n",
      "Positive Validation/Test: 100%|██████████| 2088/2088 [00:00<00:00, 39886.44it/s]\n",
      "Negative Validation/Test: 100%|██████████| 279/279 [00:00<00:00, 17420.85it/s]\n"
     ]
    },
    {
     "name": "stdout",
     "output_type": "stream",
     "text": [
      "2022-07-04 23:45:16.800394\n",
      "learning N-grams\n",
      "Negative class N-grams\n"
     ]
    },
    {
     "name": "stderr",
     "output_type": "stream",
     "text": [
      "Create N-grams: 100%|██████████| 3/3 [00:00<00:00, 11.64it/s]\n"
     ]
    },
    {
     "name": "stdout",
     "output_type": "stream",
     "text": [
      "Positive class N-grams\n"
     ]
    },
    {
     "name": "stderr",
     "output_type": "stream",
     "text": [
      "Create N-grams: 100%|██████████| 3/3 [00:01<00:00,  2.37it/s]\n"
     ]
    },
    {
     "name": "stdout",
     "output_type": "stream",
     "text": [
      "2022-07-04 23:45:23.137230\n"
     ]
    },
    {
     "name": "stderr",
     "output_type": "stream",
     "text": [
      "Create N-grams: 100%|██████████| 3/3 [00:00<00:00, 10.36it/s]\n",
      "Create N-grams: 100%|██████████| 3/3 [00:00<00:00, 73.92it/s]\n",
      "Positive Validation/Test: 100%|██████████| 2088/2088 [00:00<00:00, 33100.54it/s]\n",
      "Negative Validation/Test: 100%|██████████| 279/279 [00:00<00:00, 16498.57it/s]\n"
     ]
    },
    {
     "name": "stdout",
     "output_type": "stream",
     "text": [
      "2022-07-04 23:45:23.563119\n",
      "learning N-grams\n",
      "Negative class N-grams\n"
     ]
    },
    {
     "name": "stderr",
     "output_type": "stream",
     "text": [
      "Create N-grams: 100%|██████████| 3/3 [00:00<00:00, 13.30it/s]\n"
     ]
    },
    {
     "name": "stdout",
     "output_type": "stream",
     "text": [
      "Positive class N-grams\n"
     ]
    },
    {
     "name": "stderr",
     "output_type": "stream",
     "text": [
      "Create N-grams: 100%|██████████| 3/3 [00:01<00:00,  2.33it/s]\n"
     ]
    },
    {
     "name": "stdout",
     "output_type": "stream",
     "text": [
      "2022-07-04 23:45:30.237935\n"
     ]
    },
    {
     "name": "stderr",
     "output_type": "stream",
     "text": [
      "Create N-grams: 100%|██████████| 3/3 [00:00<00:00, 11.08it/s]\n",
      "Create N-grams: 100%|██████████| 3/3 [00:00<00:00, 67.79it/s]\n",
      "Positive Validation/Test: 100%|██████████| 2088/2088 [00:00<00:00, 32278.98it/s]\n",
      "Negative Validation/Test: 100%|██████████| 279/279 [00:00<00:00, 18598.98it/s]\n"
     ]
    },
    {
     "name": "stdout",
     "output_type": "stream",
     "text": [
      "2022-07-04 23:45:30.663828\n",
      "learning N-grams\n",
      "Negative class N-grams\n"
     ]
    },
    {
     "name": "stderr",
     "output_type": "stream",
     "text": [
      "Create N-grams: 100%|██████████| 3/3 [00:00<00:00, 13.58it/s]\n"
     ]
    },
    {
     "name": "stdout",
     "output_type": "stream",
     "text": [
      "Positive class N-grams\n"
     ]
    },
    {
     "name": "stderr",
     "output_type": "stream",
     "text": [
      "Create N-grams: 100%|██████████| 3/3 [00:01<00:00,  2.35it/s]\n"
     ]
    },
    {
     "name": "stdout",
     "output_type": "stream",
     "text": [
      "2022-07-04 23:45:36.938314\n"
     ]
    },
    {
     "name": "stderr",
     "output_type": "stream",
     "text": [
      "Create N-grams: 100%|██████████| 3/3 [00:00<00:00, 11.00it/s]\n",
      "Create N-grams: 100%|██████████| 3/3 [00:00<00:00, 67.75it/s]\n",
      "Positive Validation/Test: 100%|██████████| 2088/2088 [00:00<00:00, 31045.24it/s]\n",
      "Negative Validation/Test: 100%|██████████| 279/279 [00:00<00:00, 25298.03it/s]\n"
     ]
    },
    {
     "name": "stdout",
     "output_type": "stream",
     "text": [
      "2022-07-04 23:45:37.362224\n",
      "learning N-grams\n",
      "Negative class N-grams\n"
     ]
    },
    {
     "name": "stderr",
     "output_type": "stream",
     "text": [
      "Create N-grams: 100%|██████████| 3/3 [00:00<00:00, 13.31it/s]\n"
     ]
    },
    {
     "name": "stdout",
     "output_type": "stream",
     "text": [
      "Positive class N-grams\n"
     ]
    },
    {
     "name": "stderr",
     "output_type": "stream",
     "text": [
      "Create N-grams: 100%|██████████| 3/3 [00:01<00:00,  2.34it/s]\n"
     ]
    },
    {
     "name": "stdout",
     "output_type": "stream",
     "text": [
      "2022-07-04 23:45:43.711610\n"
     ]
    },
    {
     "name": "stderr",
     "output_type": "stream",
     "text": [
      "Create N-grams: 100%|██████████| 3/3 [00:00<00:00, 11.10it/s]\n",
      "Create N-grams: 100%|██████████| 3/3 [00:00<00:00, 65.61it/s]\n",
      "Positive Validation/Test: 100%|██████████| 2088/2088 [00:00<00:00, 33830.13it/s]\n",
      "Negative Validation/Test: 100%|██████████| 279/279 [00:00<00:00, 16695.35it/s]\n"
     ]
    },
    {
     "name": "stdout",
     "output_type": "stream",
     "text": [
      "2022-07-04 23:45:44.121753\n",
      "learning N-grams\n",
      "Negative class N-grams\n"
     ]
    },
    {
     "name": "stderr",
     "output_type": "stream",
     "text": [
      "Create N-grams: 100%|██████████| 3/3 [00:00<00:00, 13.30it/s]\n"
     ]
    },
    {
     "name": "stdout",
     "output_type": "stream",
     "text": [
      "Positive class N-grams\n"
     ]
    },
    {
     "name": "stderr",
     "output_type": "stream",
     "text": [
      "Create N-grams: 100%|██████████| 3/3 [00:01<00:00,  2.36it/s]\n"
     ]
    },
    {
     "name": "stdout",
     "output_type": "stream",
     "text": [
      "2022-07-04 23:45:50.699678\n"
     ]
    },
    {
     "name": "stderr",
     "output_type": "stream",
     "text": [
      "Create N-grams: 100%|██████████| 3/3 [00:00<00:00, 10.71it/s]\n",
      "Create N-grams: 100%|██████████| 3/3 [00:00<00:00, 68.84it/s]\n",
      "Positive Validation/Test: 100%|██████████| 2088/2088 [00:00<00:00, 26372.60it/s]\n",
      "Negative Validation/Test: 100%|██████████| 279/279 [00:00<00:00, 19498.31it/s]\n"
     ]
    },
    {
     "name": "stdout",
     "output_type": "stream",
     "text": [
      "2022-07-04 23:45:51.147276\n",
      "learning N-grams\n",
      "Negative class N-grams\n"
     ]
    },
    {
     "name": "stderr",
     "output_type": "stream",
     "text": [
      "Create N-grams: 100%|██████████| 3/3 [00:00<00:00, 14.02it/s]\n"
     ]
    },
    {
     "name": "stdout",
     "output_type": "stream",
     "text": [
      "Positive class N-grams\n"
     ]
    },
    {
     "name": "stderr",
     "output_type": "stream",
     "text": [
      "Create N-grams: 100%|██████████| 3/3 [00:01<00:00,  2.33it/s]\n"
     ]
    },
    {
     "name": "stdout",
     "output_type": "stream",
     "text": [
      "2022-07-04 23:45:57.518932\n"
     ]
    },
    {
     "name": "stderr",
     "output_type": "stream",
     "text": [
      "Create N-grams: 100%|██████████| 3/3 [00:00<00:00, 11.17it/s]\n",
      "Create N-grams: 100%|██████████| 3/3 [00:00<00:00, 62.49it/s]\n",
      "Positive Validation/Test: 100%|██████████| 2088/2088 [00:00<00:00, 32206.45it/s]\n",
      "Negative Validation/Test: 100%|██████████| 279/279 [00:00<00:00, 17604.83it/s]\n"
     ]
    },
    {
     "name": "stdout",
     "output_type": "stream",
     "text": [
      "2022-07-04 23:45:57.945730\n",
      "learning N-grams\n",
      "Negative class N-grams\n"
     ]
    },
    {
     "name": "stderr",
     "output_type": "stream",
     "text": [
      "Create N-grams: 100%|██████████| 3/3 [00:00<00:00, 13.48it/s]\n"
     ]
    },
    {
     "name": "stdout",
     "output_type": "stream",
     "text": [
      "Positive class N-grams\n"
     ]
    },
    {
     "name": "stderr",
     "output_type": "stream",
     "text": [
      "Create N-grams: 100%|██████████| 3/3 [00:01<00:00,  2.33it/s]\n"
     ]
    },
    {
     "name": "stdout",
     "output_type": "stream",
     "text": [
      "2022-07-04 23:46:04.277767\n"
     ]
    },
    {
     "name": "stderr",
     "output_type": "stream",
     "text": [
      "Create N-grams: 100%|██████████| 3/3 [00:00<00:00, 10.67it/s]\n",
      "Create N-grams: 100%|██████████| 3/3 [00:00<00:00, 63.52it/s]\n",
      "Positive Validation/Test: 100%|██████████| 2088/2088 [00:00<00:00, 41769.60it/s]\n",
      "Negative Validation/Test: 100%|██████████| 279/279 [00:00<00:00, 13101.48it/s]\n"
     ]
    },
    {
     "name": "stdout",
     "output_type": "stream",
     "text": [
      "2022-07-04 23:46:04.714205\n",
      "learning N-grams\n",
      "Negative class N-grams\n"
     ]
    },
    {
     "name": "stderr",
     "output_type": "stream",
     "text": [
      "Create N-grams: 100%|██████████| 3/3 [00:00<00:00, 13.89it/s]\n"
     ]
    },
    {
     "name": "stdout",
     "output_type": "stream",
     "text": [
      "Positive class N-grams\n"
     ]
    },
    {
     "name": "stderr",
     "output_type": "stream",
     "text": [
      "Create N-grams: 100%|██████████| 3/3 [00:01<00:00,  2.34it/s]\n"
     ]
    },
    {
     "name": "stdout",
     "output_type": "stream",
     "text": [
      "2022-07-04 23:46:11.040208\n"
     ]
    },
    {
     "name": "stderr",
     "output_type": "stream",
     "text": [
      "Create N-grams: 100%|██████████| 3/3 [00:00<00:00, 10.80it/s]\n",
      "Create N-grams: 100%|██████████| 3/3 [00:00<00:00, 65.63it/s]\n",
      "Positive Validation/Test: 100%|██████████| 2088/2088 [00:00<00:00, 40312.58it/s]\n",
      "Negative Validation/Test: 100%|██████████| 279/279 [00:00<00:00, 22700.06it/s]\n"
     ]
    },
    {
     "name": "stdout",
     "output_type": "stream",
     "text": [
      "2022-07-04 23:46:11.467454\n",
      "learning N-grams\n",
      "Negative class N-grams\n"
     ]
    },
    {
     "name": "stderr",
     "output_type": "stream",
     "text": [
      "Create N-grams: 100%|██████████| 3/3 [00:00<00:00, 13.64it/s]\n"
     ]
    },
    {
     "name": "stdout",
     "output_type": "stream",
     "text": [
      "Positive class N-grams\n"
     ]
    },
    {
     "name": "stderr",
     "output_type": "stream",
     "text": [
      "Create N-grams: 100%|██████████| 3/3 [00:01<00:00,  1.95it/s]\n"
     ]
    },
    {
     "name": "stdout",
     "output_type": "stream",
     "text": [
      "2022-07-04 23:46:18.075197\n"
     ]
    },
    {
     "name": "stderr",
     "output_type": "stream",
     "text": [
      "Create N-grams: 100%|██████████| 3/3 [00:00<00:00, 11.34it/s]\n",
      "Create N-grams: 100%|██████████| 3/3 [00:00<00:00, 45.65it/s]\n",
      "Positive Validation/Test: 100%|██████████| 2088/2088 [00:00<00:00, 40523.55it/s]\n",
      "Negative Validation/Test: 100%|██████████| 279/279 [00:00<00:00, 15066.45it/s]\n"
     ]
    },
    {
     "name": "stdout",
     "output_type": "stream",
     "text": [
      "2022-07-04 23:46:18.516370\n",
      "learning N-grams\n",
      "Negative class N-grams\n"
     ]
    },
    {
     "name": "stderr",
     "output_type": "stream",
     "text": [
      "Create N-grams: 100%|██████████| 3/3 [00:00<00:00, 13.59it/s]\n"
     ]
    },
    {
     "name": "stdout",
     "output_type": "stream",
     "text": [
      "Positive class N-grams\n"
     ]
    },
    {
     "name": "stderr",
     "output_type": "stream",
     "text": [
      "Create N-grams: 100%|██████████| 3/3 [00:01<00:00,  2.36it/s]\n"
     ]
    },
    {
     "name": "stdout",
     "output_type": "stream",
     "text": [
      "2022-07-04 23:46:24.815674\n"
     ]
    },
    {
     "name": "stderr",
     "output_type": "stream",
     "text": [
      "Create N-grams: 100%|██████████| 3/3 [00:00<00:00, 11.04it/s]\n",
      "Create N-grams: 100%|██████████| 3/3 [00:00<00:00, 72.44it/s]\n",
      "Positive Validation/Test: 100%|██████████| 2088/2088 [00:00<00:00, 31327.87it/s]\n",
      "Negative Validation/Test: 100%|██████████| 279/279 [00:00<00:00, 24861.08it/s]\n"
     ]
    },
    {
     "name": "stdout",
     "output_type": "stream",
     "text": [
      "2022-07-04 23:46:25.236897\n",
      "learning N-grams\n",
      "Negative class N-grams\n"
     ]
    },
    {
     "name": "stderr",
     "output_type": "stream",
     "text": [
      "Create N-grams: 100%|██████████| 3/3 [00:00<00:00, 13.70it/s]\n"
     ]
    },
    {
     "name": "stdout",
     "output_type": "stream",
     "text": [
      "Positive class N-grams\n"
     ]
    },
    {
     "name": "stderr",
     "output_type": "stream",
     "text": [
      "Create N-grams: 100%|██████████| 3/3 [00:01<00:00,  2.35it/s]\n"
     ]
    },
    {
     "name": "stdout",
     "output_type": "stream",
     "text": [
      "2022-07-04 23:46:31.599881\n"
     ]
    },
    {
     "name": "stderr",
     "output_type": "stream",
     "text": [
      "Create N-grams: 100%|██████████| 3/3 [00:00<00:00, 11.04it/s]\n",
      "Create N-grams: 100%|██████████| 3/3 [00:00<00:00, 88.27it/s]\n",
      "Positive Validation/Test: 100%|██████████| 2088/2088 [00:00<00:00, 40602.27it/s]\n",
      "Negative Validation/Test: 100%|██████████| 279/279 [00:00<00:00, 17857.91it/s]\n"
     ]
    },
    {
     "name": "stdout",
     "output_type": "stream",
     "text": [
      "2022-07-04 23:46:32.022708\n",
      "learning N-grams\n",
      "Negative class N-grams\n"
     ]
    },
    {
     "name": "stderr",
     "output_type": "stream",
     "text": [
      "Create N-grams: 100%|██████████| 3/3 [00:00<00:00, 14.77it/s]\n"
     ]
    },
    {
     "name": "stdout",
     "output_type": "stream",
     "text": [
      "Positive class N-grams\n"
     ]
    },
    {
     "name": "stderr",
     "output_type": "stream",
     "text": [
      "Create N-grams: 100%|██████████| 3/3 [00:01<00:00,  2.36it/s]\n"
     ]
    },
    {
     "name": "stdout",
     "output_type": "stream",
     "text": [
      "2022-07-04 23:46:38.305372\n"
     ]
    },
    {
     "name": "stderr",
     "output_type": "stream",
     "text": [
      "Create N-grams: 100%|██████████| 3/3 [00:00<00:00, 10.83it/s]\n",
      "Create N-grams: 100%|██████████| 3/3 [00:00<00:00, 68.47it/s]\n",
      "Positive Validation/Test: 100%|██████████| 2088/2088 [00:00<00:00, 25035.68it/s]\n",
      "Negative Validation/Test: 100%|██████████| 279/279 [00:00<00:00, 27166.19it/s]\n"
     ]
    },
    {
     "name": "stdout",
     "output_type": "stream",
     "text": [
      "2022-07-04 23:46:38.748387\n",
      "learning N-grams\n",
      "Negative class N-grams\n"
     ]
    },
    {
     "name": "stderr",
     "output_type": "stream",
     "text": [
      "Create N-grams: 100%|██████████| 3/3 [00:00<00:00, 13.72it/s]\n"
     ]
    },
    {
     "name": "stdout",
     "output_type": "stream",
     "text": [
      "Positive class N-grams\n"
     ]
    },
    {
     "name": "stderr",
     "output_type": "stream",
     "text": [
      "Create N-grams: 100%|██████████| 3/3 [00:01<00:00,  2.32it/s]\n"
     ]
    },
    {
     "name": "stdout",
     "output_type": "stream",
     "text": [
      "2022-07-04 23:46:45.313153\n"
     ]
    },
    {
     "name": "stderr",
     "output_type": "stream",
     "text": [
      "Create N-grams: 100%|██████████| 3/3 [00:00<00:00, 10.25it/s]\n",
      "Create N-grams: 100%|██████████| 3/3 [00:00<00:00, 64.82it/s]\n",
      "Positive Validation/Test: 100%|██████████| 2088/2088 [00:00<00:00, 33214.90it/s]\n",
      "Negative Validation/Test: 100%|██████████| 279/279 [00:00<00:00, 15767.42it/s]\n"
     ]
    },
    {
     "name": "stdout",
     "output_type": "stream",
     "text": [
      "2022-07-04 23:46:45.760128\n",
      "learning N-grams\n",
      "Negative class N-grams\n"
     ]
    },
    {
     "name": "stderr",
     "output_type": "stream",
     "text": [
      "Create N-grams: 100%|██████████| 3/3 [00:00<00:00, 13.48it/s]\n"
     ]
    },
    {
     "name": "stdout",
     "output_type": "stream",
     "text": [
      "Positive class N-grams\n"
     ]
    },
    {
     "name": "stderr",
     "output_type": "stream",
     "text": [
      "Create N-grams: 100%|██████████| 3/3 [00:01<00:00,  2.34it/s]\n"
     ]
    },
    {
     "name": "stdout",
     "output_type": "stream",
     "text": [
      "2022-07-04 23:46:52.042983\n"
     ]
    },
    {
     "name": "stderr",
     "output_type": "stream",
     "text": [
      "Create N-grams: 100%|██████████| 3/3 [00:00<00:00, 10.81it/s]\n",
      "Create N-grams: 100%|██████████| 3/3 [00:00<00:00, 75.83it/s]\n",
      "Positive Validation/Test: 100%|██████████| 2088/2088 [00:00<00:00, 31945.18it/s]\n",
      "Negative Validation/Test: 100%|██████████| 279/279 [00:00<00:00, 34990.16it/s]\n"
     ]
    },
    {
     "name": "stdout",
     "output_type": "stream",
     "text": [
      "2022-07-04 23:46:52.477236\n",
      "learning N-grams\n",
      "Negative class N-grams\n"
     ]
    },
    {
     "name": "stderr",
     "output_type": "stream",
     "text": [
      "Create N-grams: 100%|██████████| 1/1 [00:00<00:00,  6.89it/s]\n"
     ]
    },
    {
     "name": "stdout",
     "output_type": "stream",
     "text": [
      "Positive class N-grams\n"
     ]
    },
    {
     "name": "stderr",
     "output_type": "stream",
     "text": [
      "Create N-grams: 100%|██████████| 1/1 [00:00<00:00,  1.19it/s]\n"
     ]
    },
    {
     "name": "stdout",
     "output_type": "stream",
     "text": [
      "2022-07-04 23:46:55.954578\n"
     ]
    },
    {
     "name": "stderr",
     "output_type": "stream",
     "text": [
      "Create N-grams: 100%|██████████| 1/1 [00:00<00:00,  5.33it/s]\n",
      "Create N-grams: 100%|██████████| 1/1 [00:00<00:00, 43.68it/s]\n",
      "Positive Validation/Test: 100%|██████████| 2087/2087 [00:00<00:00, 19087.47it/s]\n",
      "Negative Validation/Test: 100%|██████████| 287/287 [00:00<00:00, 8454.36it/s]\n"
     ]
    },
    {
     "name": "stdout",
     "output_type": "stream",
     "text": [
      "2022-07-04 23:46:56.345449\n",
      "learning N-grams\n",
      "Negative class N-grams\n"
     ]
    },
    {
     "name": "stderr",
     "output_type": "stream",
     "text": [
      "Create N-grams: 100%|██████████| 1/1 [00:00<00:00,  6.44it/s]\n"
     ]
    },
    {
     "name": "stdout",
     "output_type": "stream",
     "text": [
      "Positive class N-grams\n"
     ]
    },
    {
     "name": "stderr",
     "output_type": "stream",
     "text": [
      "Create N-grams: 100%|██████████| 1/1 [00:00<00:00,  1.19it/s]\n"
     ]
    },
    {
     "name": "stdout",
     "output_type": "stream",
     "text": [
      "2022-07-04 23:46:59.822296\n"
     ]
    },
    {
     "name": "stderr",
     "output_type": "stream",
     "text": [
      "Create N-grams: 100%|██████████| 1/1 [00:00<00:00,  5.28it/s]\n",
      "Create N-grams: 100%|██████████| 1/1 [00:00<00:00, 53.33it/s]\n",
      "Positive Validation/Test: 100%|██████████| 2087/2087 [00:00<00:00, 17697.41it/s]\n",
      "Negative Validation/Test: 100%|██████████| 287/287 [00:00<00:00, 9757.83it/s]\n"
     ]
    },
    {
     "name": "stdout",
     "output_type": "stream",
     "text": [
      "2022-07-04 23:47:00.219863\n",
      "learning N-grams\n",
      "Negative class N-grams\n"
     ]
    },
    {
     "name": "stderr",
     "output_type": "stream",
     "text": [
      "Create N-grams: 100%|██████████| 1/1 [00:00<00:00,  7.11it/s]\n"
     ]
    },
    {
     "name": "stdout",
     "output_type": "stream",
     "text": [
      "Positive class N-grams\n"
     ]
    },
    {
     "name": "stderr",
     "output_type": "stream",
     "text": [
      "Create N-grams: 100%|██████████| 1/1 [00:00<00:00,  1.20it/s]\n"
     ]
    },
    {
     "name": "stdout",
     "output_type": "stream",
     "text": [
      "2022-07-04 23:47:03.730199\n"
     ]
    },
    {
     "name": "stderr",
     "output_type": "stream",
     "text": [
      "Create N-grams: 100%|██████████| 1/1 [00:00<00:00,  4.99it/s]\n",
      "Create N-grams: 100%|██████████| 1/1 [00:00<00:00, 43.56it/s]\n",
      "Positive Validation/Test: 100%|██████████| 2087/2087 [00:00<00:00, 18507.43it/s]\n",
      "Negative Validation/Test: 100%|██████████| 287/287 [00:00<00:00, 8889.19it/s]\n"
     ]
    },
    {
     "name": "stdout",
     "output_type": "stream",
     "text": [
      "2022-07-04 23:47:04.147325\n",
      "learning N-grams\n",
      "Negative class N-grams\n"
     ]
    },
    {
     "name": "stderr",
     "output_type": "stream",
     "text": [
      "Create N-grams: 100%|██████████| 1/1 [00:00<00:00,  6.54it/s]\n"
     ]
    },
    {
     "name": "stdout",
     "output_type": "stream",
     "text": [
      "Positive class N-grams\n"
     ]
    },
    {
     "name": "stderr",
     "output_type": "stream",
     "text": [
      "Create N-grams: 100%|██████████| 1/1 [00:00<00:00,  1.20it/s]\n"
     ]
    },
    {
     "name": "stdout",
     "output_type": "stream",
     "text": [
      "2022-07-04 23:47:07.615406\n"
     ]
    },
    {
     "name": "stderr",
     "output_type": "stream",
     "text": [
      "Create N-grams: 100%|██████████| 1/1 [00:00<00:00,  5.11it/s]\n",
      "Create N-grams: 100%|██████████| 1/1 [00:00<00:00, 41.60it/s]\n",
      "Positive Validation/Test: 100%|██████████| 2087/2087 [00:00<00:00, 18250.63it/s]\n",
      "Negative Validation/Test: 100%|██████████| 287/287 [00:00<00:00, 13533.66it/s]\n"
     ]
    },
    {
     "name": "stdout",
     "output_type": "stream",
     "text": [
      "2022-07-04 23:47:08.008595\n",
      "learning N-grams\n",
      "Negative class N-grams\n"
     ]
    },
    {
     "name": "stderr",
     "output_type": "stream",
     "text": [
      "Create N-grams: 100%|██████████| 1/1 [00:00<00:00,  6.22it/s]\n"
     ]
    },
    {
     "name": "stdout",
     "output_type": "stream",
     "text": [
      "Positive class N-grams\n"
     ]
    },
    {
     "name": "stderr",
     "output_type": "stream",
     "text": [
      "Create N-grams: 100%|██████████| 1/1 [00:00<00:00,  1.22it/s]\n"
     ]
    },
    {
     "name": "stdout",
     "output_type": "stream",
     "text": [
      "2022-07-04 23:47:11.493859\n"
     ]
    },
    {
     "name": "stderr",
     "output_type": "stream",
     "text": [
      "Create N-grams: 100%|██████████| 1/1 [00:00<00:00,  5.35it/s]\n",
      "Create N-grams: 100%|██████████| 1/1 [00:00<00:00, 21.33it/s]\n",
      "Positive Validation/Test: 100%|██████████| 2087/2087 [00:00<00:00, 17338.29it/s]\n",
      "Negative Validation/Test: 100%|██████████| 287/287 [00:00<00:00, 33505.87it/s]\n"
     ]
    },
    {
     "name": "stdout",
     "output_type": "stream",
     "text": [
      "2022-07-04 23:47:11.887784\n",
      "learning N-grams\n",
      "Negative class N-grams\n"
     ]
    },
    {
     "name": "stderr",
     "output_type": "stream",
     "text": [
      "Create N-grams: 100%|██████████| 1/1 [00:00<00:00,  7.36it/s]\n"
     ]
    },
    {
     "name": "stdout",
     "output_type": "stream",
     "text": [
      "Positive class N-grams\n"
     ]
    },
    {
     "name": "stderr",
     "output_type": "stream",
     "text": [
      "Create N-grams: 100%|██████████| 1/1 [00:00<00:00,  1.20it/s]\n"
     ]
    },
    {
     "name": "stdout",
     "output_type": "stream",
     "text": [
      "2022-07-04 23:47:15.359104\n"
     ]
    },
    {
     "name": "stderr",
     "output_type": "stream",
     "text": [
      "Create N-grams: 100%|██████████| 1/1 [00:00<00:00,  5.34it/s]\n",
      "Create N-grams: 100%|██████████| 1/1 [00:00<00:00, 28.67it/s]\n",
      "Positive Validation/Test: 100%|██████████| 2087/2087 [00:00<00:00, 19351.88it/s]\n",
      "Negative Validation/Test: 100%|██████████| 287/287 [00:00<00:00, 43358.62it/s]\n"
     ]
    },
    {
     "name": "stdout",
     "output_type": "stream",
     "text": [
      "2022-07-04 23:47:15.748511\n",
      "learning N-grams\n",
      "Negative class N-grams\n"
     ]
    },
    {
     "name": "stderr",
     "output_type": "stream",
     "text": [
      "Create N-grams: 100%|██████████| 1/1 [00:00<00:00,  7.18it/s]\n"
     ]
    },
    {
     "name": "stdout",
     "output_type": "stream",
     "text": [
      "Positive class N-grams\n"
     ]
    },
    {
     "name": "stderr",
     "output_type": "stream",
     "text": [
      "Create N-grams: 100%|██████████| 1/1 [00:01<00:00,  1.10s/it]\n"
     ]
    },
    {
     "name": "stdout",
     "output_type": "stream",
     "text": [
      "2022-07-04 23:47:19.522169\n"
     ]
    },
    {
     "name": "stderr",
     "output_type": "stream",
     "text": [
      "Create N-grams: 100%|██████████| 1/1 [00:00<00:00,  5.31it/s]\n",
      "Create N-grams: 100%|██████████| 1/1 [00:00<00:00, 29.96it/s]\n",
      "Positive Validation/Test: 100%|██████████| 2087/2087 [00:00<00:00, 16248.03it/s]\n",
      "Negative Validation/Test: 100%|██████████| 287/287 [00:00<00:00, 15327.95it/s]\n"
     ]
    },
    {
     "name": "stdout",
     "output_type": "stream",
     "text": [
      "2022-07-04 23:47:19.925663\n",
      "learning N-grams\n",
      "Negative class N-grams\n"
     ]
    },
    {
     "name": "stderr",
     "output_type": "stream",
     "text": [
      "Create N-grams: 100%|██████████| 1/1 [00:00<00:00,  7.11it/s]\n"
     ]
    },
    {
     "name": "stdout",
     "output_type": "stream",
     "text": [
      "Positive class N-grams\n"
     ]
    },
    {
     "name": "stderr",
     "output_type": "stream",
     "text": [
      "Create N-grams: 100%|██████████| 1/1 [00:00<00:00,  1.18it/s]\n"
     ]
    },
    {
     "name": "stdout",
     "output_type": "stream",
     "text": [
      "2022-07-04 23:47:23.370689\n"
     ]
    },
    {
     "name": "stderr",
     "output_type": "stream",
     "text": [
      "Create N-grams: 100%|██████████| 1/1 [00:00<00:00,  5.57it/s]\n",
      "Create N-grams: 100%|██████████| 1/1 [00:00<00:00, 53.20it/s]\n",
      "Positive Validation/Test: 100%|██████████| 2087/2087 [00:00<00:00, 18365.27it/s]\n",
      "Negative Validation/Test: 100%|██████████| 287/287 [00:00<00:00, 13884.10it/s]\n"
     ]
    },
    {
     "name": "stdout",
     "output_type": "stream",
     "text": [
      "2022-07-04 23:47:23.760227\n",
      "learning N-grams\n",
      "Negative class N-grams\n"
     ]
    },
    {
     "name": "stderr",
     "output_type": "stream",
     "text": [
      "Create N-grams: 100%|██████████| 1/1 [00:00<00:00,  7.25it/s]\n"
     ]
    },
    {
     "name": "stdout",
     "output_type": "stream",
     "text": [
      "Positive class N-grams\n"
     ]
    },
    {
     "name": "stderr",
     "output_type": "stream",
     "text": [
      "Create N-grams: 100%|██████████| 1/1 [00:00<00:00,  1.18it/s]\n"
     ]
    },
    {
     "name": "stdout",
     "output_type": "stream",
     "text": [
      "2022-07-04 23:47:27.268729\n"
     ]
    },
    {
     "name": "stderr",
     "output_type": "stream",
     "text": [
      "Create N-grams: 100%|██████████| 1/1 [00:00<00:00,  5.53it/s]\n",
      "Create N-grams: 100%|██████████| 1/1 [00:00<00:00, 48.44it/s]\n",
      "Positive Validation/Test: 100%|██████████| 2087/2087 [00:00<00:00, 14008.31it/s]\n",
      "Negative Validation/Test: 100%|██████████| 287/287 [00:00<00:00, 11614.42it/s]\n"
     ]
    },
    {
     "name": "stdout",
     "output_type": "stream",
     "text": [
      "2022-07-04 23:47:27.690716\n",
      "learning N-grams\n",
      "Negative class N-grams\n"
     ]
    },
    {
     "name": "stderr",
     "output_type": "stream",
     "text": [
      "Create N-grams: 100%|██████████| 1/1 [00:00<00:00,  6.29it/s]\n"
     ]
    },
    {
     "name": "stdout",
     "output_type": "stream",
     "text": [
      "Positive class N-grams\n"
     ]
    },
    {
     "name": "stderr",
     "output_type": "stream",
     "text": [
      "Create N-grams: 100%|██████████| 1/1 [00:00<00:00,  1.13it/s]\n"
     ]
    },
    {
     "name": "stdout",
     "output_type": "stream",
     "text": [
      "2022-07-04 23:47:31.438106\n"
     ]
    },
    {
     "name": "stderr",
     "output_type": "stream",
     "text": [
      "Create N-grams: 100%|██████████| 1/1 [00:00<00:00,  4.74it/s]\n",
      "Create N-grams: 100%|██████████| 1/1 [00:00<00:00, 30.30it/s]\n",
      "Positive Validation/Test: 100%|██████████| 2087/2087 [00:00<00:00, 15233.41it/s]\n",
      "Negative Validation/Test: 100%|██████████| 287/287 [00:00<00:00, 11480.39it/s]\n"
     ]
    },
    {
     "name": "stdout",
     "output_type": "stream",
     "text": [
      "2022-07-04 23:47:31.880514\n",
      "learning N-grams\n",
      "Negative class N-grams\n"
     ]
    },
    {
     "name": "stderr",
     "output_type": "stream",
     "text": [
      "Create N-grams: 100%|██████████| 1/1 [00:00<00:00,  6.58it/s]\n"
     ]
    },
    {
     "name": "stdout",
     "output_type": "stream",
     "text": [
      "Positive class N-grams\n"
     ]
    },
    {
     "name": "stderr",
     "output_type": "stream",
     "text": [
      "Create N-grams: 100%|██████████| 1/1 [00:00<00:00,  1.13it/s]\n"
     ]
    },
    {
     "name": "stdout",
     "output_type": "stream",
     "text": [
      "2022-07-04 23:47:35.653007\n"
     ]
    },
    {
     "name": "stderr",
     "output_type": "stream",
     "text": [
      "Create N-grams: 100%|██████████| 1/1 [00:00<00:00,  5.13it/s]\n",
      "Create N-grams: 100%|██████████| 1/1 [00:00<00:00, 30.31it/s]\n",
      "Positive Validation/Test: 100%|██████████| 2087/2087 [00:00<00:00, 17128.25it/s]\n",
      "Negative Validation/Test: 100%|██████████| 287/287 [00:00<00:00, 13045.55it/s]\n"
     ]
    },
    {
     "name": "stdout",
     "output_type": "stream",
     "text": [
      "2022-07-04 23:47:36.067913\n",
      "learning N-grams\n",
      "Negative class N-grams\n"
     ]
    },
    {
     "name": "stderr",
     "output_type": "stream",
     "text": [
      "Create N-grams: 100%|██████████| 1/1 [00:00<00:00,  6.29it/s]\n"
     ]
    },
    {
     "name": "stdout",
     "output_type": "stream",
     "text": [
      "Positive class N-grams\n"
     ]
    },
    {
     "name": "stderr",
     "output_type": "stream",
     "text": [
      "Create N-grams: 100%|██████████| 1/1 [00:00<00:00,  1.10it/s]\n"
     ]
    },
    {
     "name": "stdout",
     "output_type": "stream",
     "text": [
      "2022-07-04 23:47:39.784031\n"
     ]
    },
    {
     "name": "stderr",
     "output_type": "stream",
     "text": [
      "Create N-grams: 100%|██████████| 1/1 [00:00<00:00,  5.13it/s]\n",
      "Create N-grams: 100%|██████████| 1/1 [00:00<00:00, 29.41it/s]\n",
      "Positive Validation/Test: 100%|██████████| 2087/2087 [00:00<00:00, 18770.34it/s]\n",
      "Negative Validation/Test: 100%|██████████| 287/287 [00:00<00:00, 22396.47it/s]\n"
     ]
    },
    {
     "name": "stdout",
     "output_type": "stream",
     "text": [
      "2022-07-04 23:47:40.198325\n",
      "learning N-grams\n",
      "Negative class N-grams\n"
     ]
    },
    {
     "name": "stderr",
     "output_type": "stream",
     "text": [
      "Create N-grams: 100%|██████████| 1/1 [00:00<00:00,  6.49it/s]\n"
     ]
    },
    {
     "name": "stdout",
     "output_type": "stream",
     "text": [
      "Positive class N-grams\n"
     ]
    },
    {
     "name": "stderr",
     "output_type": "stream",
     "text": [
      "Create N-grams: 100%|██████████| 1/1 [00:00<00:00,  1.16it/s]\n"
     ]
    },
    {
     "name": "stdout",
     "output_type": "stream",
     "text": [
      "2022-07-04 23:47:43.890894\n"
     ]
    },
    {
     "name": "stderr",
     "output_type": "stream",
     "text": [
      "Create N-grams: 100%|██████████| 1/1 [00:00<00:00,  4.91it/s]\n",
      "Create N-grams: 100%|██████████| 1/1 [00:00<00:00, 25.40it/s]\n",
      "Positive Validation/Test: 100%|██████████| 2087/2087 [00:00<00:00, 17933.59it/s]\n",
      "Negative Validation/Test: 100%|██████████| 287/287 [00:00<00:00, 10629.18it/s]\n"
     ]
    },
    {
     "name": "stdout",
     "output_type": "stream",
     "text": [
      "2022-07-04 23:47:44.310616\n",
      "learning N-grams\n",
      "Negative class N-grams\n"
     ]
    },
    {
     "name": "stderr",
     "output_type": "stream",
     "text": [
      "Create N-grams: 100%|██████████| 1/1 [00:00<00:00,  6.67it/s]\n"
     ]
    },
    {
     "name": "stdout",
     "output_type": "stream",
     "text": [
      "Positive class N-grams\n"
     ]
    },
    {
     "name": "stderr",
     "output_type": "stream",
     "text": [
      "Create N-grams: 100%|██████████| 1/1 [00:00<00:00,  1.14it/s]\n"
     ]
    },
    {
     "name": "stdout",
     "output_type": "stream",
     "text": [
      "2022-07-04 23:47:47.886876\n"
     ]
    },
    {
     "name": "stderr",
     "output_type": "stream",
     "text": [
      "Create N-grams: 100%|██████████| 1/1 [00:00<00:00,  5.28it/s]\n",
      "Create N-grams: 100%|██████████| 1/1 [00:00<00:00, 21.59it/s]\n",
      "Positive Validation/Test: 100%|██████████| 2087/2087 [00:00<00:00, 16492.69it/s]\n",
      "Negative Validation/Test: 100%|██████████| 287/287 [00:00<00:00, 23065.94it/s]\n"
     ]
    },
    {
     "name": "stdout",
     "output_type": "stream",
     "text": [
      "2022-07-04 23:47:48.322205\n",
      "learning N-grams\n",
      "Negative class N-grams\n"
     ]
    },
    {
     "name": "stderr",
     "output_type": "stream",
     "text": [
      "Create N-grams: 100%|██████████| 1/1 [00:00<00:00,  6.60it/s]\n"
     ]
    },
    {
     "name": "stdout",
     "output_type": "stream",
     "text": [
      "Positive class N-grams\n"
     ]
    },
    {
     "name": "stderr",
     "output_type": "stream",
     "text": [
      "Create N-grams: 100%|██████████| 1/1 [00:00<00:00,  1.20it/s]\n"
     ]
    },
    {
     "name": "stdout",
     "output_type": "stream",
     "text": [
      "2022-07-04 23:47:51.889435\n"
     ]
    },
    {
     "name": "stderr",
     "output_type": "stream",
     "text": [
      "Create N-grams: 100%|██████████| 1/1 [00:00<00:00,  5.31it/s]\n",
      "Create N-grams: 100%|██████████| 1/1 [00:00<00:00, 28.57it/s]\n",
      "Positive Validation/Test: 100%|██████████| 2087/2087 [00:00<00:00, 16899.52it/s]\n",
      "Negative Validation/Test: 100%|██████████| 287/287 [00:00<00:00, 12479.94it/s]\n"
     ]
    },
    {
     "name": "stdout",
     "output_type": "stream",
     "text": [
      "2022-07-04 23:47:52.313698\n",
      "learning N-grams\n",
      "Negative class N-grams\n"
     ]
    },
    {
     "name": "stderr",
     "output_type": "stream",
     "text": [
      "Create N-grams: 100%|██████████| 1/1 [00:00<00:00,  6.97it/s]\n"
     ]
    },
    {
     "name": "stdout",
     "output_type": "stream",
     "text": [
      "Positive class N-grams\n"
     ]
    },
    {
     "name": "stderr",
     "output_type": "stream",
     "text": [
      "Create N-grams: 100%|██████████| 1/1 [00:00<00:00,  1.20it/s]\n"
     ]
    },
    {
     "name": "stdout",
     "output_type": "stream",
     "text": [
      "2022-07-04 23:47:55.780496\n"
     ]
    },
    {
     "name": "stderr",
     "output_type": "stream",
     "text": [
      "Create N-grams: 100%|██████████| 1/1 [00:00<00:00,  5.22it/s]\n",
      "Create N-grams: 100%|██████████| 1/1 [00:00<00:00, 30.31it/s]\n",
      "Positive Validation/Test: 100%|██████████| 2087/2087 [00:00<00:00, 17993.46it/s]\n",
      "Negative Validation/Test: 100%|██████████| 287/287 [00:00<00:00, 12480.46it/s]\n"
     ]
    },
    {
     "name": "stdout",
     "output_type": "stream",
     "text": [
      "2022-07-04 23:47:56.200393\n",
      "learning N-grams\n",
      "Negative class N-grams\n"
     ]
    },
    {
     "name": "stderr",
     "output_type": "stream",
     "text": [
      "Create N-grams: 100%|██████████| 2/2 [00:00<00:00,  6.83it/s]\n"
     ]
    },
    {
     "name": "stdout",
     "output_type": "stream",
     "text": [
      "Positive class N-grams\n"
     ]
    },
    {
     "name": "stderr",
     "output_type": "stream",
     "text": [
      "Create N-grams: 100%|██████████| 2/2 [00:01<00:00,  1.20it/s]\n"
     ]
    },
    {
     "name": "stdout",
     "output_type": "stream",
     "text": [
      "2022-07-04 23:48:03.407208\n"
     ]
    },
    {
     "name": "stderr",
     "output_type": "stream",
     "text": [
      "Create N-grams: 100%|██████████| 2/2 [00:00<00:00,  5.20it/s]\n",
      "Create N-grams: 100%|██████████| 2/2 [00:00<00:00, 31.94it/s]\n",
      "Positive Validation/Test: 100%|██████████| 2087/2087 [00:00<00:00, 16596.63it/s]\n",
      "Negative Validation/Test: 100%|██████████| 287/287 [00:00<00:00, 11958.84it/s]\n"
     ]
    },
    {
     "name": "stdout",
     "output_type": "stream",
     "text": [
      "2022-07-04 23:48:04.040652\n",
      "learning N-grams\n",
      "Negative class N-grams\n"
     ]
    },
    {
     "name": "stderr",
     "output_type": "stream",
     "text": [
      "Create N-grams: 100%|██████████| 2/2 [00:00<00:00,  6.55it/s]\n"
     ]
    },
    {
     "name": "stdout",
     "output_type": "stream",
     "text": [
      "Positive class N-grams\n"
     ]
    },
    {
     "name": "stderr",
     "output_type": "stream",
     "text": [
      "Create N-grams: 100%|██████████| 2/2 [00:02<00:00,  1.00s/it]\n"
     ]
    },
    {
     "name": "stdout",
     "output_type": "stream",
     "text": [
      "2022-07-04 23:48:11.994297\n"
     ]
    },
    {
     "name": "stderr",
     "output_type": "stream",
     "text": [
      "Create N-grams: 100%|██████████| 2/2 [00:00<00:00,  5.07it/s]\n",
      "Create N-grams: 100%|██████████| 2/2 [00:00<00:00, 29.85it/s]\n",
      "Positive Validation/Test: 100%|██████████| 2087/2087 [00:00<00:00, 15575.20it/s]\n",
      "Negative Validation/Test: 100%|██████████| 287/287 [00:00<00:00, 12479.29it/s]\n"
     ]
    },
    {
     "name": "stdout",
     "output_type": "stream",
     "text": [
      "2022-07-04 23:48:12.650179\n",
      "learning N-grams\n",
      "Negative class N-grams\n"
     ]
    },
    {
     "name": "stderr",
     "output_type": "stream",
     "text": [
      "Create N-grams: 100%|██████████| 2/2 [00:00<00:00,  6.43it/s]\n"
     ]
    },
    {
     "name": "stdout",
     "output_type": "stream",
     "text": [
      "Positive class N-grams\n"
     ]
    },
    {
     "name": "stderr",
     "output_type": "stream",
     "text": [
      "Create N-grams: 100%|██████████| 2/2 [00:01<00:00,  1.14it/s]\n"
     ]
    },
    {
     "name": "stdout",
     "output_type": "stream",
     "text": [
      "2022-07-04 23:48:20.430169\n"
     ]
    },
    {
     "name": "stderr",
     "output_type": "stream",
     "text": [
      "Create N-grams: 100%|██████████| 2/2 [00:00<00:00,  5.17it/s]\n",
      "Create N-grams: 100%|██████████| 2/2 [00:00<00:00, 24.76it/s]\n",
      "Positive Validation/Test: 100%|██████████| 2087/2087 [00:00<00:00, 15360.30it/s]\n",
      "Negative Validation/Test: 100%|██████████| 287/287 [00:00<00:00, 12477.87it/s]\n"
     ]
    },
    {
     "name": "stdout",
     "output_type": "stream",
     "text": [
      "2022-07-04 23:48:21.106840\n",
      "learning N-grams\n",
      "Negative class N-grams\n"
     ]
    },
    {
     "name": "stderr",
     "output_type": "stream",
     "text": [
      "Create N-grams: 100%|██████████| 2/2 [00:00<00:00,  6.77it/s]\n"
     ]
    },
    {
     "name": "stdout",
     "output_type": "stream",
     "text": [
      "Positive class N-grams\n"
     ]
    },
    {
     "name": "stderr",
     "output_type": "stream",
     "text": [
      "Create N-grams: 100%|██████████| 2/2 [00:01<00:00,  1.19it/s]\n"
     ]
    },
    {
     "name": "stdout",
     "output_type": "stream",
     "text": [
      "2022-07-04 23:48:28.517738\n"
     ]
    },
    {
     "name": "stderr",
     "output_type": "stream",
     "text": [
      "Create N-grams: 100%|██████████| 2/2 [00:00<00:00,  5.32it/s]\n",
      "Create N-grams: 100%|██████████| 2/2 [00:00<00:00, 31.60it/s]\n",
      "Positive Validation/Test: 100%|██████████| 2087/2087 [00:00<00:00, 16054.13it/s]\n",
      "Negative Validation/Test: 100%|██████████| 287/287 [00:00<00:00, 11959.20it/s]\n"
     ]
    },
    {
     "name": "stdout",
     "output_type": "stream",
     "text": [
      "2022-07-04 23:48:29.167408\n",
      "learning N-grams\n",
      "Negative class N-grams\n"
     ]
    },
    {
     "name": "stderr",
     "output_type": "stream",
     "text": [
      "Create N-grams: 100%|██████████| 2/2 [00:00<00:00,  6.56it/s]\n"
     ]
    },
    {
     "name": "stdout",
     "output_type": "stream",
     "text": [
      "Positive class N-grams\n"
     ]
    },
    {
     "name": "stderr",
     "output_type": "stream",
     "text": [
      "Create N-grams: 100%|██████████| 2/2 [00:01<00:00,  1.12it/s]\n"
     ]
    },
    {
     "name": "stdout",
     "output_type": "stream",
     "text": [
      "2022-07-04 23:48:36.646980\n"
     ]
    },
    {
     "name": "stderr",
     "output_type": "stream",
     "text": [
      "Create N-grams: 100%|██████████| 2/2 [00:00<00:00,  5.31it/s]\n",
      "Create N-grams: 100%|██████████| 2/2 [00:00<00:00, 30.27it/s]\n",
      "Positive Validation/Test: 100%|██████████| 2087/2087 [00:00<00:00, 15716.76it/s]\n",
      "Negative Validation/Test: 100%|██████████| 287/287 [00:00<00:00, 7841.91it/s]\n"
     ]
    },
    {
     "name": "stdout",
     "output_type": "stream",
     "text": [
      "2022-07-04 23:48:37.303539\n",
      "learning N-grams\n",
      "Negative class N-grams\n"
     ]
    },
    {
     "name": "stderr",
     "output_type": "stream",
     "text": [
      "Create N-grams: 100%|██████████| 2/2 [00:00<00:00,  6.98it/s]\n"
     ]
    },
    {
     "name": "stdout",
     "output_type": "stream",
     "text": [
      "Positive class N-grams\n"
     ]
    },
    {
     "name": "stderr",
     "output_type": "stream",
     "text": [
      "Create N-grams: 100%|██████████| 2/2 [00:01<00:00,  1.18it/s]\n"
     ]
    },
    {
     "name": "stdout",
     "output_type": "stream",
     "text": [
      "2022-07-04 23:48:44.904939\n"
     ]
    },
    {
     "name": "stderr",
     "output_type": "stream",
     "text": [
      "Create N-grams: 100%|██████████| 2/2 [00:00<00:00,  4.98it/s]\n",
      "Create N-grams: 100%|██████████| 2/2 [00:00<00:00, 29.38it/s]\n",
      "Positive Validation/Test: 100%|██████████| 2087/2087 [00:00<00:00, 13098.67it/s]\n",
      "Negative Validation/Test: 100%|██████████| 287/287 [00:00<00:00, 11038.15it/s]\n"
     ]
    },
    {
     "name": "stdout",
     "output_type": "stream",
     "text": [
      "2022-07-04 23:48:45.600344\n",
      "learning N-grams\n",
      "Negative class N-grams\n"
     ]
    },
    {
     "name": "stderr",
     "output_type": "stream",
     "text": [
      "Create N-grams: 100%|██████████| 2/2 [00:00<00:00,  6.45it/s]\n"
     ]
    },
    {
     "name": "stdout",
     "output_type": "stream",
     "text": [
      "Positive class N-grams\n"
     ]
    },
    {
     "name": "stderr",
     "output_type": "stream",
     "text": [
      "Create N-grams: 100%|██████████| 2/2 [00:01<00:00,  1.19it/s]\n"
     ]
    },
    {
     "name": "stdout",
     "output_type": "stream",
     "text": [
      "2022-07-04 23:48:53.012963\n"
     ]
    },
    {
     "name": "stderr",
     "output_type": "stream",
     "text": [
      "Create N-grams: 100%|██████████| 2/2 [00:00<00:00,  5.31it/s]\n",
      "Create N-grams: 100%|██████████| 2/2 [00:00<00:00, 29.50it/s]\n",
      "Positive Validation/Test: 100%|██████████| 2087/2087 [00:00<00:00, 14987.97it/s]\n",
      "Negative Validation/Test: 100%|██████████| 287/287 [00:00<00:00, 10381.31it/s]\n"
     ]
    },
    {
     "name": "stdout",
     "output_type": "stream",
     "text": [
      "2022-07-04 23:48:53.675758\n",
      "learning N-grams\n",
      "Negative class N-grams\n"
     ]
    },
    {
     "name": "stderr",
     "output_type": "stream",
     "text": [
      "Create N-grams: 100%|██████████| 2/2 [00:00<00:00,  6.75it/s]\n"
     ]
    },
    {
     "name": "stdout",
     "output_type": "stream",
     "text": [
      "Positive class N-grams\n"
     ]
    },
    {
     "name": "stderr",
     "output_type": "stream",
     "text": [
      "Create N-grams: 100%|██████████| 2/2 [00:01<00:00,  1.02it/s]\n"
     ]
    },
    {
     "name": "stdout",
     "output_type": "stream",
     "text": [
      "2022-07-04 23:49:01.321849\n"
     ]
    },
    {
     "name": "stderr",
     "output_type": "stream",
     "text": [
      "Create N-grams: 100%|██████████| 2/2 [00:00<00:00,  5.16it/s]\n",
      "Create N-grams: 100%|██████████| 2/2 [00:00<00:00, 31.33it/s]\n",
      "Positive Validation/Test: 100%|██████████| 2087/2087 [00:00<00:00, 15754.95it/s]\n",
      "Negative Validation/Test: 100%|██████████| 287/287 [00:00<00:00, 11958.84it/s]\n"
     ]
    },
    {
     "name": "stdout",
     "output_type": "stream",
     "text": [
      "2022-07-04 23:49:01.994016\n",
      "learning N-grams\n",
      "Negative class N-grams\n"
     ]
    },
    {
     "name": "stderr",
     "output_type": "stream",
     "text": [
      "Create N-grams: 100%|██████████| 2/2 [00:00<00:00,  6.65it/s]\n"
     ]
    },
    {
     "name": "stdout",
     "output_type": "stream",
     "text": [
      "Positive class N-grams\n"
     ]
    },
    {
     "name": "stderr",
     "output_type": "stream",
     "text": [
      "Create N-grams: 100%|██████████| 2/2 [00:01<00:00,  1.17it/s]\n"
     ]
    },
    {
     "name": "stdout",
     "output_type": "stream",
     "text": [
      "2022-07-04 23:49:09.455915\n"
     ]
    },
    {
     "name": "stderr",
     "output_type": "stream",
     "text": [
      "Create N-grams: 100%|██████████| 2/2 [00:00<00:00,  5.30it/s]\n",
      "Create N-grams: 100%|██████████| 2/2 [00:00<00:00, 31.25it/s]\n",
      "Positive Validation/Test: 100%|██████████| 2087/2087 [00:00<00:00, 17148.52it/s]\n",
      "Negative Validation/Test: 100%|██████████| 287/287 [00:00<00:00, 11484.34it/s]\n"
     ]
    },
    {
     "name": "stdout",
     "output_type": "stream",
     "text": [
      "2022-07-04 23:49:10.096821\n",
      "learning N-grams\n",
      "Negative class N-grams\n"
     ]
    },
    {
     "name": "stderr",
     "output_type": "stream",
     "text": [
      "Create N-grams: 100%|██████████| 2/2 [00:00<00:00,  6.47it/s]\n"
     ]
    },
    {
     "name": "stdout",
     "output_type": "stream",
     "text": [
      "Positive class N-grams\n"
     ]
    },
    {
     "name": "stderr",
     "output_type": "stream",
     "text": [
      "Create N-grams: 100%|██████████| 2/2 [00:01<00:00,  1.17it/s]\n"
     ]
    },
    {
     "name": "stdout",
     "output_type": "stream",
     "text": [
      "2022-07-04 23:49:17.496460\n"
     ]
    },
    {
     "name": "stderr",
     "output_type": "stream",
     "text": [
      "Create N-grams: 100%|██████████| 2/2 [00:00<00:00,  5.40it/s]\n",
      "Create N-grams: 100%|██████████| 2/2 [00:00<00:00, 31.75it/s]\n",
      "Positive Validation/Test: 100%|██████████| 2087/2087 [00:00<00:00, 18181.86it/s]\n",
      "Negative Validation/Test: 100%|██████████| 287/287 [00:00<00:00, 12479.68it/s]\n"
     ]
    },
    {
     "name": "stdout",
     "output_type": "stream",
     "text": [
      "2022-07-04 23:49:18.118935\n",
      "learning N-grams\n",
      "Negative class N-grams\n"
     ]
    },
    {
     "name": "stderr",
     "output_type": "stream",
     "text": [
      "Create N-grams: 100%|██████████| 2/2 [00:00<00:00,  6.56it/s]\n"
     ]
    },
    {
     "name": "stdout",
     "output_type": "stream",
     "text": [
      "Positive class N-grams\n"
     ]
    },
    {
     "name": "stderr",
     "output_type": "stream",
     "text": [
      "Create N-grams: 100%|██████████| 2/2 [00:01<00:00,  1.19it/s]\n"
     ]
    },
    {
     "name": "stdout",
     "output_type": "stream",
     "text": [
      "2022-07-04 23:49:25.586750\n"
     ]
    },
    {
     "name": "stderr",
     "output_type": "stream",
     "text": [
      "Create N-grams: 100%|██████████| 2/2 [00:00<00:00,  4.95it/s]\n",
      "Create N-grams: 100%|██████████| 2/2 [00:00<00:00, 31.25it/s]\n",
      "Positive Validation/Test: 100%|██████████| 2087/2087 [00:00<00:00, 17627.28it/s]\n",
      "Negative Validation/Test: 100%|██████████| 287/287 [00:00<00:00, 13046.40it/s]\n"
     ]
    },
    {
     "name": "stdout",
     "output_type": "stream",
     "text": [
      "2022-07-04 23:49:26.256088\n",
      "learning N-grams\n",
      "Negative class N-grams\n"
     ]
    },
    {
     "name": "stderr",
     "output_type": "stream",
     "text": [
      "Create N-grams: 100%|██████████| 2/2 [00:00<00:00,  5.83it/s]\n"
     ]
    },
    {
     "name": "stdout",
     "output_type": "stream",
     "text": [
      "Positive class N-grams\n"
     ]
    },
    {
     "name": "stderr",
     "output_type": "stream",
     "text": [
      "Create N-grams: 100%|██████████| 2/2 [00:01<00:00,  1.19it/s]\n"
     ]
    },
    {
     "name": "stdout",
     "output_type": "stream",
     "text": [
      "2022-07-04 23:49:33.679867\n"
     ]
    },
    {
     "name": "stderr",
     "output_type": "stream",
     "text": [
      "Create N-grams: 100%|██████████| 2/2 [00:00<00:00,  5.35it/s]\n",
      "Create N-grams: 100%|██████████| 2/2 [00:00<00:00, 30.78it/s]\n",
      "Positive Validation/Test: 100%|██████████| 2087/2087 [00:00<00:00, 19531.20it/s]\n",
      "Negative Validation/Test: 100%|██████████| 287/287 [00:00<00:00, 12479.04it/s]\n"
     ]
    },
    {
     "name": "stdout",
     "output_type": "stream",
     "text": [
      "2022-07-04 23:49:34.305217\n",
      "learning N-grams\n",
      "Negative class N-grams\n"
     ]
    },
    {
     "name": "stderr",
     "output_type": "stream",
     "text": [
      "Create N-grams: 100%|██████████| 2/2 [00:00<00:00,  6.32it/s]\n"
     ]
    },
    {
     "name": "stdout",
     "output_type": "stream",
     "text": [
      "Positive class N-grams\n"
     ]
    },
    {
     "name": "stderr",
     "output_type": "stream",
     "text": [
      "Create N-grams: 100%|██████████| 2/2 [00:01<00:00,  1.18it/s]\n"
     ]
    },
    {
     "name": "stdout",
     "output_type": "stream",
     "text": [
      "2022-07-04 23:49:41.729955\n"
     ]
    },
    {
     "name": "stderr",
     "output_type": "stream",
     "text": [
      "Create N-grams: 100%|██████████| 2/2 [00:00<00:00,  5.27it/s]\n",
      "Create N-grams: 100%|██████████| 2/2 [00:00<00:00, 30.84it/s]\n",
      "Positive Validation/Test: 100%|██████████| 2087/2087 [00:00<00:00, 16800.50it/s]\n",
      "Negative Validation/Test: 100%|██████████| 287/287 [00:00<00:00, 9884.59it/s]\n"
     ]
    },
    {
     "name": "stdout",
     "output_type": "stream",
     "text": [
      "2022-07-04 23:49:42.366317\n",
      "learning N-grams\n",
      "Negative class N-grams\n"
     ]
    },
    {
     "name": "stderr",
     "output_type": "stream",
     "text": [
      "Create N-grams: 100%|██████████| 2/2 [00:00<00:00,  6.63it/s]\n"
     ]
    },
    {
     "name": "stdout",
     "output_type": "stream",
     "text": [
      "Positive class N-grams\n"
     ]
    },
    {
     "name": "stderr",
     "output_type": "stream",
     "text": [
      "Create N-grams: 100%|██████████| 2/2 [00:01<00:00,  1.02it/s]\n"
     ]
    },
    {
     "name": "stdout",
     "output_type": "stream",
     "text": [
      "2022-07-04 23:49:50.015073\n"
     ]
    },
    {
     "name": "stderr",
     "output_type": "stream",
     "text": [
      "Create N-grams: 100%|██████████| 2/2 [00:00<00:00,  5.37it/s]\n",
      "Create N-grams: 100%|██████████| 2/2 [00:00<00:00, 31.75it/s]\n",
      "Positive Validation/Test: 100%|██████████| 2087/2087 [00:00<00:00, 16332.55it/s]\n",
      "Negative Validation/Test: 100%|██████████| 287/287 [00:00<00:00, 11958.61it/s]\n"
     ]
    },
    {
     "name": "stdout",
     "output_type": "stream",
     "text": [
      "2022-07-04 23:49:50.656370\n",
      "learning N-grams\n",
      "Negative class N-grams\n"
     ]
    },
    {
     "name": "stderr",
     "output_type": "stream",
     "text": [
      "Create N-grams: 100%|██████████| 2/2 [00:00<00:00,  6.85it/s]\n"
     ]
    },
    {
     "name": "stdout",
     "output_type": "stream",
     "text": [
      "Positive class N-grams\n"
     ]
    },
    {
     "name": "stderr",
     "output_type": "stream",
     "text": [
      "Create N-grams: 100%|██████████| 2/2 [00:01<00:00,  1.09it/s]\n"
     ]
    },
    {
     "name": "stdout",
     "output_type": "stream",
     "text": [
      "2022-07-04 23:49:58.105414\n"
     ]
    },
    {
     "name": "stderr",
     "output_type": "stream",
     "text": [
      "Create N-grams: 100%|██████████| 2/2 [00:00<00:00,  5.20it/s]\n",
      "Create N-grams: 100%|██████████| 2/2 [00:00<00:00, 31.54it/s]\n",
      "Positive Validation/Test: 100%|██████████| 2087/2087 [00:00<00:00, 17214.79it/s]\n",
      "Negative Validation/Test: 100%|██████████| 287/287 [00:00<00:00, 7706.76it/s]\n"
     ]
    },
    {
     "name": "stdout",
     "output_type": "stream",
     "text": [
      "2022-07-04 23:49:58.745209\n",
      "learning N-grams\n",
      "Negative class N-grams\n"
     ]
    },
    {
     "name": "stderr",
     "output_type": "stream",
     "text": [
      "Create N-grams: 100%|██████████| 2/2 [00:00<00:00,  6.83it/s]\n"
     ]
    },
    {
     "name": "stdout",
     "output_type": "stream",
     "text": [
      "Positive class N-grams\n"
     ]
    },
    {
     "name": "stderr",
     "output_type": "stream",
     "text": [
      "Create N-grams: 100%|██████████| 2/2 [00:01<00:00,  1.18it/s]\n"
     ]
    },
    {
     "name": "stdout",
     "output_type": "stream",
     "text": [
      "2022-07-04 23:50:06.117202\n"
     ]
    },
    {
     "name": "stderr",
     "output_type": "stream",
     "text": [
      "Create N-grams: 100%|██████████| 2/2 [00:00<00:00,  5.22it/s]\n",
      "Create N-grams: 100%|██████████| 2/2 [00:00<00:00, 28.37it/s]\n",
      "Positive Validation/Test: 100%|██████████| 2087/2087 [00:00<00:00, 18814.36it/s]\n",
      "Negative Validation/Test: 100%|██████████| 287/287 [00:00<00:00, 12477.61it/s]\n"
     ]
    },
    {
     "name": "stdout",
     "output_type": "stream",
     "text": [
      "2022-07-04 23:50:06.747060\n",
      "learning N-grams\n",
      "Negative class N-grams\n"
     ]
    },
    {
     "name": "stderr",
     "output_type": "stream",
     "text": [
      "Create N-grams: 100%|██████████| 3/3 [00:00<00:00,  6.45it/s]\n"
     ]
    },
    {
     "name": "stdout",
     "output_type": "stream",
     "text": [
      "Positive class N-grams\n"
     ]
    },
    {
     "name": "stderr",
     "output_type": "stream",
     "text": [
      "Create N-grams: 100%|██████████| 3/3 [00:02<00:00,  1.18it/s]\n"
     ]
    },
    {
     "name": "stdout",
     "output_type": "stream",
     "text": [
      "2022-07-04 23:50:17.850753\n"
     ]
    },
    {
     "name": "stderr",
     "output_type": "stream",
     "text": [
      "Create N-grams: 100%|██████████| 3/3 [00:00<00:00,  5.29it/s]\n",
      "Create N-grams: 100%|██████████| 3/3 [00:00<00:00, 31.91it/s]\n",
      "Positive Validation/Test: 100%|██████████| 2087/2087 [00:00<00:00, 19273.44it/s]\n",
      "Negative Validation/Test: 100%|██████████| 287/287 [00:00<00:00, 29750.51it/s]\n"
     ]
    },
    {
     "name": "stdout",
     "output_type": "stream",
     "text": [
      "2022-07-04 23:50:18.695376\n",
      "learning N-grams\n",
      "Negative class N-grams\n"
     ]
    },
    {
     "name": "stderr",
     "output_type": "stream",
     "text": [
      "Create N-grams: 100%|██████████| 3/3 [00:00<00:00,  6.60it/s]\n"
     ]
    },
    {
     "name": "stdout",
     "output_type": "stream",
     "text": [
      "Positive class N-grams\n"
     ]
    },
    {
     "name": "stderr",
     "output_type": "stream",
     "text": [
      "Create N-grams: 100%|██████████| 3/3 [00:02<00:00,  1.20it/s]\n"
     ]
    },
    {
     "name": "stdout",
     "output_type": "stream",
     "text": [
      "2022-07-04 23:50:30.132282\n"
     ]
    },
    {
     "name": "stderr",
     "output_type": "stream",
     "text": [
      "Create N-grams: 100%|██████████| 3/3 [00:00<00:00,  5.23it/s]\n",
      "Create N-grams: 100%|██████████| 3/3 [00:00<00:00, 32.61it/s]\n",
      "Positive Validation/Test: 100%|██████████| 2087/2087 [00:00<00:00, 17713.60it/s]\n",
      "Negative Validation/Test: 100%|██████████| 287/287 [00:00<00:00, 12045.96it/s]\n"
     ]
    },
    {
     "name": "stdout",
     "output_type": "stream",
     "text": [
      "2022-07-04 23:50:30.978850\n",
      "learning N-grams\n",
      "Negative class N-grams\n"
     ]
    },
    {
     "name": "stderr",
     "output_type": "stream",
     "text": [
      "Create N-grams: 100%|██████████| 3/3 [00:00<00:00,  6.48it/s]\n"
     ]
    },
    {
     "name": "stdout",
     "output_type": "stream",
     "text": [
      "Positive class N-grams\n"
     ]
    },
    {
     "name": "stderr",
     "output_type": "stream",
     "text": [
      "Create N-grams: 100%|██████████| 3/3 [00:02<00:00,  1.17it/s]\n"
     ]
    },
    {
     "name": "stdout",
     "output_type": "stream",
     "text": [
      "2022-07-04 23:50:42.144572\n"
     ]
    },
    {
     "name": "stderr",
     "output_type": "stream",
     "text": [
      "Create N-grams: 100%|██████████| 3/3 [00:00<00:00,  5.57it/s]\n",
      "Create N-grams: 100%|██████████| 3/3 [00:00<00:00, 34.61it/s]\n",
      "Positive Validation/Test: 100%|██████████| 2087/2087 [00:00<00:00, 18827.79it/s]\n",
      "Negative Validation/Test: 100%|██████████| 287/287 [00:00<00:00, 13046.54it/s]\n"
     ]
    },
    {
     "name": "stdout",
     "output_type": "stream",
     "text": [
      "2022-07-04 23:50:42.978160\n",
      "learning N-grams\n",
      "Negative class N-grams\n"
     ]
    },
    {
     "name": "stderr",
     "output_type": "stream",
     "text": [
      "Create N-grams: 100%|██████████| 3/3 [00:00<00:00,  6.55it/s]\n"
     ]
    },
    {
     "name": "stdout",
     "output_type": "stream",
     "text": [
      "Positive class N-grams\n"
     ]
    },
    {
     "name": "stderr",
     "output_type": "stream",
     "text": [
      "Create N-grams: 100%|██████████| 3/3 [00:02<00:00,  1.19it/s]\n"
     ]
    },
    {
     "name": "stdout",
     "output_type": "stream",
     "text": [
      "2022-07-04 23:50:54.307088\n"
     ]
    },
    {
     "name": "stderr",
     "output_type": "stream",
     "text": [
      "Create N-grams: 100%|██████████| 3/3 [00:00<00:00,  5.32it/s]\n",
      "Create N-grams: 100%|██████████| 3/3 [00:00<00:00, 32.30it/s]\n",
      "Positive Validation/Test: 100%|██████████| 2087/2087 [00:00<00:00, 14315.08it/s]\n",
      "Negative Validation/Test: 100%|██████████| 287/287 [00:00<00:00, 11479.85it/s]\n"
     ]
    },
    {
     "name": "stdout",
     "output_type": "stream",
     "text": [
      "2022-07-04 23:50:55.175335\n",
      "learning N-grams\n",
      "Negative class N-grams\n"
     ]
    },
    {
     "name": "stderr",
     "output_type": "stream",
     "text": [
      "Create N-grams: 100%|██████████| 3/3 [00:00<00:00,  6.93it/s]\n"
     ]
    },
    {
     "name": "stdout",
     "output_type": "stream",
     "text": [
      "Positive class N-grams\n"
     ]
    },
    {
     "name": "stderr",
     "output_type": "stream",
     "text": [
      "Create N-grams: 100%|██████████| 3/3 [00:02<00:00,  1.22it/s]\n"
     ]
    },
    {
     "name": "stdout",
     "output_type": "stream",
     "text": [
      "2022-07-04 23:51:06.300186\n"
     ]
    },
    {
     "name": "stderr",
     "output_type": "stream",
     "text": [
      "Create N-grams: 100%|██████████| 3/3 [00:00<00:00,  5.47it/s]\n",
      "Create N-grams: 100%|██████████| 3/3 [00:00<00:00, 33.55it/s]\n",
      "Positive Validation/Test: 100%|██████████| 2087/2087 [00:00<00:00, 14721.78it/s]\n",
      "Negative Validation/Test: 100%|██████████| 287/287 [00:00<00:00, 12449.74it/s]\n"
     ]
    },
    {
     "name": "stdout",
     "output_type": "stream",
     "text": [
      "2022-07-04 23:51:07.141592\n",
      "learning N-grams\n",
      "Negative class N-grams\n"
     ]
    },
    {
     "name": "stderr",
     "output_type": "stream",
     "text": [
      "Create N-grams: 100%|██████████| 3/3 [00:00<00:00,  6.70it/s]\n"
     ]
    },
    {
     "name": "stdout",
     "output_type": "stream",
     "text": [
      "Positive class N-grams\n"
     ]
    },
    {
     "name": "stderr",
     "output_type": "stream",
     "text": [
      "Create N-grams: 100%|██████████| 3/3 [00:02<00:00,  1.20it/s]\n"
     ]
    },
    {
     "name": "stdout",
     "output_type": "stream",
     "text": [
      "2022-07-04 23:51:18.413991\n"
     ]
    },
    {
     "name": "stderr",
     "output_type": "stream",
     "text": [
      "Create N-grams: 100%|██████████| 3/3 [00:00<00:00,  5.37it/s]\n",
      "Create N-grams: 100%|██████████| 3/3 [00:00<00:00, 32.32it/s]\n",
      "Positive Validation/Test: 100%|██████████| 2087/2087 [00:00<00:00, 18754.38it/s]\n",
      "Negative Validation/Test: 100%|██████████| 287/287 [00:00<00:00, 7714.32it/s]\n"
     ]
    },
    {
     "name": "stdout",
     "output_type": "stream",
     "text": [
      "2022-07-04 23:51:19.256306\n",
      "learning N-grams\n",
      "Negative class N-grams\n"
     ]
    },
    {
     "name": "stderr",
     "output_type": "stream",
     "text": [
      "Create N-grams: 100%|██████████| 3/3 [00:00<00:00,  6.81it/s]\n"
     ]
    },
    {
     "name": "stdout",
     "output_type": "stream",
     "text": [
      "Positive class N-grams\n"
     ]
    },
    {
     "name": "stderr",
     "output_type": "stream",
     "text": [
      "Create N-grams: 100%|██████████| 3/3 [00:02<00:00,  1.20it/s]\n"
     ]
    },
    {
     "name": "stdout",
     "output_type": "stream",
     "text": [
      "2022-07-04 23:51:30.357948\n"
     ]
    },
    {
     "name": "stderr",
     "output_type": "stream",
     "text": [
      "Create N-grams: 100%|██████████| 3/3 [00:00<00:00,  5.45it/s]\n",
      "Create N-grams: 100%|██████████| 3/3 [00:00<00:00, 32.58it/s]\n",
      "Positive Validation/Test: 100%|██████████| 2087/2087 [00:00<00:00, 14839.13it/s]\n",
      "Negative Validation/Test: 100%|██████████| 287/287 [00:00<00:00, 13044.70it/s]\n"
     ]
    },
    {
     "name": "stdout",
     "output_type": "stream",
     "text": [
      "2022-07-04 23:51:31.193913\n",
      "learning N-grams\n",
      "Negative class N-grams\n"
     ]
    },
    {
     "name": "stderr",
     "output_type": "stream",
     "text": [
      "Create N-grams: 100%|██████████| 3/3 [00:00<00:00,  6.84it/s]\n"
     ]
    },
    {
     "name": "stdout",
     "output_type": "stream",
     "text": [
      "Positive class N-grams\n"
     ]
    },
    {
     "name": "stderr",
     "output_type": "stream",
     "text": [
      "Create N-grams: 100%|██████████| 3/3 [00:02<00:00,  1.22it/s]\n"
     ]
    },
    {
     "name": "stdout",
     "output_type": "stream",
     "text": [
      "2022-07-04 23:51:42.187026\n"
     ]
    },
    {
     "name": "stderr",
     "output_type": "stream",
     "text": [
      "Create N-grams: 100%|██████████| 3/3 [00:00<00:00,  5.48it/s]\n",
      "Create N-grams: 100%|██████████| 3/3 [00:00<00:00, 40.17it/s]\n",
      "Positive Validation/Test: 100%|██████████| 2087/2087 [00:00<00:00, 15931.84it/s]\n",
      "Negative Validation/Test: 100%|██████████| 287/287 [00:00<00:00, 12975.52it/s]\n"
     ]
    },
    {
     "name": "stdout",
     "output_type": "stream",
     "text": [
      "2022-07-04 23:51:43.028327\n",
      "learning N-grams\n",
      "Negative class N-grams\n"
     ]
    },
    {
     "name": "stderr",
     "output_type": "stream",
     "text": [
      "Create N-grams: 100%|██████████| 3/3 [00:00<00:00,  6.84it/s]\n"
     ]
    },
    {
     "name": "stdout",
     "output_type": "stream",
     "text": [
      "Positive class N-grams\n"
     ]
    },
    {
     "name": "stderr",
     "output_type": "stream",
     "text": [
      "Create N-grams: 100%|██████████| 3/3 [00:02<00:00,  1.09it/s]\n"
     ]
    },
    {
     "name": "stdout",
     "output_type": "stream",
     "text": [
      "2022-07-04 23:51:54.409676\n"
     ]
    },
    {
     "name": "stderr",
     "output_type": "stream",
     "text": [
      "Create N-grams: 100%|██████████| 3/3 [00:00<00:00,  5.42it/s]\n",
      "Create N-grams: 100%|██████████| 3/3 [00:00<00:00, 35.40it/s]\n",
      "Positive Validation/Test: 100%|██████████| 2087/2087 [00:00<00:00, 15217.65it/s]\n",
      "Negative Validation/Test: 100%|██████████| 287/287 [00:00<00:00, 12477.74it/s]\n"
     ]
    },
    {
     "name": "stdout",
     "output_type": "stream",
     "text": [
      "2022-07-04 23:51:55.240909\n",
      "learning N-grams\n",
      "Negative class N-grams\n"
     ]
    },
    {
     "name": "stderr",
     "output_type": "stream",
     "text": [
      "Create N-grams: 100%|██████████| 3/3 [00:00<00:00,  6.69it/s]\n"
     ]
    },
    {
     "name": "stdout",
     "output_type": "stream",
     "text": [
      "Positive class N-grams\n"
     ]
    },
    {
     "name": "stderr",
     "output_type": "stream",
     "text": [
      "Create N-grams: 100%|██████████| 3/3 [00:02<00:00,  1.21it/s]\n"
     ]
    },
    {
     "name": "stdout",
     "output_type": "stream",
     "text": [
      "2022-07-04 23:52:06.270390\n"
     ]
    },
    {
     "name": "stderr",
     "output_type": "stream",
     "text": [
      "Create N-grams: 100%|██████████| 3/3 [00:00<00:00,  5.39it/s]\n",
      "Create N-grams: 100%|██████████| 3/3 [00:00<00:00, 36.65it/s]\n",
      "Positive Validation/Test: 100%|██████████| 2087/2087 [00:00<00:00, 15839.65it/s]\n",
      "Negative Validation/Test: 100%|██████████| 287/287 [00:00<00:00, 9481.38it/s]\n"
     ]
    },
    {
     "name": "stdout",
     "output_type": "stream",
     "text": [
      "2022-07-04 23:52:07.115030\n",
      "learning N-grams\n",
      "Negative class N-grams\n"
     ]
    },
    {
     "name": "stderr",
     "output_type": "stream",
     "text": [
      "Create N-grams: 100%|██████████| 3/3 [00:00<00:00,  6.57it/s]\n"
     ]
    },
    {
     "name": "stdout",
     "output_type": "stream",
     "text": [
      "Positive class N-grams\n"
     ]
    },
    {
     "name": "stderr",
     "output_type": "stream",
     "text": [
      "Create N-grams: 100%|██████████| 3/3 [00:02<00:00,  1.20it/s]\n"
     ]
    },
    {
     "name": "stdout",
     "output_type": "stream",
     "text": [
      "2022-07-04 23:52:18.279593\n"
     ]
    },
    {
     "name": "stderr",
     "output_type": "stream",
     "text": [
      "Create N-grams: 100%|██████████| 3/3 [00:00<00:00,  5.57it/s]\n",
      "Create N-grams: 100%|██████████| 3/3 [00:00<00:00, 37.64it/s]\n",
      "Positive Validation/Test: 100%|██████████| 2087/2087 [00:00<00:00, 15157.96it/s]\n",
      "Negative Validation/Test: 100%|██████████| 287/287 [00:00<00:00, 5924.95it/s]\n"
     ]
    },
    {
     "name": "stdout",
     "output_type": "stream",
     "text": [
      "2022-07-04 23:52:19.134157\n",
      "learning N-grams\n",
      "Negative class N-grams\n"
     ]
    },
    {
     "name": "stderr",
     "output_type": "stream",
     "text": [
      "Create N-grams: 100%|██████████| 3/3 [00:00<00:00,  6.64it/s]\n"
     ]
    },
    {
     "name": "stdout",
     "output_type": "stream",
     "text": [
      "Positive class N-grams\n"
     ]
    },
    {
     "name": "stderr",
     "output_type": "stream",
     "text": [
      "Create N-grams: 100%|██████████| 3/3 [00:02<00:00,  1.20it/s]\n"
     ]
    },
    {
     "name": "stdout",
     "output_type": "stream",
     "text": [
      "2022-07-04 23:52:30.306568\n"
     ]
    },
    {
     "name": "stderr",
     "output_type": "stream",
     "text": [
      "Create N-grams: 100%|██████████| 3/3 [00:00<00:00,  5.12it/s]\n",
      "Create N-grams: 100%|██████████| 3/3 [00:00<00:00, 36.70it/s]\n",
      "Positive Validation/Test: 100%|██████████| 2087/2087 [00:00<00:00, 20394.43it/s]\n",
      "Negative Validation/Test: 100%|██████████| 287/287 [00:00<00:00, 11481.82it/s]\n"
     ]
    },
    {
     "name": "stdout",
     "output_type": "stream",
     "text": [
      "2022-07-04 23:52:31.163907\n",
      "learning N-grams\n",
      "Negative class N-grams\n"
     ]
    },
    {
     "name": "stderr",
     "output_type": "stream",
     "text": [
      "Create N-grams: 100%|██████████| 3/3 [00:00<00:00,  6.79it/s]\n"
     ]
    },
    {
     "name": "stdout",
     "output_type": "stream",
     "text": [
      "Positive class N-grams\n"
     ]
    },
    {
     "name": "stderr",
     "output_type": "stream",
     "text": [
      "Create N-grams: 100%|██████████| 3/3 [00:02<00:00,  1.09it/s]\n"
     ]
    },
    {
     "name": "stdout",
     "output_type": "stream",
     "text": [
      "2022-07-04 23:52:42.593230\n"
     ]
    },
    {
     "name": "stderr",
     "output_type": "stream",
     "text": [
      "Create N-grams: 100%|██████████| 3/3 [00:00<00:00,  5.29it/s]\n",
      "Create N-grams: 100%|██████████| 3/3 [00:00<00:00, 31.91it/s]\n",
      "Positive Validation/Test: 100%|██████████| 2087/2087 [00:00<00:00, 17116.46it/s]\n",
      "Negative Validation/Test: 100%|██████████| 287/287 [00:00<00:00, 12478.26it/s]\n"
     ]
    },
    {
     "name": "stdout",
     "output_type": "stream",
     "text": [
      "2022-07-04 23:52:43.438184\n",
      "learning N-grams\n",
      "Negative class N-grams\n"
     ]
    },
    {
     "name": "stderr",
     "output_type": "stream",
     "text": [
      "Create N-grams: 100%|██████████| 3/3 [00:00<00:00,  6.79it/s]\n"
     ]
    },
    {
     "name": "stdout",
     "output_type": "stream",
     "text": [
      "Positive class N-grams\n"
     ]
    },
    {
     "name": "stderr",
     "output_type": "stream",
     "text": [
      "Create N-grams: 100%|██████████| 3/3 [00:02<00:00,  1.17it/s]\n"
     ]
    },
    {
     "name": "stdout",
     "output_type": "stream",
     "text": [
      "2022-07-04 23:52:54.436252\n"
     ]
    },
    {
     "name": "stderr",
     "output_type": "stream",
     "text": [
      "Create N-grams: 100%|██████████| 3/3 [00:00<00:00,  5.42it/s]\n",
      "Create N-grams: 100%|██████████| 3/3 [00:00<00:00, 34.74it/s]\n",
      "Positive Validation/Test: 100%|██████████| 2087/2087 [00:00<00:00, 15297.22it/s]\n",
      "Negative Validation/Test: 100%|██████████| 287/287 [00:00<00:00, 8560.90it/s]\n"
     ]
    },
    {
     "name": "stdout",
     "output_type": "stream",
     "text": [
      "2022-07-04 23:52:55.292930\n",
      "learning N-grams\n",
      "Negative class N-grams\n"
     ]
    },
    {
     "name": "stderr",
     "output_type": "stream",
     "text": [
      "Create N-grams: 100%|██████████| 3/3 [00:00<00:00,  6.71it/s]\n"
     ]
    },
    {
     "name": "stdout",
     "output_type": "stream",
     "text": [
      "Positive class N-grams\n"
     ]
    },
    {
     "name": "stderr",
     "output_type": "stream",
     "text": [
      "Create N-grams: 100%|██████████| 3/3 [00:02<00:00,  1.18it/s]\n"
     ]
    },
    {
     "name": "stdout",
     "output_type": "stream",
     "text": [
      "2022-07-04 23:53:06.441314\n"
     ]
    },
    {
     "name": "stderr",
     "output_type": "stream",
     "text": [
      "Create N-grams: 100%|██████████| 3/3 [00:00<00:00,  5.30it/s]\n",
      "Create N-grams: 100%|██████████| 3/3 [00:00<00:00, 32.26it/s]\n",
      "Positive Validation/Test: 100%|██████████| 2087/2087 [00:00<00:00, 16548.22it/s]\n",
      "Negative Validation/Test: 100%|██████████| 287/287 [00:00<00:00, 11957.30it/s]\n"
     ]
    },
    {
     "name": "stdout",
     "output_type": "stream",
     "text": [
      "2022-07-04 23:53:07.302095\n",
      "learning N-grams\n",
      "Negative class N-grams\n"
     ]
    },
    {
     "name": "stderr",
     "output_type": "stream",
     "text": [
      "Create N-grams: 100%|██████████| 3/3 [00:00<00:00,  6.62it/s]\n"
     ]
    },
    {
     "name": "stdout",
     "output_type": "stream",
     "text": [
      "Positive class N-grams\n"
     ]
    },
    {
     "name": "stderr",
     "output_type": "stream",
     "text": [
      "Create N-grams: 100%|██████████| 3/3 [00:02<00:00,  1.18it/s]\n"
     ]
    },
    {
     "name": "stdout",
     "output_type": "stream",
     "text": [
      "2022-07-04 23:53:18.977198\n"
     ]
    },
    {
     "name": "stderr",
     "output_type": "stream",
     "text": [
      "Create N-grams: 100%|██████████| 3/3 [00:00<00:00,  5.26it/s]\n",
      "Create N-grams: 100%|██████████| 3/3 [00:00<00:00, 38.11it/s]\n",
      "Positive Validation/Test: 100%|██████████| 2087/2087 [00:00<00:00, 17545.91it/s]\n",
      "Negative Validation/Test: 100%|██████████| 287/287 [00:00<00:00, 7825.45it/s]\n"
     ]
    },
    {
     "name": "stdout",
     "output_type": "stream",
     "text": [
      "2022-07-04 23:53:19.830073\n",
      "learning N-grams\n",
      "Negative class N-grams\n"
     ]
    },
    {
     "name": "stderr",
     "output_type": "stream",
     "text": [
      "Create N-grams: 100%|██████████| 1/1 [00:00<00:00, 12.20it/s]\n"
     ]
    },
    {
     "name": "stdout",
     "output_type": "stream",
     "text": [
      "Positive class N-grams\n"
     ]
    },
    {
     "name": "stderr",
     "output_type": "stream",
     "text": [
      "Create N-grams: 100%|██████████| 1/1 [00:00<00:00,  2.17it/s]\n"
     ]
    },
    {
     "name": "stdout",
     "output_type": "stream",
     "text": [
      "2022-07-04 23:53:22.278674\n"
     ]
    },
    {
     "name": "stderr",
     "output_type": "stream",
     "text": [
      "Create N-grams: 100%|██████████| 1/1 [00:00<00:00, 10.08it/s]\n",
      "Create N-grams: 100%|██████████| 1/1 [00:00<00:00, 50.00it/s]\n",
      "Positive Validation/Test: 100%|██████████| 1978/1978 [00:00<00:00, 27056.94it/s]\n",
      "Negative Validation/Test: 100%|██████████| 332/332 [00:00<00:00, 13609.88it/s]\n"
     ]
    },
    {
     "name": "stdout",
     "output_type": "stream",
     "text": [
      "2022-07-04 23:53:22.523399\n",
      "learning N-grams\n",
      "Negative class N-grams\n"
     ]
    },
    {
     "name": "stderr",
     "output_type": "stream",
     "text": [
      "Create N-grams: 100%|██████████| 1/1 [00:00<00:00, 12.35it/s]\n"
     ]
    },
    {
     "name": "stdout",
     "output_type": "stream",
     "text": [
      "Positive class N-grams\n"
     ]
    },
    {
     "name": "stderr",
     "output_type": "stream",
     "text": [
      "Create N-grams: 100%|██████████| 1/1 [00:00<00:00,  2.14it/s]\n"
     ]
    },
    {
     "name": "stdout",
     "output_type": "stream",
     "text": [
      "2022-07-04 23:53:24.971856\n"
     ]
    },
    {
     "name": "stderr",
     "output_type": "stream",
     "text": [
      "Create N-grams: 100%|██████████| 1/1 [00:00<00:00, 10.44it/s]\n",
      "Create N-grams: 100%|██████████| 1/1 [00:00<00:00, 28.74it/s]\n",
      "Positive Validation/Test: 100%|██████████| 1978/1978 [00:00<00:00, 21736.59it/s]\n",
      "Negative Validation/Test: 100%|██████████| 332/332 [00:00<00:00, 16600.02it/s]\n"
     ]
    },
    {
     "name": "stdout",
     "output_type": "stream",
     "text": [
      "2022-07-04 23:53:25.245063\n",
      "learning N-grams\n",
      "Negative class N-grams\n"
     ]
    },
    {
     "name": "stderr",
     "output_type": "stream",
     "text": [
      "Create N-grams: 100%|██████████| 1/1 [00:00<00:00, 14.05it/s]\n"
     ]
    },
    {
     "name": "stdout",
     "output_type": "stream",
     "text": [
      "Positive class N-grams\n"
     ]
    },
    {
     "name": "stderr",
     "output_type": "stream",
     "text": [
      "Create N-grams: 100%|██████████| 1/1 [00:00<00:00,  2.14it/s]\n"
     ]
    },
    {
     "name": "stdout",
     "output_type": "stream",
     "text": [
      "2022-07-04 23:53:27.659774\n"
     ]
    },
    {
     "name": "stderr",
     "output_type": "stream",
     "text": [
      "Create N-grams: 100%|██████████| 1/1 [00:00<00:00, 10.21it/s]\n",
      "Create N-grams: 100%|██████████| 1/1 [00:00<00:00, 47.63it/s]\n",
      "Positive Validation/Test: 100%|██████████| 1978/1978 [00:00<00:00, 26729.86it/s]\n",
      "Negative Validation/Test: 100%|██████████| 332/332 [00:00<00:00, 14595.76it/s]\n"
     ]
    },
    {
     "name": "stdout",
     "output_type": "stream",
     "text": [
      "2022-07-04 23:53:27.908256\n",
      "learning N-grams\n",
      "Negative class N-grams\n"
     ]
    },
    {
     "name": "stderr",
     "output_type": "stream",
     "text": [
      "Create N-grams: 100%|██████████| 1/1 [00:00<00:00, 11.48it/s]\n"
     ]
    },
    {
     "name": "stdout",
     "output_type": "stream",
     "text": [
      "Positive class N-grams\n"
     ]
    },
    {
     "name": "stderr",
     "output_type": "stream",
     "text": [
      "Create N-grams: 100%|██████████| 1/1 [00:00<00:00,  2.18it/s]\n"
     ]
    },
    {
     "name": "stdout",
     "output_type": "stream",
     "text": [
      "2022-07-04 23:53:30.279009\n"
     ]
    },
    {
     "name": "stderr",
     "output_type": "stream",
     "text": [
      "Create N-grams: 100%|██████████| 1/1 [00:00<00:00, 10.93it/s]\n",
      "Create N-grams: 100%|██████████| 1/1 [00:00<00:00, 30.32it/s]\n",
      "Positive Validation/Test: 100%|██████████| 1978/1978 [00:00<00:00, 31346.78it/s]\n",
      "Negative Validation/Test: 100%|██████████| 332/332 [00:00<00:00, 18446.27it/s]\n"
     ]
    },
    {
     "name": "stdout",
     "output_type": "stream",
     "text": [
      "2022-07-04 23:53:30.531227\n",
      "learning N-grams\n",
      "Negative class N-grams\n"
     ]
    },
    {
     "name": "stderr",
     "output_type": "stream",
     "text": [
      "Create N-grams: 100%|██████████| 1/1 [00:00<00:00, 10.70it/s]\n"
     ]
    },
    {
     "name": "stdout",
     "output_type": "stream",
     "text": [
      "Positive class N-grams\n"
     ]
    },
    {
     "name": "stderr",
     "output_type": "stream",
     "text": [
      "Create N-grams: 100%|██████████| 1/1 [00:00<00:00,  2.15it/s]\n"
     ]
    },
    {
     "name": "stdout",
     "output_type": "stream",
     "text": [
      "2022-07-04 23:53:32.890582\n"
     ]
    },
    {
     "name": "stderr",
     "output_type": "stream",
     "text": [
      "Create N-grams: 100%|██████████| 1/1 [00:00<00:00,  8.78it/s]\n",
      "Create N-grams: 100%|██████████| 1/1 [00:00<00:00, 50.01it/s]\n",
      "Positive Validation/Test: 100%|██████████| 1978/1978 [00:00<00:00, 25038.13it/s]\n",
      "Negative Validation/Test: 100%|██████████| 332/332 [00:00<00:00, 16558.37it/s]\n"
     ]
    },
    {
     "name": "stdout",
     "output_type": "stream",
     "text": [
      "2022-07-04 23:53:33.141661\n",
      "learning N-grams\n",
      "Negative class N-grams\n"
     ]
    },
    {
     "name": "stderr",
     "output_type": "stream",
     "text": [
      "Create N-grams: 100%|██████████| 1/1 [00:00<00:00, 14.16it/s]\n"
     ]
    },
    {
     "name": "stdout",
     "output_type": "stream",
     "text": [
      "Positive class N-grams\n"
     ]
    },
    {
     "name": "stderr",
     "output_type": "stream",
     "text": [
      "Create N-grams: 100%|██████████| 1/1 [00:00<00:00,  2.12it/s]\n"
     ]
    },
    {
     "name": "stdout",
     "output_type": "stream",
     "text": [
      "2022-07-04 23:53:35.527357\n"
     ]
    },
    {
     "name": "stderr",
     "output_type": "stream",
     "text": [
      "Create N-grams: 100%|██████████| 1/1 [00:00<00:00,  9.24it/s]\n",
      "Create N-grams: 100%|██████████| 1/1 [00:00<00:00, 40.00it/s]\n",
      "Positive Validation/Test: 100%|██████████| 1978/1978 [00:00<00:00, 29040.14it/s]\n",
      "Negative Validation/Test: 100%|██████████| 332/332 [00:00<00:00, 12352.38it/s]\n"
     ]
    },
    {
     "name": "stdout",
     "output_type": "stream",
     "text": [
      "2022-07-04 23:53:35.775118\n",
      "learning N-grams\n",
      "Negative class N-grams\n"
     ]
    },
    {
     "name": "stderr",
     "output_type": "stream",
     "text": [
      "Create N-grams: 100%|██████████| 1/1 [00:00<00:00, 12.26it/s]\n"
     ]
    },
    {
     "name": "stdout",
     "output_type": "stream",
     "text": [
      "Positive class N-grams\n"
     ]
    },
    {
     "name": "stderr",
     "output_type": "stream",
     "text": [
      "Create N-grams: 100%|██████████| 1/1 [00:00<00:00,  2.21it/s]\n"
     ]
    },
    {
     "name": "stdout",
     "output_type": "stream",
     "text": [
      "2022-07-04 23:53:38.097490\n"
     ]
    },
    {
     "name": "stderr",
     "output_type": "stream",
     "text": [
      "Create N-grams: 100%|██████████| 1/1 [00:00<00:00, 10.03it/s]\n",
      "Create N-grams: 100%|██████████| 1/1 [00:00<00:00, 30.44it/s]\n",
      "Positive Validation/Test: 100%|██████████| 1978/1978 [00:00<00:00, 24654.19it/s]\n",
      "Negative Validation/Test: 100%|██████████| 332/332 [00:00<00:00, 93974.15it/s]\n"
     ]
    },
    {
     "name": "stdout",
     "output_type": "stream",
     "text": [
      "2022-07-04 23:53:38.372680\n",
      "learning N-grams\n",
      "Negative class N-grams\n"
     ]
    },
    {
     "name": "stderr",
     "output_type": "stream",
     "text": [
      "Create N-grams: 100%|██████████| 1/1 [00:00<00:00, 11.56it/s]\n"
     ]
    },
    {
     "name": "stdout",
     "output_type": "stream",
     "text": [
      "Positive class N-grams\n"
     ]
    },
    {
     "name": "stderr",
     "output_type": "stream",
     "text": [
      "Create N-grams: 100%|██████████| 1/1 [00:00<00:00,  2.23it/s]\n"
     ]
    },
    {
     "name": "stdout",
     "output_type": "stream",
     "text": [
      "2022-07-04 23:53:40.730455\n"
     ]
    },
    {
     "name": "stderr",
     "output_type": "stream",
     "text": [
      "Create N-grams: 100%|██████████| 1/1 [00:00<00:00,  9.02it/s]\n",
      "Create N-grams: 100%|██████████| 1/1 [00:00<00:00, 45.46it/s]\n",
      "Positive Validation/Test: 100%|██████████| 1978/1978 [00:00<00:00, 27977.87it/s]\n",
      "Negative Validation/Test: 100%|██████████| 332/332 [00:00<00:00, 12310.12it/s]\n"
     ]
    },
    {
     "name": "stdout",
     "output_type": "stream",
     "text": [
      "2022-07-04 23:53:40.992676\n",
      "learning N-grams\n",
      "Negative class N-grams\n"
     ]
    },
    {
     "name": "stderr",
     "output_type": "stream",
     "text": [
      "Create N-grams: 100%|██████████| 1/1 [00:00<00:00, 11.27it/s]\n"
     ]
    },
    {
     "name": "stdout",
     "output_type": "stream",
     "text": [
      "Positive class N-grams\n"
     ]
    },
    {
     "name": "stderr",
     "output_type": "stream",
     "text": [
      "Create N-grams: 100%|██████████| 1/1 [00:00<00:00,  2.15it/s]\n"
     ]
    },
    {
     "name": "stdout",
     "output_type": "stream",
     "text": [
      "2022-07-04 23:53:43.377983\n"
     ]
    },
    {
     "name": "stderr",
     "output_type": "stream",
     "text": [
      "Create N-grams: 100%|██████████| 1/1 [00:00<00:00,  9.79it/s]\n",
      "Create N-grams: 100%|██████████| 1/1 [00:00<00:00, 43.47it/s]\n",
      "Positive Validation/Test: 100%|██████████| 1978/1978 [00:00<00:00, 26313.51it/s]\n",
      "Negative Validation/Test: 100%|██████████| 332/332 [00:00<00:00, 15966.76it/s]\n"
     ]
    },
    {
     "name": "stdout",
     "output_type": "stream",
     "text": [
      "2022-07-04 23:53:43.629234\n",
      "learning N-grams\n",
      "Negative class N-grams\n"
     ]
    },
    {
     "name": "stderr",
     "output_type": "stream",
     "text": [
      "Create N-grams: 100%|██████████| 1/1 [00:00<00:00, 11.00it/s]\n"
     ]
    },
    {
     "name": "stdout",
     "output_type": "stream",
     "text": [
      "Positive class N-grams\n"
     ]
    },
    {
     "name": "stderr",
     "output_type": "stream",
     "text": [
      "Create N-grams: 100%|██████████| 1/1 [00:00<00:00,  2.24it/s]\n"
     ]
    },
    {
     "name": "stdout",
     "output_type": "stream",
     "text": [
      "2022-07-04 23:53:45.976624\n"
     ]
    },
    {
     "name": "stderr",
     "output_type": "stream",
     "text": [
      "Create N-grams: 100%|██████████| 1/1 [00:00<00:00, 10.00it/s]\n",
      "Create N-grams: 100%|██████████| 1/1 [00:00<00:00, 47.61it/s]\n",
      "Positive Validation/Test: 100%|██████████| 1978/1978 [00:00<00:00, 23270.06it/s]\n",
      "Negative Validation/Test: 100%|██████████| 332/332 [00:00<00:00, 17472.98it/s]\n"
     ]
    },
    {
     "name": "stdout",
     "output_type": "stream",
     "text": [
      "2022-07-04 23:53:46.236623\n",
      "learning N-grams\n",
      "Negative class N-grams\n"
     ]
    },
    {
     "name": "stderr",
     "output_type": "stream",
     "text": [
      "Create N-grams: 100%|██████████| 1/1 [00:00<00:00, 12.63it/s]\n"
     ]
    },
    {
     "name": "stdout",
     "output_type": "stream",
     "text": [
      "Positive class N-grams\n"
     ]
    },
    {
     "name": "stderr",
     "output_type": "stream",
     "text": [
      "Create N-grams: 100%|██████████| 1/1 [00:00<00:00,  2.14it/s]\n"
     ]
    },
    {
     "name": "stdout",
     "output_type": "stream",
     "text": [
      "2022-07-04 23:53:48.644987\n"
     ]
    },
    {
     "name": "stderr",
     "output_type": "stream",
     "text": [
      "Create N-grams: 100%|██████████| 1/1 [00:00<00:00, 11.00it/s]\n",
      "Create N-grams: 100%|██████████| 1/1 [00:00<00:00, 30.27it/s]\n",
      "Positive Validation/Test: 100%|██████████| 1978/1978 [00:00<00:00, 25001.38it/s]\n",
      "Negative Validation/Test: 100%|██████████| 332/332 [00:00<00:00, 15841.07it/s]\n"
     ]
    },
    {
     "name": "stdout",
     "output_type": "stream",
     "text": [
      "2022-07-04 23:53:48.899654\n",
      "learning N-grams\n",
      "Negative class N-grams\n"
     ]
    },
    {
     "name": "stderr",
     "output_type": "stream",
     "text": [
      "Create N-grams: 100%|██████████| 1/1 [00:00<00:00, 14.40it/s]\n"
     ]
    },
    {
     "name": "stdout",
     "output_type": "stream",
     "text": [
      "Positive class N-grams\n"
     ]
    },
    {
     "name": "stderr",
     "output_type": "stream",
     "text": [
      "Create N-grams: 100%|██████████| 1/1 [00:00<00:00,  2.16it/s]\n"
     ]
    },
    {
     "name": "stdout",
     "output_type": "stream",
     "text": [
      "2022-07-04 23:53:51.298957\n"
     ]
    },
    {
     "name": "stderr",
     "output_type": "stream",
     "text": [
      "Create N-grams: 100%|██████████| 1/1 [00:00<00:00, 10.60it/s]\n",
      "Create N-grams: 100%|██████████| 1/1 [00:00<00:00, 35.38it/s]\n",
      "Positive Validation/Test: 100%|██████████| 1978/1978 [00:00<00:00, 24945.45it/s]\n",
      "Negative Validation/Test: 100%|██████████| 332/332 [00:00<00:00, 19530.83it/s]\n"
     ]
    },
    {
     "name": "stdout",
     "output_type": "stream",
     "text": [
      "2022-07-04 23:53:51.548871\n",
      "learning N-grams\n",
      "Negative class N-grams\n"
     ]
    },
    {
     "name": "stderr",
     "output_type": "stream",
     "text": [
      "Create N-grams: 100%|██████████| 1/1 [00:00<00:00, 11.47it/s]\n"
     ]
    },
    {
     "name": "stdout",
     "output_type": "stream",
     "text": [
      "Positive class N-grams\n"
     ]
    },
    {
     "name": "stderr",
     "output_type": "stream",
     "text": [
      "Create N-grams: 100%|██████████| 1/1 [00:00<00:00,  2.16it/s]\n"
     ]
    },
    {
     "name": "stdout",
     "output_type": "stream",
     "text": [
      "2022-07-04 23:53:53.913464\n"
     ]
    },
    {
     "name": "stderr",
     "output_type": "stream",
     "text": [
      "Create N-grams: 100%|██████████| 1/1 [00:00<00:00,  9.19it/s]\n",
      "Create N-grams: 100%|██████████| 1/1 [00:00<00:00, 47.63it/s]\n",
      "Positive Validation/Test: 100%|██████████| 1978/1978 [00:00<00:00, 25359.11it/s]\n",
      "Negative Validation/Test: 100%|██████████| 332/332 [00:00<00:00, 16601.40it/s]\n"
     ]
    },
    {
     "name": "stdout",
     "output_type": "stream",
     "text": [
      "2022-07-04 23:53:54.174886\n",
      "learning N-grams\n",
      "Negative class N-grams\n"
     ]
    },
    {
     "name": "stderr",
     "output_type": "stream",
     "text": [
      "Create N-grams: 100%|██████████| 1/1 [00:00<00:00, 15.13it/s]\n"
     ]
    },
    {
     "name": "stdout",
     "output_type": "stream",
     "text": [
      "Positive class N-grams\n"
     ]
    },
    {
     "name": "stderr",
     "output_type": "stream",
     "text": [
      "Create N-grams: 100%|██████████| 1/1 [00:00<00:00,  1.35it/s]\n"
     ]
    },
    {
     "name": "stdout",
     "output_type": "stream",
     "text": [
      "2022-07-04 23:53:56.809187\n"
     ]
    },
    {
     "name": "stderr",
     "output_type": "stream",
     "text": [
      "Create N-grams: 100%|██████████| 1/1 [00:00<00:00,  8.86it/s]\n",
      "Create N-grams: 100%|██████████| 1/1 [00:00<00:00, 40.01it/s]\n",
      "Positive Validation/Test: 100%|██████████| 1978/1978 [00:00<00:00, 22956.92it/s]\n",
      "Negative Validation/Test: 100%|██████████| 332/332 [00:00<00:00, 16599.62it/s]\n"
     ]
    },
    {
     "name": "stdout",
     "output_type": "stream",
     "text": [
      "2022-07-04 23:53:57.086874\n",
      "learning N-grams\n",
      "Negative class N-grams\n"
     ]
    },
    {
     "name": "stderr",
     "output_type": "stream",
     "text": [
      "Create N-grams: 100%|██████████| 1/1 [00:00<00:00, 13.04it/s]\n"
     ]
    },
    {
     "name": "stdout",
     "output_type": "stream",
     "text": [
      "Positive class N-grams\n"
     ]
    },
    {
     "name": "stderr",
     "output_type": "stream",
     "text": [
      "Create N-grams: 100%|██████████| 1/1 [00:00<00:00,  2.19it/s]\n"
     ]
    },
    {
     "name": "stdout",
     "output_type": "stream",
     "text": [
      "2022-07-04 23:53:59.466940\n"
     ]
    },
    {
     "name": "stderr",
     "output_type": "stream",
     "text": [
      "Create N-grams: 100%|██████████| 1/1 [00:00<00:00,  9.66it/s]\n",
      "Create N-grams: 100%|██████████| 1/1 [00:00<00:00, 45.45it/s]\n",
      "Positive Validation/Test: 100%|██████████| 1978/1978 [00:00<00:00, 25423.76it/s]\n",
      "Negative Validation/Test: 100%|██████████| 332/332 [00:00<00:00, 19529.18it/s]\n"
     ]
    },
    {
     "name": "stdout",
     "output_type": "stream",
     "text": [
      "2022-07-04 23:53:59.726464\n",
      "learning N-grams\n",
      "Negative class N-grams\n"
     ]
    },
    {
     "name": "stderr",
     "output_type": "stream",
     "text": [
      "Create N-grams: 100%|██████████| 1/1 [00:00<00:00, 13.57it/s]\n"
     ]
    },
    {
     "name": "stdout",
     "output_type": "stream",
     "text": [
      "Positive class N-grams\n"
     ]
    },
    {
     "name": "stderr",
     "output_type": "stream",
     "text": [
      "Create N-grams: 100%|██████████| 1/1 [00:00<00:00,  2.13it/s]\n"
     ]
    },
    {
     "name": "stdout",
     "output_type": "stream",
     "text": [
      "2022-07-04 23:54:02.128071\n"
     ]
    },
    {
     "name": "stderr",
     "output_type": "stream",
     "text": [
      "Create N-grams: 100%|██████████| 1/1 [00:00<00:00, 11.72it/s]\n",
      "Create N-grams: 100%|██████████| 1/1 [00:00<00:00, 26.44it/s]\n",
      "Positive Validation/Test: 100%|██████████| 1978/1978 [00:00<00:00, 25358.72it/s]\n",
      "Negative Validation/Test: 100%|██████████| 332/332 [00:00<00:00, 19531.10it/s]\n"
     ]
    },
    {
     "name": "stdout",
     "output_type": "stream",
     "text": [
      "2022-07-04 23:54:02.378202\n",
      "learning N-grams\n",
      "Negative class N-grams\n"
     ]
    },
    {
     "name": "stderr",
     "output_type": "stream",
     "text": [
      "Create N-grams: 100%|██████████| 2/2 [00:00<00:00, 13.23it/s]\n"
     ]
    },
    {
     "name": "stdout",
     "output_type": "stream",
     "text": [
      "Positive class N-grams\n"
     ]
    },
    {
     "name": "stderr",
     "output_type": "stream",
     "text": [
      "Create N-grams: 100%|██████████| 2/2 [00:00<00:00,  2.26it/s]\n"
     ]
    },
    {
     "name": "stdout",
     "output_type": "stream",
     "text": [
      "2022-07-04 23:54:07.182702\n"
     ]
    },
    {
     "name": "stderr",
     "output_type": "stream",
     "text": [
      "Create N-grams: 100%|██████████| 2/2 [00:00<00:00, 10.02it/s]\n",
      "Create N-grams: 100%|██████████| 2/2 [00:00<00:00, 45.11it/s]\n",
      "Positive Validation/Test: 100%|██████████| 1978/1978 [00:00<00:00, 28064.66it/s]\n",
      "Negative Validation/Test: 100%|██████████| 332/332 [00:00<00:00, 9867.76it/s]\n"
     ]
    },
    {
     "name": "stdout",
     "output_type": "stream",
     "text": [
      "2022-07-04 23:54:07.560430\n",
      "learning N-grams\n",
      "Negative class N-grams\n"
     ]
    },
    {
     "name": "stderr",
     "output_type": "stream",
     "text": [
      "Create N-grams: 100%|██████████| 2/2 [00:00<00:00, 13.26it/s]\n"
     ]
    },
    {
     "name": "stdout",
     "output_type": "stream",
     "text": [
      "Positive class N-grams\n"
     ]
    },
    {
     "name": "stderr",
     "output_type": "stream",
     "text": [
      "Create N-grams: 100%|██████████| 2/2 [00:00<00:00,  2.25it/s]\n"
     ]
    },
    {
     "name": "stdout",
     "output_type": "stream",
     "text": [
      "2022-07-04 23:54:12.313420\n"
     ]
    },
    {
     "name": "stderr",
     "output_type": "stream",
     "text": [
      "Create N-grams: 100%|██████████| 2/2 [00:00<00:00, 10.03it/s]\n",
      "Create N-grams: 100%|██████████| 2/2 [00:00<00:00, 43.86it/s]\n",
      "Positive Validation/Test: 100%|██████████| 1978/1978 [00:00<00:00, 23617.03it/s]\n",
      "Negative Validation/Test: 100%|██████████| 332/332 [00:00<00:00, 15088.24it/s]\n"
     ]
    },
    {
     "name": "stdout",
     "output_type": "stream",
     "text": [
      "2022-07-04 23:54:12.698260\n",
      "learning N-grams\n",
      "Negative class N-grams\n"
     ]
    },
    {
     "name": "stderr",
     "output_type": "stream",
     "text": [
      "Create N-grams: 100%|██████████| 2/2 [00:00<00:00, 12.99it/s]\n"
     ]
    },
    {
     "name": "stdout",
     "output_type": "stream",
     "text": [
      "Positive class N-grams\n"
     ]
    },
    {
     "name": "stderr",
     "output_type": "stream",
     "text": [
      "Create N-grams: 100%|██████████| 2/2 [00:00<00:00,  2.21it/s]\n"
     ]
    },
    {
     "name": "stdout",
     "output_type": "stream",
     "text": [
      "2022-07-04 23:54:17.648220\n"
     ]
    },
    {
     "name": "stderr",
     "output_type": "stream",
     "text": [
      "Create N-grams: 100%|██████████| 2/2 [00:00<00:00, 10.96it/s]\n",
      "Create N-grams: 100%|██████████| 2/2 [00:00<00:00, 47.99it/s]\n",
      "Positive Validation/Test: 100%|██████████| 1978/1978 [00:00<00:00, 31843.21it/s]\n",
      "Negative Validation/Test: 100%|██████████| 332/332 [00:00<00:00, 15542.09it/s]\n"
     ]
    },
    {
     "name": "stdout",
     "output_type": "stream",
     "text": [
      "2022-07-04 23:54:18.016672\n",
      "learning N-grams\n",
      "Negative class N-grams\n"
     ]
    },
    {
     "name": "stderr",
     "output_type": "stream",
     "text": [
      "Create N-grams: 100%|██████████| 2/2 [00:00<00:00, 13.13it/s]\n"
     ]
    },
    {
     "name": "stdout",
     "output_type": "stream",
     "text": [
      "Positive class N-grams\n"
     ]
    },
    {
     "name": "stderr",
     "output_type": "stream",
     "text": [
      "Create N-grams: 100%|██████████| 2/2 [00:00<00:00,  2.23it/s]\n"
     ]
    },
    {
     "name": "stdout",
     "output_type": "stream",
     "text": [
      "2022-07-04 23:54:22.730217\n"
     ]
    },
    {
     "name": "stderr",
     "output_type": "stream",
     "text": [
      "Create N-grams: 100%|██████████| 2/2 [00:00<00:00, 10.20it/s]\n",
      "Create N-grams: 100%|██████████| 2/2 [00:00<00:00, 50.00it/s]\n",
      "Positive Validation/Test: 100%|██████████| 1978/1978 [00:00<00:00, 24121.95it/s]\n",
      "Negative Validation/Test: 100%|██████████| 332/332 [00:00<00:00, 18443.09it/s]\n"
     ]
    },
    {
     "name": "stdout",
     "output_type": "stream",
     "text": [
      "2022-07-04 23:54:23.102216\n",
      "learning N-grams\n",
      "Negative class N-grams\n"
     ]
    },
    {
     "name": "stderr",
     "output_type": "stream",
     "text": [
      "Create N-grams: 100%|██████████| 2/2 [00:00<00:00, 13.44it/s]\n"
     ]
    },
    {
     "name": "stdout",
     "output_type": "stream",
     "text": [
      "Positive class N-grams\n"
     ]
    },
    {
     "name": "stderr",
     "output_type": "stream",
     "text": [
      "Create N-grams: 100%|██████████| 2/2 [00:00<00:00,  2.21it/s]\n"
     ]
    },
    {
     "name": "stdout",
     "output_type": "stream",
     "text": [
      "2022-07-04 23:54:27.973360\n"
     ]
    },
    {
     "name": "stderr",
     "output_type": "stream",
     "text": [
      "Create N-grams: 100%|██████████| 2/2 [00:00<00:00,  4.33it/s]\n",
      "Create N-grams: 100%|██████████| 2/2 [00:00<00:00, 47.62it/s]\n",
      "Positive Validation/Test: 100%|██████████| 1978/1978 [00:00<00:00, 21268.29it/s]\n",
      "Negative Validation/Test: 100%|██████████| 332/332 [00:00<00:00, 18444.07it/s]\n"
     ]
    },
    {
     "name": "stdout",
     "output_type": "stream",
     "text": [
      "2022-07-04 23:54:28.624429\n",
      "learning N-grams\n",
      "Negative class N-grams\n"
     ]
    },
    {
     "name": "stderr",
     "output_type": "stream",
     "text": [
      "Create N-grams: 100%|██████████| 2/2 [00:00<00:00, 12.42it/s]\n"
     ]
    },
    {
     "name": "stdout",
     "output_type": "stream",
     "text": [
      "Positive class N-grams\n"
     ]
    },
    {
     "name": "stderr",
     "output_type": "stream",
     "text": [
      "Create N-grams: 100%|██████████| 2/2 [00:00<00:00,  2.21it/s]\n"
     ]
    },
    {
     "name": "stdout",
     "output_type": "stream",
     "text": [
      "2022-07-04 23:54:33.520468\n"
     ]
    },
    {
     "name": "stderr",
     "output_type": "stream",
     "text": [
      "Create N-grams: 100%|██████████| 2/2 [00:00<00:00, 11.10it/s]\n",
      "Create N-grams: 100%|██████████| 2/2 [00:00<00:00, 50.00it/s]\n",
      "Positive Validation/Test: 100%|██████████| 1978/1978 [00:00<00:00, 24724.14it/s]\n",
      "Negative Validation/Test: 100%|██████████| 332/332 [00:00<00:00, 18442.61it/s]\n"
     ]
    },
    {
     "name": "stdout",
     "output_type": "stream",
     "text": [
      "2022-07-04 23:54:33.879055\n",
      "learning N-grams\n",
      "Negative class N-grams\n"
     ]
    },
    {
     "name": "stderr",
     "output_type": "stream",
     "text": [
      "Create N-grams: 100%|██████████| 2/2 [00:00<00:00, 12.58it/s]\n"
     ]
    },
    {
     "name": "stdout",
     "output_type": "stream",
     "text": [
      "Positive class N-grams\n"
     ]
    },
    {
     "name": "stderr",
     "output_type": "stream",
     "text": [
      "Create N-grams: 100%|██████████| 2/2 [00:00<00:00,  2.24it/s]\n"
     ]
    },
    {
     "name": "stdout",
     "output_type": "stream",
     "text": [
      "2022-07-04 23:54:38.853119\n"
     ]
    },
    {
     "name": "stderr",
     "output_type": "stream",
     "text": [
      "Create N-grams: 100%|██████████| 2/2 [00:00<00:00,  9.97it/s]\n",
      "Create N-grams: 100%|██████████| 2/2 [00:00<00:00, 56.60it/s]\n",
      "Positive Validation/Test: 100%|██████████| 1978/1978 [00:00<00:00, 22567.44it/s]\n",
      "Negative Validation/Test: 100%|██████████| 332/332 [00:00<00:00, 18443.58it/s]\n"
     ]
    },
    {
     "name": "stdout",
     "output_type": "stream",
     "text": [
      "2022-07-04 23:54:39.218654\n",
      "learning N-grams\n",
      "Negative class N-grams\n"
     ]
    },
    {
     "name": "stderr",
     "output_type": "stream",
     "text": [
      "Create N-grams: 100%|██████████| 2/2 [00:00<00:00, 12.03it/s]\n"
     ]
    },
    {
     "name": "stdout",
     "output_type": "stream",
     "text": [
      "Positive class N-grams\n"
     ]
    },
    {
     "name": "stderr",
     "output_type": "stream",
     "text": [
      "Create N-grams: 100%|██████████| 2/2 [00:00<00:00,  2.07it/s]\n"
     ]
    },
    {
     "name": "stdout",
     "output_type": "stream",
     "text": [
      "2022-07-04 23:54:44.328417\n"
     ]
    },
    {
     "name": "stderr",
     "output_type": "stream",
     "text": [
      "Create N-grams: 100%|██████████| 2/2 [00:00<00:00, 11.08it/s]\n",
      "Create N-grams: 100%|██████████| 2/2 [00:00<00:00, 42.67it/s]\n",
      "Positive Validation/Test: 100%|██████████| 1978/1978 [00:00<00:00, 29395.75it/s]\n",
      "Negative Validation/Test: 100%|██████████| 332/332 [00:00<00:00, 16405.04it/s]\n"
     ]
    },
    {
     "name": "stdout",
     "output_type": "stream",
     "text": [
      "2022-07-04 23:54:44.684643\n",
      "learning N-grams\n",
      "Negative class N-grams\n"
     ]
    },
    {
     "name": "stderr",
     "output_type": "stream",
     "text": [
      "Create N-grams: 100%|██████████| 2/2 [00:00<00:00, 14.45it/s]\n"
     ]
    },
    {
     "name": "stdout",
     "output_type": "stream",
     "text": [
      "Positive class N-grams\n"
     ]
    },
    {
     "name": "stderr",
     "output_type": "stream",
     "text": [
      "Create N-grams: 100%|██████████| 2/2 [00:00<00:00,  2.20it/s]\n"
     ]
    },
    {
     "name": "stdout",
     "output_type": "stream",
     "text": [
      "2022-07-04 23:54:49.524421\n"
     ]
    },
    {
     "name": "stderr",
     "output_type": "stream",
     "text": [
      "Create N-grams: 100%|██████████| 2/2 [00:00<00:00, 10.59it/s]\n",
      "Create N-grams: 100%|██████████| 2/2 [00:00<00:00, 46.87it/s]\n",
      "Positive Validation/Test: 100%|██████████| 1978/1978 [00:00<00:00, 27649.10it/s]\n",
      "Negative Validation/Test: 100%|██████████| 332/332 [00:00<00:00, 35660.55it/s]\n"
     ]
    },
    {
     "name": "stdout",
     "output_type": "stream",
     "text": [
      "2022-07-04 23:54:49.874271\n",
      "learning N-grams\n",
      "Negative class N-grams\n"
     ]
    },
    {
     "name": "stderr",
     "output_type": "stream",
     "text": [
      "Create N-grams: 100%|██████████| 2/2 [00:00<00:00, 11.93it/s]\n"
     ]
    },
    {
     "name": "stdout",
     "output_type": "stream",
     "text": [
      "Positive class N-grams\n"
     ]
    },
    {
     "name": "stderr",
     "output_type": "stream",
     "text": [
      "Create N-grams: 100%|██████████| 2/2 [00:00<00:00,  2.17it/s]\n"
     ]
    },
    {
     "name": "stdout",
     "output_type": "stream",
     "text": [
      "2022-07-04 23:54:54.685574\n"
     ]
    },
    {
     "name": "stderr",
     "output_type": "stream",
     "text": [
      "Create N-grams: 100%|██████████| 2/2 [00:00<00:00, 10.15it/s]\n",
      "Create N-grams: 100%|██████████| 2/2 [00:00<00:00, 51.28it/s]\n",
      "Positive Validation/Test: 100%|██████████| 1978/1978 [00:00<00:00, 25358.02it/s]\n",
      "Negative Validation/Test: 100%|██████████| 332/332 [00:00<00:00, 18442.12it/s]\n"
     ]
    },
    {
     "name": "stdout",
     "output_type": "stream",
     "text": [
      "2022-07-04 23:54:55.051575\n",
      "learning N-grams\n",
      "Negative class N-grams\n"
     ]
    },
    {
     "name": "stderr",
     "output_type": "stream",
     "text": [
      "Create N-grams: 100%|██████████| 2/2 [00:00<00:00, 12.55it/s]\n"
     ]
    },
    {
     "name": "stdout",
     "output_type": "stream",
     "text": [
      "Positive class N-grams\n"
     ]
    },
    {
     "name": "stderr",
     "output_type": "stream",
     "text": [
      "Create N-grams: 100%|██████████| 2/2 [00:00<00:00,  2.01it/s]\n"
     ]
    },
    {
     "name": "stdout",
     "output_type": "stream",
     "text": [
      "2022-07-04 23:55:00.686620\n"
     ]
    },
    {
     "name": "stderr",
     "output_type": "stream",
     "text": [
      "Create N-grams: 100%|██████████| 2/2 [00:00<00:00,  9.62it/s]\n",
      "Create N-grams: 100%|██████████| 2/2 [00:00<00:00, 47.74it/s]\n",
      "Positive Validation/Test: 100%|██████████| 1978/1978 [00:00<00:00, 23912.46it/s]\n",
      "Negative Validation/Test: 100%|██████████| 332/332 [00:00<00:00, 16750.38it/s]\n"
     ]
    },
    {
     "name": "stdout",
     "output_type": "stream",
     "text": [
      "2022-07-04 23:55:01.074434\n",
      "learning N-grams\n",
      "Negative class N-grams\n"
     ]
    },
    {
     "name": "stderr",
     "output_type": "stream",
     "text": [
      "Create N-grams: 100%|██████████| 2/2 [00:00<00:00, 12.34it/s]\n"
     ]
    },
    {
     "name": "stdout",
     "output_type": "stream",
     "text": [
      "Positive class N-grams\n"
     ]
    },
    {
     "name": "stderr",
     "output_type": "stream",
     "text": [
      "Create N-grams: 100%|██████████| 2/2 [00:00<00:00,  2.03it/s]\n"
     ]
    },
    {
     "name": "stdout",
     "output_type": "stream",
     "text": [
      "2022-07-04 23:55:06.232659\n"
     ]
    },
    {
     "name": "stderr",
     "output_type": "stream",
     "text": [
      "Create N-grams: 100%|██████████| 2/2 [00:00<00:00, 10.05it/s]\n",
      "Create N-grams: 100%|██████████| 2/2 [00:00<00:00, 50.00it/s]\n",
      "Positive Validation/Test: 100%|██████████| 1978/1978 [00:00<00:00, 23000.58it/s]\n",
      "Negative Validation/Test: 100%|██████████| 332/332 [00:00<00:00, 17472.10it/s]\n"
     ]
    },
    {
     "name": "stdout",
     "output_type": "stream",
     "text": [
      "2022-07-04 23:55:06.612658\n",
      "learning N-grams\n",
      "Negative class N-grams\n"
     ]
    },
    {
     "name": "stderr",
     "output_type": "stream",
     "text": [
      "Create N-grams: 100%|██████████| 2/2 [00:00<00:00, 11.86it/s]\n"
     ]
    },
    {
     "name": "stdout",
     "output_type": "stream",
     "text": [
      "Positive class N-grams\n"
     ]
    },
    {
     "name": "stderr",
     "output_type": "stream",
     "text": [
      "Create N-grams: 100%|██████████| 2/2 [00:00<00:00,  2.07it/s]\n"
     ]
    },
    {
     "name": "stdout",
     "output_type": "stream",
     "text": [
      "2022-07-04 23:55:11.863288\n"
     ]
    },
    {
     "name": "stderr",
     "output_type": "stream",
     "text": [
      "Create N-grams: 100%|██████████| 2/2 [00:00<00:00, 10.20it/s]\n",
      "Create N-grams: 100%|██████████| 2/2 [00:00<00:00, 50.00it/s]\n",
      "Positive Validation/Test: 100%|██████████| 1978/1978 [00:00<00:00, 23831.89it/s]\n",
      "Negative Validation/Test: 100%|██████████| 332/332 [00:00<00:00, 11067.29it/s]\n"
     ]
    },
    {
     "name": "stdout",
     "output_type": "stream",
     "text": [
      "2022-07-04 23:55:12.247283\n",
      "learning N-grams\n",
      "Negative class N-grams\n"
     ]
    },
    {
     "name": "stderr",
     "output_type": "stream",
     "text": [
      "Create N-grams: 100%|██████████| 2/2 [00:00<00:00, 13.26it/s]\n"
     ]
    },
    {
     "name": "stdout",
     "output_type": "stream",
     "text": [
      "Positive class N-grams\n"
     ]
    },
    {
     "name": "stderr",
     "output_type": "stream",
     "text": [
      "Create N-grams: 100%|██████████| 2/2 [00:00<00:00,  2.22it/s]\n"
     ]
    },
    {
     "name": "stdout",
     "output_type": "stream",
     "text": [
      "2022-07-04 23:55:17.202046\n"
     ]
    },
    {
     "name": "stderr",
     "output_type": "stream",
     "text": [
      "Create N-grams: 100%|██████████| 2/2 [00:00<00:00, 10.62it/s]\n",
      "Create N-grams: 100%|██████████| 2/2 [00:00<00:00, 44.83it/s]\n",
      "Positive Validation/Test: 100%|██████████| 1978/1978 [00:00<00:00, 25314.61it/s]\n",
      "Negative Validation/Test: 100%|██████████| 332/332 [00:00<00:00, 23216.22it/s]\n"
     ]
    },
    {
     "name": "stdout",
     "output_type": "stream",
     "text": [
      "2022-07-04 23:55:17.574925\n",
      "learning N-grams\n",
      "Negative class N-grams\n"
     ]
    },
    {
     "name": "stderr",
     "output_type": "stream",
     "text": [
      "Create N-grams: 100%|██████████| 2/2 [00:00<00:00, 12.05it/s]\n"
     ]
    },
    {
     "name": "stdout",
     "output_type": "stream",
     "text": [
      "Positive class N-grams\n"
     ]
    },
    {
     "name": "stderr",
     "output_type": "stream",
     "text": [
      "Create N-grams: 100%|██████████| 2/2 [00:00<00:00,  2.20it/s]\n"
     ]
    },
    {
     "name": "stdout",
     "output_type": "stream",
     "text": [
      "2022-07-04 23:55:22.621955\n"
     ]
    },
    {
     "name": "stderr",
     "output_type": "stream",
     "text": [
      "Create N-grams: 100%|██████████| 2/2 [00:00<00:00, 10.73it/s]\n",
      "Create N-grams: 100%|██████████| 2/2 [00:00<00:00, 52.63it/s]\n",
      "Positive Validation/Test: 100%|██████████| 1978/1978 [00:00<00:00, 26312.92it/s]\n",
      "Negative Validation/Test: 100%|██████████| 332/332 [00:00<00:00, 22135.29it/s]\n"
     ]
    },
    {
     "name": "stdout",
     "output_type": "stream",
     "text": [
      "2022-07-04 23:55:22.971461\n",
      "learning N-grams\n",
      "Negative class N-grams\n"
     ]
    },
    {
     "name": "stderr",
     "output_type": "stream",
     "text": [
      "Create N-grams: 100%|██████████| 2/2 [00:00<00:00, 12.53it/s]\n"
     ]
    },
    {
     "name": "stdout",
     "output_type": "stream",
     "text": [
      "Positive class N-grams\n"
     ]
    },
    {
     "name": "stderr",
     "output_type": "stream",
     "text": [
      "Create N-grams: 100%|██████████| 2/2 [00:00<00:00,  2.15it/s]\n"
     ]
    },
    {
     "name": "stdout",
     "output_type": "stream",
     "text": [
      "2022-07-04 23:55:27.762059\n"
     ]
    },
    {
     "name": "stderr",
     "output_type": "stream",
     "text": [
      "Create N-grams: 100%|██████████| 2/2 [00:00<00:00, 10.66it/s]\n",
      "Create N-grams: 100%|██████████| 2/2 [00:00<00:00, 52.63it/s]\n",
      "Positive Validation/Test: 100%|██████████| 1978/1978 [00:00<00:00, 26999.26it/s]\n",
      "Negative Validation/Test: 100%|██████████| 332/332 [00:00<00:00, 12770.74it/s]\n"
     ]
    },
    {
     "name": "stdout",
     "output_type": "stream",
     "text": [
      "2022-07-04 23:55:28.121052\n",
      "learning N-grams\n",
      "Negative class N-grams\n"
     ]
    },
    {
     "name": "stderr",
     "output_type": "stream",
     "text": [
      "Create N-grams: 100%|██████████| 3/3 [00:00<00:00, 12.09it/s]\n"
     ]
    },
    {
     "name": "stdout",
     "output_type": "stream",
     "text": [
      "Positive class N-grams\n"
     ]
    },
    {
     "name": "stderr",
     "output_type": "stream",
     "text": [
      "Create N-grams: 100%|██████████| 3/3 [00:01<00:00,  1.75it/s]\n"
     ]
    },
    {
     "name": "stdout",
     "output_type": "stream",
     "text": [
      "2022-07-04 23:55:35.825189\n"
     ]
    },
    {
     "name": "stderr",
     "output_type": "stream",
     "text": [
      "Create N-grams: 100%|██████████| 3/3 [00:00<00:00, 10.52it/s]\n",
      "Create N-grams: 100%|██████████| 3/3 [00:00<00:00, 50.00it/s]\n",
      "Positive Validation/Test: 100%|██████████| 1978/1978 [00:00<00:00, 23547.39it/s]\n",
      "Negative Validation/Test: 100%|██████████| 332/332 [00:00<00:00, 18445.54it/s]\n"
     ]
    },
    {
     "name": "stdout",
     "output_type": "stream",
     "text": [
      "2022-07-04 23:55:36.308304\n",
      "learning N-grams\n",
      "Negative class N-grams\n"
     ]
    },
    {
     "name": "stderr",
     "output_type": "stream",
     "text": [
      "Create N-grams: 100%|██████████| 3/3 [00:00<00:00, 12.80it/s]\n"
     ]
    },
    {
     "name": "stdout",
     "output_type": "stream",
     "text": [
      "Positive class N-grams\n"
     ]
    },
    {
     "name": "stderr",
     "output_type": "stream",
     "text": [
      "Create N-grams: 100%|██████████| 3/3 [00:01<00:00,  2.14it/s]\n"
     ]
    },
    {
     "name": "stdout",
     "output_type": "stream",
     "text": [
      "2022-07-04 23:55:43.599779\n"
     ]
    },
    {
     "name": "stderr",
     "output_type": "stream",
     "text": [
      "Create N-grams: 100%|██████████| 3/3 [00:00<00:00, 10.24it/s]\n",
      "Create N-grams: 100%|██████████| 3/3 [00:00<00:00, 53.57it/s]\n",
      "Positive Validation/Test: 100%|██████████| 1978/1978 [00:00<00:00, 23832.50it/s]\n",
      "Negative Validation/Test: 100%|██████████| 332/332 [00:00<00:00, 17473.85it/s]\n"
     ]
    },
    {
     "name": "stdout",
     "output_type": "stream",
     "text": [
      "2022-07-04 23:55:44.085409\n",
      "learning N-grams\n",
      "Negative class N-grams\n"
     ]
    },
    {
     "name": "stderr",
     "output_type": "stream",
     "text": [
      "Create N-grams: 100%|██████████| 3/3 [00:00<00:00, 12.50it/s]\n"
     ]
    },
    {
     "name": "stdout",
     "output_type": "stream",
     "text": [
      "Positive class N-grams\n"
     ]
    },
    {
     "name": "stderr",
     "output_type": "stream",
     "text": [
      "Create N-grams: 100%|██████████| 3/3 [00:01<00:00,  2.17it/s]\n"
     ]
    },
    {
     "name": "stdout",
     "output_type": "stream",
     "text": [
      "2022-07-04 23:55:51.610677\n"
     ]
    },
    {
     "name": "stderr",
     "output_type": "stream",
     "text": [
      "Create N-grams: 100%|██████████| 3/3 [00:00<00:00, 10.38it/s]\n",
      "Create N-grams: 100%|██████████| 3/3 [00:00<00:00, 53.57it/s]\n",
      "Positive Validation/Test: 100%|██████████| 1978/1978 [00:00<00:00, 28890.37it/s]\n",
      "Negative Validation/Test: 100%|██████████| 332/332 [00:00<00:00, 12080.62it/s]\n"
     ]
    },
    {
     "name": "stdout",
     "output_type": "stream",
     "text": [
      "2022-07-04 23:55:52.086629\n",
      "learning N-grams\n",
      "Negative class N-grams\n"
     ]
    },
    {
     "name": "stderr",
     "output_type": "stream",
     "text": [
      "Create N-grams: 100%|██████████| 3/3 [00:00<00:00, 13.46it/s]\n"
     ]
    },
    {
     "name": "stdout",
     "output_type": "stream",
     "text": [
      "Positive class N-grams\n"
     ]
    },
    {
     "name": "stderr",
     "output_type": "stream",
     "text": [
      "Create N-grams: 100%|██████████| 3/3 [00:01<00:00,  2.24it/s]\n"
     ]
    },
    {
     "name": "stdout",
     "output_type": "stream",
     "text": [
      "2022-07-04 23:55:59.354030\n"
     ]
    },
    {
     "name": "stderr",
     "output_type": "stream",
     "text": [
      "Create N-grams: 100%|██████████| 3/3 [00:00<00:00, 10.53it/s]\n",
      "Create N-grams: 100%|██████████| 3/3 [00:00<00:00, 47.62it/s]\n",
      "Positive Validation/Test: 100%|██████████| 1978/1978 [00:00<00:00, 22735.35it/s]\n",
      "Negative Validation/Test: 100%|██████████| 332/332 [00:00<00:00, 16553.05it/s]\n"
     ]
    },
    {
     "name": "stdout",
     "output_type": "stream",
     "text": [
      "2022-07-04 23:55:59.842666\n",
      "learning N-grams\n",
      "Negative class N-grams\n"
     ]
    },
    {
     "name": "stderr",
     "output_type": "stream",
     "text": [
      "Create N-grams: 100%|██████████| 3/3 [00:00<00:00, 13.56it/s]\n"
     ]
    },
    {
     "name": "stdout",
     "output_type": "stream",
     "text": [
      "Positive class N-grams\n"
     ]
    },
    {
     "name": "stderr",
     "output_type": "stream",
     "text": [
      "Create N-grams: 100%|██████████| 3/3 [00:01<00:00,  2.21it/s]\n"
     ]
    },
    {
     "name": "stdout",
     "output_type": "stream",
     "text": [
      "2022-07-04 23:56:06.925155\n"
     ]
    },
    {
     "name": "stderr",
     "output_type": "stream",
     "text": [
      "Create N-grams: 100%|██████████| 3/3 [00:00<00:00, 10.45it/s]\n",
      "Create N-grams: 100%|██████████| 3/3 [00:00<00:00, 46.41it/s]\n",
      "Positive Validation/Test: 100%|██████████| 1978/1978 [00:00<00:00, 27031.55it/s]\n",
      "Negative Validation/Test: 100%|██████████| 332/332 [00:00<00:00, 13125.24it/s]\n"
     ]
    },
    {
     "name": "stdout",
     "output_type": "stream",
     "text": [
      "2022-07-04 23:56:07.402970\n",
      "learning N-grams\n",
      "Negative class N-grams\n"
     ]
    },
    {
     "name": "stderr",
     "output_type": "stream",
     "text": [
      "Create N-grams: 100%|██████████| 3/3 [00:00<00:00, 13.02it/s]\n"
     ]
    },
    {
     "name": "stdout",
     "output_type": "stream",
     "text": [
      "Positive class N-grams\n"
     ]
    },
    {
     "name": "stderr",
     "output_type": "stream",
     "text": [
      "Create N-grams: 100%|██████████| 3/3 [00:01<00:00,  2.27it/s]\n"
     ]
    },
    {
     "name": "stdout",
     "output_type": "stream",
     "text": [
      "2022-07-04 23:56:14.365504\n"
     ]
    },
    {
     "name": "stderr",
     "output_type": "stream",
     "text": [
      "Create N-grams: 100%|██████████| 3/3 [00:00<00:00, 10.58it/s]\n",
      "Create N-grams: 100%|██████████| 3/3 [00:00<00:00, 52.64it/s]\n",
      "Positive Validation/Test: 100%|██████████| 1978/1978 [00:00<00:00, 24376.17it/s]\n",
      "Negative Validation/Test: 100%|██████████| 332/332 [00:00<00:00, 20753.36it/s]\n"
     ]
    },
    {
     "name": "stdout",
     "output_type": "stream",
     "text": [
      "2022-07-04 23:56:14.838331\n",
      "learning N-grams\n",
      "Negative class N-grams\n"
     ]
    },
    {
     "name": "stderr",
     "output_type": "stream",
     "text": [
      "Create N-grams: 100%|██████████| 3/3 [00:00<00:00, 12.78it/s]\n"
     ]
    },
    {
     "name": "stdout",
     "output_type": "stream",
     "text": [
      "Positive class N-grams\n"
     ]
    },
    {
     "name": "stderr",
     "output_type": "stream",
     "text": [
      "Create N-grams: 100%|██████████| 3/3 [00:01<00:00,  2.17it/s]\n"
     ]
    },
    {
     "name": "stdout",
     "output_type": "stream",
     "text": [
      "2022-07-04 23:56:21.977802\n"
     ]
    },
    {
     "name": "stderr",
     "output_type": "stream",
     "text": [
      "Create N-grams: 100%|██████████| 3/3 [00:00<00:00, 10.48it/s]\n",
      "Create N-grams: 100%|██████████| 3/3 [00:00<00:00, 53.57it/s]\n",
      "Positive Validation/Test: 100%|██████████| 1978/1978 [00:00<00:00, 28166.61it/s]\n",
      "Negative Validation/Test: 100%|██████████| 332/332 [00:00<00:00, 12338.70it/s]\n"
     ]
    },
    {
     "name": "stdout",
     "output_type": "stream",
     "text": [
      "2022-07-04 23:56:22.459231\n",
      "learning N-grams\n",
      "Negative class N-grams\n"
     ]
    },
    {
     "name": "stderr",
     "output_type": "stream",
     "text": [
      "Create N-grams: 100%|██████████| 3/3 [00:00<00:00, 13.75it/s]\n"
     ]
    },
    {
     "name": "stdout",
     "output_type": "stream",
     "text": [
      "Positive class N-grams\n"
     ]
    },
    {
     "name": "stderr",
     "output_type": "stream",
     "text": [
      "Create N-grams: 100%|██████████| 3/3 [00:01<00:00,  1.88it/s]\n"
     ]
    },
    {
     "name": "stdout",
     "output_type": "stream",
     "text": [
      "2022-07-04 23:56:29.675038\n"
     ]
    },
    {
     "name": "stderr",
     "output_type": "stream",
     "text": [
      "Create N-grams: 100%|██████████| 3/3 [00:00<00:00, 10.87it/s]\n",
      "Create N-grams: 100%|██████████| 3/3 [00:00<00:00, 52.63it/s]\n",
      "Positive Validation/Test: 100%|██████████| 1978/1978 [00:00<00:00, 27585.57it/s]\n",
      "Negative Validation/Test: 100%|██████████| 332/332 [00:00<00:00, 13433.81it/s]\n"
     ]
    },
    {
     "name": "stdout",
     "output_type": "stream",
     "text": [
      "2022-07-04 23:56:30.153747\n",
      "learning N-grams\n",
      "Negative class N-grams\n"
     ]
    },
    {
     "name": "stderr",
     "output_type": "stream",
     "text": [
      "Create N-grams: 100%|██████████| 3/3 [00:00<00:00, 13.61it/s]\n"
     ]
    },
    {
     "name": "stdout",
     "output_type": "stream",
     "text": [
      "Positive class N-grams\n"
     ]
    },
    {
     "name": "stderr",
     "output_type": "stream",
     "text": [
      "Create N-grams: 100%|██████████| 3/3 [00:01<00:00,  2.23it/s]\n"
     ]
    },
    {
     "name": "stdout",
     "output_type": "stream",
     "text": [
      "2022-07-04 23:56:37.145202\n"
     ]
    },
    {
     "name": "stderr",
     "output_type": "stream",
     "text": [
      "Create N-grams: 100%|██████████| 3/3 [00:00<00:00, 10.72it/s]\n",
      "Create N-grams: 100%|██████████| 3/3 [00:00<00:00, 48.60it/s]\n",
      "Positive Validation/Test: 100%|██████████| 1978/1978 [00:00<00:00, 22450.19it/s]\n",
      "Negative Validation/Test: 100%|██████████| 332/332 [00:00<00:00, 13407.17it/s]\n"
     ]
    },
    {
     "name": "stdout",
     "output_type": "stream",
     "text": [
      "2022-07-04 23:56:37.647864\n",
      "learning N-grams\n",
      "Negative class N-grams\n"
     ]
    },
    {
     "name": "stderr",
     "output_type": "stream",
     "text": [
      "Create N-grams: 100%|██████████| 3/3 [00:00<00:00, 13.03it/s]\n"
     ]
    },
    {
     "name": "stdout",
     "output_type": "stream",
     "text": [
      "Positive class N-grams\n"
     ]
    },
    {
     "name": "stderr",
     "output_type": "stream",
     "text": [
      "Create N-grams: 100%|██████████| 3/3 [00:01<00:00,  2.19it/s]\n"
     ]
    },
    {
     "name": "stdout",
     "output_type": "stream",
     "text": [
      "2022-07-04 23:56:44.712399\n"
     ]
    },
    {
     "name": "stderr",
     "output_type": "stream",
     "text": [
      "Create N-grams: 100%|██████████| 3/3 [00:00<00:00, 10.18it/s]\n",
      "Create N-grams: 100%|██████████| 3/3 [00:00<00:00, 51.72it/s]\n",
      "Positive Validation/Test: 100%|██████████| 1978/1978 [00:00<00:00, 23269.86it/s]\n",
      "Negative Validation/Test: 100%|██████████| 332/332 [00:00<00:00, 18445.54it/s]\n"
     ]
    },
    {
     "name": "stdout",
     "output_type": "stream",
     "text": [
      "2022-07-04 23:56:45.202168\n",
      "learning N-grams\n",
      "Negative class N-grams\n"
     ]
    },
    {
     "name": "stderr",
     "output_type": "stream",
     "text": [
      "Create N-grams: 100%|██████████| 3/3 [00:00<00:00, 11.72it/s]\n"
     ]
    },
    {
     "name": "stdout",
     "output_type": "stream",
     "text": [
      "Positive class N-grams\n"
     ]
    },
    {
     "name": "stderr",
     "output_type": "stream",
     "text": [
      "Create N-grams: 100%|██████████| 3/3 [00:01<00:00,  2.13it/s]\n"
     ]
    },
    {
     "name": "stdout",
     "output_type": "stream",
     "text": [
      "2022-07-04 23:56:53.033311\n"
     ]
    },
    {
     "name": "stderr",
     "output_type": "stream",
     "text": [
      "Create N-grams: 100%|██████████| 3/3 [00:00<00:00,  9.58it/s]\n",
      "Create N-grams: 100%|██████████| 3/3 [00:00<00:00, 50.00it/s]\n",
      "Positive Validation/Test: 100%|██████████| 1978/1978 [00:00<00:00, 23831.89it/s]\n",
      "Negative Validation/Test: 100%|██████████| 332/332 [00:00<00:00, 18445.29it/s]\n"
     ]
    },
    {
     "name": "stdout",
     "output_type": "stream",
     "text": [
      "2022-07-04 23:56:53.545309\n",
      "learning N-grams\n",
      "Negative class N-grams\n"
     ]
    },
    {
     "name": "stderr",
     "output_type": "stream",
     "text": [
      "Create N-grams: 100%|██████████| 3/3 [00:00<00:00, 13.07it/s]\n"
     ]
    },
    {
     "name": "stdout",
     "output_type": "stream",
     "text": [
      "Positive class N-grams\n"
     ]
    },
    {
     "name": "stderr",
     "output_type": "stream",
     "text": [
      "Create N-grams: 100%|██████████| 3/3 [00:01<00:00,  2.18it/s]\n"
     ]
    },
    {
     "name": "stdout",
     "output_type": "stream",
     "text": [
      "2022-07-04 23:57:00.925882\n"
     ]
    },
    {
     "name": "stderr",
     "output_type": "stream",
     "text": [
      "Create N-grams: 100%|██████████| 3/3 [00:00<00:00, 10.51it/s]\n",
      "Create N-grams: 100%|██████████| 3/3 [00:00<00:00, 53.05it/s]\n",
      "Positive Validation/Test: 100%|██████████| 1978/1978 [00:00<00:00, 26258.04it/s]\n",
      "Negative Validation/Test: 100%|██████████| 332/332 [00:00<00:00, 21247.03it/s]\n"
     ]
    },
    {
     "name": "stdout",
     "output_type": "stream",
     "text": [
      "2022-07-04 23:57:01.389985\n",
      "learning N-grams\n",
      "Negative class N-grams\n"
     ]
    },
    {
     "name": "stderr",
     "output_type": "stream",
     "text": [
      "Create N-grams: 100%|██████████| 3/3 [00:00<00:00, 13.45it/s]\n"
     ]
    },
    {
     "name": "stdout",
     "output_type": "stream",
     "text": [
      "Positive class N-grams\n"
     ]
    },
    {
     "name": "stderr",
     "output_type": "stream",
     "text": [
      "Create N-grams: 100%|██████████| 3/3 [00:01<00:00,  2.26it/s]\n"
     ]
    },
    {
     "name": "stdout",
     "output_type": "stream",
     "text": [
      "2022-07-04 23:57:08.375014\n"
     ]
    },
    {
     "name": "stderr",
     "output_type": "stream",
     "text": [
      "Create N-grams: 100%|██████████| 3/3 [00:00<00:00, 10.39it/s]\n",
      "Create N-grams: 100%|██████████| 3/3 [00:00<00:00, 50.99it/s]\n",
      "Positive Validation/Test: 100%|██████████| 1978/1978 [00:00<00:00, 31647.88it/s]\n",
      "Negative Validation/Test: 100%|██████████| 332/332 [00:00<00:00, 52083.67it/s]\n"
     ]
    },
    {
     "name": "stdout",
     "output_type": "stream",
     "text": [
      "2022-07-04 23:57:08.838481\n",
      "learning N-grams\n",
      "Negative class N-grams\n"
     ]
    },
    {
     "name": "stderr",
     "output_type": "stream",
     "text": [
      "Create N-grams: 100%|██████████| 3/3 [00:00<00:00, 13.30it/s]\n"
     ]
    },
    {
     "name": "stdout",
     "output_type": "stream",
     "text": [
      "Positive class N-grams\n"
     ]
    },
    {
     "name": "stderr",
     "output_type": "stream",
     "text": [
      "Create N-grams: 100%|██████████| 3/3 [00:01<00:00,  2.28it/s]\n"
     ]
    },
    {
     "name": "stdout",
     "output_type": "stream",
     "text": [
      "2022-07-04 23:57:16.449139\n"
     ]
    },
    {
     "name": "stderr",
     "output_type": "stream",
     "text": [
      "Create N-grams: 100%|██████████| 3/3 [00:00<00:00, 11.11it/s]\n",
      "Create N-grams: 100%|██████████| 3/3 [00:00<00:00, 55.09it/s]\n",
      "Positive Validation/Test: 100%|██████████| 1978/1978 [00:00<00:00, 20217.06it/s]\n",
      "Negative Validation/Test: 100%|██████████| 332/332 [00:00<00:00, 21239.57it/s]\n"
     ]
    },
    {
     "name": "stdout",
     "output_type": "stream",
     "text": [
      "2022-07-04 23:57:16.939616\n",
      "learning N-grams\n",
      "Negative class N-grams\n"
     ]
    },
    {
     "name": "stderr",
     "output_type": "stream",
     "text": [
      "Create N-grams: 100%|██████████| 3/3 [00:00<00:00, 14.42it/s]\n"
     ]
    },
    {
     "name": "stdout",
     "output_type": "stream",
     "text": [
      "Positive class N-grams\n"
     ]
    },
    {
     "name": "stderr",
     "output_type": "stream",
     "text": [
      "Create N-grams: 100%|██████████| 3/3 [00:01<00:00,  1.87it/s]\n"
     ]
    },
    {
     "name": "stdout",
     "output_type": "stream",
     "text": [
      "2022-07-04 23:57:24.405912\n"
     ]
    },
    {
     "name": "stderr",
     "output_type": "stream",
     "text": [
      "Create N-grams: 100%|██████████| 3/3 [00:00<00:00, 11.01it/s]\n",
      "Create N-grams: 100%|██████████| 3/3 [00:00<00:00, 52.48it/s]\n",
      "Positive Validation/Test: 100%|██████████| 1978/1978 [00:00<00:00, 29151.47it/s]\n",
      "Negative Validation/Test: 100%|██████████| 332/332 [00:00<00:00, 19147.86it/s]\n"
     ]
    },
    {
     "name": "stdout",
     "output_type": "stream",
     "text": [
      "2022-07-04 23:57:24.883199\n",
      "learning N-grams\n",
      "Negative class N-grams\n"
     ]
    },
    {
     "name": "stderr",
     "output_type": "stream",
     "text": [
      "Create N-grams: 100%|██████████| 3/3 [00:00<00:00, 13.29it/s]\n"
     ]
    },
    {
     "name": "stdout",
     "output_type": "stream",
     "text": [
      "Positive class N-grams\n"
     ]
    },
    {
     "name": "stderr",
     "output_type": "stream",
     "text": [
      "Create N-grams: 100%|██████████| 3/3 [00:01<00:00,  2.21it/s]\n"
     ]
    },
    {
     "name": "stdout",
     "output_type": "stream",
     "text": [
      "2022-07-04 23:57:32.135575\n"
     ]
    },
    {
     "name": "stderr",
     "output_type": "stream",
     "text": [
      "Create N-grams: 100%|██████████| 3/3 [00:00<00:00,  9.93it/s]\n",
      "Create N-grams: 100%|██████████| 3/3 [00:00<00:00, 52.19it/s]\n",
      "Positive Validation/Test: 100%|██████████| 1978/1978 [00:00<00:00, 20026.63it/s]\n",
      "Negative Validation/Test: 100%|██████████| 332/332 [00:00<00:00, 65351.46it/s]\n"
     ]
    },
    {
     "name": "stdout",
     "output_type": "stream",
     "text": [
      "     lemma  stopwords  ngrams  n  ngrams_mincount  ngrams_th  accuracy  \\\n",
      "0     True       True   False  0                0          0  0.998740   \n",
      "1     True      False   False  0                0          0  1.000000   \n",
      "2    False      False   False  0                0          0  1.000000   \n",
      "3    False       True   False  0                0          0  0.999567   \n",
      "4     True       True    True  2                5         10  0.998740   \n",
      "..     ...        ...     ... ..              ...        ...       ...   \n",
      "191  False       True    True  4               15         25  0.999567   \n",
      "192  False       True    True  4               20         10  0.999567   \n",
      "193  False       True    True  4               20         15  0.999567   \n",
      "194  False       True    True  4               20         20  0.999567   \n",
      "195  False       True    True  4               20         25  0.999567   \n",
      "\n",
      "     precision  recall        F1  False Positive Rate  False Negative Rate  \n",
      "0     0.998554     1.0  0.999277             0.009709                  0.0  \n",
      "1     1.000000     1.0  1.000000             0.000000                  0.0  \n",
      "2     1.000000     1.0  1.000000             0.000000                  0.0  \n",
      "3     0.999495     1.0  0.999747             0.003012                  0.0  \n",
      "4     0.998554     1.0  0.999277             0.009709                  0.0  \n",
      "..         ...     ...       ...                  ...                  ...  \n",
      "191   0.999495     1.0  0.999747             0.003012                  0.0  \n",
      "192   0.999495     1.0  0.999747             0.003012                  0.0  \n",
      "193   0.999495     1.0  0.999747             0.003012                  0.0  \n",
      "194   0.999495     1.0  0.999747             0.003012                  0.0  \n",
      "195   0.999495     1.0  0.999747             0.003012                  0.0  \n",
      "\n",
      "[196 rows x 12 columns]\n"
     ]
    }
   ],
   "source": [
    "j={'ngrams':False,'n':0,'ngrams_mincount':0,'ngrams_th':0}\n",
    "results=[]\n",
    "\n",
    "for i in range(len(positive_docs)):\n",
    "    model=NB_sentiment_analysis(ngrams=False)\n",
    "    model.fit(positive_docs[i]['train'],negative_docs[i]['train'])\n",
    "    model.val_test(positive_docs[i]['validation'],negative_docs[i]['validation'])\n",
    "    results.append(hp_key[i]|j|model.metrics)\n",
    "\n",
    "n_lst=[2,3,4]\n",
    "ngrams_mincount_lst=[5,10,15,20]\n",
    "ngrams_th_lst=[10,15,20,25]\n",
    "ngrams_i=True\n",
    "for i in range(len(positive_docs)):\n",
    "    for n_i in n_lst:\n",
    "        for ngramas_mincount_i in ngrams_mincount_lst:\n",
    "            for ngrams_th_i in ngrams_th_lst:\n",
    "                model=NB_sentiment_analysis(ngrams=True,n=n_i,ngrams_mincount=ngramas_mincount_i,ngrams_th=ngrams_th_i)\n",
    "                model.fit(positive_docs[i]['train'],negative_docs[i]['train'])\n",
    "                model.val_test(positive_docs[i]['validation'],negative_docs[i]['validation'])\n",
    "                results.append(hp_key[i]|{'ngrams':True,'n':n_i,'ngrams_mincount':ngramas_mincount_i,'ngrams_th':ngrams_th_i}|model.metrics)\n",
    "                 \n",
    "\n",
    "df_results=pd.DataFrame(results)\n",
    "print(df_results)\n",
    "    \n"
   ]
  },
  {
   "cell_type": "markdown",
   "id": "f46d61f8",
   "metadata": {},
   "source": [
    "## Discusion de resultados\n",
    "De los resultados anteriores queremos encontrar el que tenga mejor F1, ya que queremos optimizar tanto los falsos positivos como los falsos negativos"
   ]
  },
  {
   "cell_type": "code",
   "execution_count": 110,
   "id": "6e2fb143",
   "metadata": {
    "scrolled": true
   },
   "outputs": [
    {
     "data": {
      "text/html": [
       "<div>\n",
       "<style scoped>\n",
       "    .dataframe tbody tr th:only-of-type {\n",
       "        vertical-align: middle;\n",
       "    }\n",
       "\n",
       "    .dataframe tbody tr th {\n",
       "        vertical-align: top;\n",
       "    }\n",
       "\n",
       "    .dataframe thead th {\n",
       "        text-align: right;\n",
       "    }\n",
       "</style>\n",
       "<table border=\"1\" class=\"dataframe\">\n",
       "  <thead>\n",
       "    <tr style=\"text-align: right;\">\n",
       "      <th></th>\n",
       "      <th>lemma</th>\n",
       "      <th>stopwords</th>\n",
       "      <th>ngrams</th>\n",
       "      <th>n</th>\n",
       "      <th>ngrams_mincount</th>\n",
       "      <th>ngrams_th</th>\n",
       "      <th>accuracy</th>\n",
       "      <th>precision</th>\n",
       "      <th>recall</th>\n",
       "      <th>F1</th>\n",
       "      <th>False Positive Rate</th>\n",
       "      <th>False Negative Rate</th>\n",
       "    </tr>\n",
       "  </thead>\n",
       "  <tbody>\n",
       "    <tr>\n",
       "      <th>1</th>\n",
       "      <td>True</td>\n",
       "      <td>False</td>\n",
       "      <td>False</td>\n",
       "      <td>0</td>\n",
       "      <td>0</td>\n",
       "      <td>0</td>\n",
       "      <td>1.0</td>\n",
       "      <td>1.0</td>\n",
       "      <td>1.0</td>\n",
       "      <td>1.0</td>\n",
       "      <td>0.0</td>\n",
       "      <td>0.0</td>\n",
       "    </tr>\n",
       "    <tr>\n",
       "      <th>2</th>\n",
       "      <td>False</td>\n",
       "      <td>False</td>\n",
       "      <td>False</td>\n",
       "      <td>0</td>\n",
       "      <td>0</td>\n",
       "      <td>0</td>\n",
       "      <td>1.0</td>\n",
       "      <td>1.0</td>\n",
       "      <td>1.0</td>\n",
       "      <td>1.0</td>\n",
       "      <td>0.0</td>\n",
       "      <td>0.0</td>\n",
       "    </tr>\n",
       "    <tr>\n",
       "      <th>52</th>\n",
       "      <td>True</td>\n",
       "      <td>False</td>\n",
       "      <td>True</td>\n",
       "      <td>2</td>\n",
       "      <td>5</td>\n",
       "      <td>10</td>\n",
       "      <td>1.0</td>\n",
       "      <td>1.0</td>\n",
       "      <td>1.0</td>\n",
       "      <td>1.0</td>\n",
       "      <td>0.0</td>\n",
       "      <td>0.0</td>\n",
       "    </tr>\n",
       "    <tr>\n",
       "      <th>53</th>\n",
       "      <td>True</td>\n",
       "      <td>False</td>\n",
       "      <td>True</td>\n",
       "      <td>2</td>\n",
       "      <td>5</td>\n",
       "      <td>15</td>\n",
       "      <td>1.0</td>\n",
       "      <td>1.0</td>\n",
       "      <td>1.0</td>\n",
       "      <td>1.0</td>\n",
       "      <td>0.0</td>\n",
       "      <td>0.0</td>\n",
       "    </tr>\n",
       "    <tr>\n",
       "      <th>54</th>\n",
       "      <td>True</td>\n",
       "      <td>False</td>\n",
       "      <td>True</td>\n",
       "      <td>2</td>\n",
       "      <td>5</td>\n",
       "      <td>20</td>\n",
       "      <td>1.0</td>\n",
       "      <td>1.0</td>\n",
       "      <td>1.0</td>\n",
       "      <td>1.0</td>\n",
       "      <td>0.0</td>\n",
       "      <td>0.0</td>\n",
       "    </tr>\n",
       "    <tr>\n",
       "      <th>...</th>\n",
       "      <td>...</td>\n",
       "      <td>...</td>\n",
       "      <td>...</td>\n",
       "      <td>...</td>\n",
       "      <td>...</td>\n",
       "      <td>...</td>\n",
       "      <td>...</td>\n",
       "      <td>...</td>\n",
       "      <td>...</td>\n",
       "      <td>...</td>\n",
       "      <td>...</td>\n",
       "      <td>...</td>\n",
       "    </tr>\n",
       "    <tr>\n",
       "      <th>143</th>\n",
       "      <td>False</td>\n",
       "      <td>False</td>\n",
       "      <td>True</td>\n",
       "      <td>4</td>\n",
       "      <td>15</td>\n",
       "      <td>25</td>\n",
       "      <td>1.0</td>\n",
       "      <td>1.0</td>\n",
       "      <td>1.0</td>\n",
       "      <td>1.0</td>\n",
       "      <td>0.0</td>\n",
       "      <td>0.0</td>\n",
       "    </tr>\n",
       "    <tr>\n",
       "      <th>144</th>\n",
       "      <td>False</td>\n",
       "      <td>False</td>\n",
       "      <td>True</td>\n",
       "      <td>4</td>\n",
       "      <td>20</td>\n",
       "      <td>10</td>\n",
       "      <td>1.0</td>\n",
       "      <td>1.0</td>\n",
       "      <td>1.0</td>\n",
       "      <td>1.0</td>\n",
       "      <td>0.0</td>\n",
       "      <td>0.0</td>\n",
       "    </tr>\n",
       "    <tr>\n",
       "      <th>145</th>\n",
       "      <td>False</td>\n",
       "      <td>False</td>\n",
       "      <td>True</td>\n",
       "      <td>4</td>\n",
       "      <td>20</td>\n",
       "      <td>15</td>\n",
       "      <td>1.0</td>\n",
       "      <td>1.0</td>\n",
       "      <td>1.0</td>\n",
       "      <td>1.0</td>\n",
       "      <td>0.0</td>\n",
       "      <td>0.0</td>\n",
       "    </tr>\n",
       "    <tr>\n",
       "      <th>146</th>\n",
       "      <td>False</td>\n",
       "      <td>False</td>\n",
       "      <td>True</td>\n",
       "      <td>4</td>\n",
       "      <td>20</td>\n",
       "      <td>20</td>\n",
       "      <td>1.0</td>\n",
       "      <td>1.0</td>\n",
       "      <td>1.0</td>\n",
       "      <td>1.0</td>\n",
       "      <td>0.0</td>\n",
       "      <td>0.0</td>\n",
       "    </tr>\n",
       "    <tr>\n",
       "      <th>147</th>\n",
       "      <td>False</td>\n",
       "      <td>False</td>\n",
       "      <td>True</td>\n",
       "      <td>4</td>\n",
       "      <td>20</td>\n",
       "      <td>25</td>\n",
       "      <td>1.0</td>\n",
       "      <td>1.0</td>\n",
       "      <td>1.0</td>\n",
       "      <td>1.0</td>\n",
       "      <td>0.0</td>\n",
       "      <td>0.0</td>\n",
       "    </tr>\n",
       "  </tbody>\n",
       "</table>\n",
       "<p>98 rows × 12 columns</p>\n",
       "</div>"
      ],
      "text/plain": [
       "     lemma  stopwords  ngrams  n  ngrams_mincount  ngrams_th  accuracy  \\\n",
       "1     True      False   False  0                0          0       1.0   \n",
       "2    False      False   False  0                0          0       1.0   \n",
       "52    True      False    True  2                5         10       1.0   \n",
       "53    True      False    True  2                5         15       1.0   \n",
       "54    True      False    True  2                5         20       1.0   \n",
       "..     ...        ...     ... ..              ...        ...       ...   \n",
       "143  False      False    True  4               15         25       1.0   \n",
       "144  False      False    True  4               20         10       1.0   \n",
       "145  False      False    True  4               20         15       1.0   \n",
       "146  False      False    True  4               20         20       1.0   \n",
       "147  False      False    True  4               20         25       1.0   \n",
       "\n",
       "     precision  recall   F1  False Positive Rate  False Negative Rate  \n",
       "1          1.0     1.0  1.0                  0.0                  0.0  \n",
       "2          1.0     1.0  1.0                  0.0                  0.0  \n",
       "52         1.0     1.0  1.0                  0.0                  0.0  \n",
       "53         1.0     1.0  1.0                  0.0                  0.0  \n",
       "54         1.0     1.0  1.0                  0.0                  0.0  \n",
       "..         ...     ...  ...                  ...                  ...  \n",
       "143        1.0     1.0  1.0                  0.0                  0.0  \n",
       "144        1.0     1.0  1.0                  0.0                  0.0  \n",
       "145        1.0     1.0  1.0                  0.0                  0.0  \n",
       "146        1.0     1.0  1.0                  0.0                  0.0  \n",
       "147        1.0     1.0  1.0                  0.0                  0.0  \n",
       "\n",
       "[98 rows x 12 columns]"
      ]
     },
     "execution_count": 110,
     "metadata": {},
     "output_type": "execute_result"
    }
   ],
   "source": [
    "df_results[df_results['F1']==max(df_results['F1'])]"
   ]
  },
  {
   "cell_type": "markdown",
   "id": "2bbfd302",
   "metadata": {},
   "source": [
    "observamos que 98 de nuestros modelos cuentan con un F1 del 100%, por lo cual escogeremos el cual nos es mas facil y rapido de entrenar y poner en produccion, podemos observar que ese seria el que tiene por hyperparametros, que no se ejecute Lemmatizacion, no se quiten stopwords y no se generen ngrams, unicamente una tokenizacion simple de los documentos, procedemos a probar nuestro mejor modelo:"
   ]
  },
  {
   "cell_type": "code",
   "execution_count": 112,
   "id": "5390c137",
   "metadata": {},
   "outputs": [
    {
     "name": "stdout",
     "output_type": "stream",
     "text": [
      "2022-07-05 00:16:32.132284\n",
      "2022-07-05 00:16:32.861941\n"
     ]
    },
    {
     "name": "stderr",
     "output_type": "stream",
     "text": [
      "Positive Validation/Test: 100%|██████████| 2087/2087 [00:00<00:00, 17648.74it/s]\n",
      "Negative Validation/Test: 100%|██████████| 287/287 [00:00<00:00, 12479.17it/s]\n"
     ]
    },
    {
     "name": "stdout",
     "output_type": "stream",
     "text": [
      "Validation Metrics\n",
      "{'accuracy': 1.0, 'precision': 1.0, 'recall': 1.0, 'F1': 1.0, 'False Positive Rate': 0.0, 'False Negative Rate': 0.0}\n"
     ]
    },
    {
     "name": "stderr",
     "output_type": "stream",
     "text": [
      "Positive Validation/Test: 100%|██████████| 2047/2047 [00:00<00:00, 20960.05it/s]\n",
      "Negative Validation/Test: 100%|██████████| 307/307 [00:00<00:00, 13348.79it/s]"
     ]
    },
    {
     "name": "stdout",
     "output_type": "stream",
     "text": [
      "Test Metrics\n",
      "{'accuracy': 1.0, 'precision': 1.0, 'recall': 1.0, 'F1': 1.0, 'False Positive Rate': 0.0, 'False Negative Rate': 0.0}\n"
     ]
    },
    {
     "name": "stderr",
     "output_type": "stream",
     "text": [
      "\n"
     ]
    }
   ],
   "source": [
    "with open(r\"data/interim/split_pos.pkl\", \"rb\") as input_file:\n",
    "    positive=pickle.load(input_file)\n",
    "with open(r\"data/interim/split_neg.pkl\", \"rb\") as input_file:\n",
    "    negative=pickle.load(input_file)\n",
    "    \n",
    "\n",
    "best_model=NB_sentiment_analysis(stopwords=False,lemmatization=False,ngrams=False)\n",
    "\n",
    "best_model.fit(positive['train'],negative['train'])\n",
    "best_model.val_test(positive['validation'],negative['validation'])\n",
    "print('Validation Metrics')\n",
    "print(best_model.metrics)\n",
    "best_model.val_test(positive['test'],negative['test'])\n",
    "print('Test Metrics')\n",
    "print(best_model.metrics)"
   ]
  },
  {
   "cell_type": "markdown",
   "id": "775a3781",
   "metadata": {},
   "source": [
    "## Sanity Check\n",
    "Primero realizaremos sanity check en el metodo predict, para dos comentarios de diferentes clases"
   ]
  },
  {
   "cell_type": "code",
   "execution_count": 117,
   "id": "cbf0872d",
   "metadata": {},
   "outputs": [
    {
     "name": "stdout",
     "output_type": "stream",
     "text": [
      "Stayed here 3 nights in May. Cute place, very small and quiet. 2 blocks from the central square, but restaurants, shops, churches, etc are all around you. Good value also. Love that breakfast is included.\n"
     ]
    },
    {
     "name": "stderr",
     "output_type": "stream",
     "text": [
      "Sentences to Words: 100%|██████████| 1/1 [00:00<00:00, 999.60it/s]\n"
     ]
    },
    {
     "data": {
      "text/plain": [
       "<Sentiments.POS: 'POS'>"
      ]
     },
     "execution_count": 117,
     "metadata": {},
     "output_type": "execute_result"
    }
   ],
   "source": [
    "sentence=positive_reviews[10]\n",
    "print(sentence)\n",
    "best_model.predict(sentence)\n",
    "#remove_stopwords(sentences_to_words([sentence]))"
   ]
  },
  {
   "cell_type": "code",
   "execution_count": 118,
   "id": "9e60cfc6",
   "metadata": {
    "scrolled": true
   },
   "outputs": [
    {
     "name": "stdout",
     "output_type": "stream",
     "text": [
      "Have stayed here a total of nearly 10 weeks over eight visits; my next visit is already reserved. I've been here with family, friends, and strangers about to become friends.  This is not a five-star property.  Its conversion from hacienda to hotel was slap-dash and haphazard. There can, at times, be too much street noise, and the wifi is wonky. ...but I'll be back, and I'll recommend it to friends as an oasis from their expectations.  The courtyards and walk ways will hang with dense flowering vines in the spring and summer, that when added to the flowering shrubs and trees perfumes this small world in a way Chanel aspires to.  The fountain in the main courtyard adds its own bouquet and the soundtrack of splashing water.  It's a perfect place to sip a beer, read a book, fall\n"
     ]
    },
    {
     "name": "stderr",
     "output_type": "stream",
     "text": [
      "Sentences to Words: 100%|██████████| 1/1 [00:00<00:00, 1002.46it/s]\n"
     ]
    },
    {
     "data": {
      "text/plain": [
       "<Sentiments.NEG: 'NEG'>"
      ]
     },
     "execution_count": 118,
     "metadata": {},
     "output_type": "execute_result"
    }
   ],
   "source": [
    "sentence=negative_reviews[10]\n",
    "print(sentence)\n",
    "best_model.predict(sentence)\n",
    "#remove_stopwords(sentences_to_words([sentence]))"
   ]
  },
  {
   "cell_type": "markdown",
   "id": "14fff0f4",
   "metadata": {},
   "source": [
    "obtuvimos las salidas deseadas"
   ]
  },
  {
   "cell_type": "markdown",
   "id": "621c1fce",
   "metadata": {},
   "source": [
    "Realizamos Sanity check de las funciones de tokenizacion:"
   ]
  },
  {
   "cell_type": "code",
   "execution_count": 120,
   "id": "17fc1263",
   "metadata": {},
   "outputs": [
    {
     "name": "stdout",
     "output_type": "stream",
     "text": [
      "[\"Have stayed here a total of nearly 10 weeks over eight visits; my next visit is already reserved. I've been here with family, friends, and strangers about to become friends.  This is not a five-star property.  Its conversion from hacienda to hotel was slap-dash and haphazard. There can, at times, be too much street noise, and the wifi is wonky. ...but I'll be back, and I'll recommend it to friends as an oasis from their expectations.  The courtyards and walk ways will hang with dense flowering vines in the spring and summer, that when added to the flowering shrubs and trees perfumes this small world in a way Chanel aspires to.  The fountain in the main courtyard adds its own bouquet and the soundtrack of splashing water.  It's a perfect place to sip a beer, read a book, fall\"]\n"
     ]
    },
    {
     "name": "stderr",
     "output_type": "stream",
     "text": [
      "Sentences to Words: 100%|██████████| 1/1 [00:00<00:00, 999.60it/s]\n"
     ]
    },
    {
     "data": {
      "text/plain": [
       "[['have',\n",
       "  'stayed',\n",
       "  'here',\n",
       "  'total',\n",
       "  'of',\n",
       "  'nearly',\n",
       "  'weeks',\n",
       "  'over',\n",
       "  'eight',\n",
       "  'visits',\n",
       "  'my',\n",
       "  'next',\n",
       "  'visit',\n",
       "  'is',\n",
       "  'already',\n",
       "  'reserved',\n",
       "  've',\n",
       "  'been',\n",
       "  'here',\n",
       "  'with',\n",
       "  'family',\n",
       "  'friends',\n",
       "  'and',\n",
       "  'strangers',\n",
       "  'about',\n",
       "  'to',\n",
       "  'become',\n",
       "  'friends',\n",
       "  'this',\n",
       "  'is',\n",
       "  'not',\n",
       "  'five',\n",
       "  'star',\n",
       "  'property',\n",
       "  'its',\n",
       "  'conversion',\n",
       "  'from',\n",
       "  'hacienda',\n",
       "  'to',\n",
       "  'hotel',\n",
       "  'was',\n",
       "  'slap',\n",
       "  'dash',\n",
       "  'and',\n",
       "  'haphazard',\n",
       "  'there',\n",
       "  'can',\n",
       "  'at',\n",
       "  'times',\n",
       "  'be',\n",
       "  'too',\n",
       "  'much',\n",
       "  'street',\n",
       "  'noise',\n",
       "  'and',\n",
       "  'the',\n",
       "  'wifi',\n",
       "  'is',\n",
       "  'wonky',\n",
       "  'but',\n",
       "  'll',\n",
       "  'be',\n",
       "  'back',\n",
       "  'and',\n",
       "  'll',\n",
       "  'recommend',\n",
       "  'it',\n",
       "  'to',\n",
       "  'friends',\n",
       "  'as',\n",
       "  'an',\n",
       "  'oasis',\n",
       "  'from',\n",
       "  'their',\n",
       "  'expectations',\n",
       "  'the',\n",
       "  'courtyards',\n",
       "  'and',\n",
       "  'walk',\n",
       "  'ways',\n",
       "  'will',\n",
       "  'hang',\n",
       "  'with',\n",
       "  'dense',\n",
       "  'flowering',\n",
       "  'vines',\n",
       "  'in',\n",
       "  'the',\n",
       "  'spring',\n",
       "  'and',\n",
       "  'summer',\n",
       "  'that',\n",
       "  'when',\n",
       "  'added',\n",
       "  'to',\n",
       "  'the',\n",
       "  'flowering',\n",
       "  'shrubs',\n",
       "  'and',\n",
       "  'trees',\n",
       "  'perfumes',\n",
       "  'this',\n",
       "  'small',\n",
       "  'world',\n",
       "  'in',\n",
       "  'way',\n",
       "  'chanel',\n",
       "  'aspires',\n",
       "  'to',\n",
       "  'the',\n",
       "  'fountain',\n",
       "  'in',\n",
       "  'the',\n",
       "  'main',\n",
       "  'courtyard',\n",
       "  'adds',\n",
       "  'its',\n",
       "  'own',\n",
       "  'bouquet',\n",
       "  'and',\n",
       "  'the',\n",
       "  'soundtrack',\n",
       "  'of',\n",
       "  'splashing',\n",
       "  'water',\n",
       "  'it',\n",
       "  'perfect',\n",
       "  'place',\n",
       "  'to',\n",
       "  'sip',\n",
       "  'beer',\n",
       "  'read',\n",
       "  'book',\n",
       "  'fall']]"
      ]
     },
     "execution_count": 120,
     "metadata": {},
     "output_type": "execute_result"
    }
   ],
   "source": [
    "sentence=negative_reviews[10]\n",
    "doc=[sentence]\n",
    "print(doc)\n",
    "train_tokenize(False,False,doc)\n"
   ]
  },
  {
   "cell_type": "code",
   "execution_count": 121,
   "id": "8703e888",
   "metadata": {},
   "outputs": [
    {
     "name": "stdout",
     "output_type": "stream",
     "text": [
      "[\"Have stayed here a total of nearly 10 weeks over eight visits; my next visit is already reserved. I've been here with family, friends, and strangers about to become friends.  This is not a five-star property.  Its conversion from hacienda to hotel was slap-dash and haphazard. There can, at times, be too much street noise, and the wifi is wonky. ...but I'll be back, and I'll recommend it to friends as an oasis from their expectations.  The courtyards and walk ways will hang with dense flowering vines in the spring and summer, that when added to the flowering shrubs and trees perfumes this small world in a way Chanel aspires to.  The fountain in the main courtyard adds its own bouquet and the soundtrack of splashing water.  It's a perfect place to sip a beer, read a book, fall\"]\n"
     ]
    },
    {
     "name": "stderr",
     "output_type": "stream",
     "text": [
      "Sentences to Words: 100%|██████████| 1/1 [00:00<00:00, 1001.98it/s]\n",
      "Lemmatization:   0%|          | 0/1 [00:00<?, ?it/s]C:\\Users\\Ax\\anaconda3\\lib\\site-packages\\torch\\autocast_mode.py:162: UserWarning: User provided device_type of 'cuda', but CUDA is not available. Disabling\n",
      "  warnings.warn('User provided device_type of \\'cuda\\', but CUDA is not available. Disabling')\n",
      "Lemmatization: 100%|██████████| 1/1 [00:00<00:00,  1.79it/s]\n"
     ]
    },
    {
     "data": {
      "text/plain": [
       "[['stay',\n",
       "  'here',\n",
       "  'total',\n",
       "  'nearly',\n",
       "  'week',\n",
       "  'visit',\n",
       "  'next',\n",
       "  'visit',\n",
       "  'already',\n",
       "  'reserved',\n",
       "  've',\n",
       "  'here',\n",
       "  'family',\n",
       "  'friend',\n",
       "  'stranger',\n",
       "  'about',\n",
       "  'become',\n",
       "  'friend',\n",
       "  'star',\n",
       "  'property',\n",
       "  'conversion',\n",
       "  'hacienda',\n",
       "  'hotel',\n",
       "  'slap',\n",
       "  'dash',\n",
       "  'haphazard',\n",
       "  'time',\n",
       "  'too',\n",
       "  'much',\n",
       "  'street',\n",
       "  'noise',\n",
       "  'wifi',\n",
       "  'wonky',\n",
       "  'back',\n",
       "  'recommend',\n",
       "  'friend',\n",
       "  'oasis',\n",
       "  'expectation',\n",
       "  'courtyard',\n",
       "  'walk',\n",
       "  'way',\n",
       "  'hang',\n",
       "  'dense',\n",
       "  'flower',\n",
       "  'vine',\n",
       "  'spring',\n",
       "  'summer',\n",
       "  'add',\n",
       "  'flower',\n",
       "  'shrub',\n",
       "  'tree',\n",
       "  'perfume',\n",
       "  'small',\n",
       "  'world',\n",
       "  'way',\n",
       "  'aspire',\n",
       "  'fountain',\n",
       "  'main',\n",
       "  'courtyard',\n",
       "  'add',\n",
       "  'own',\n",
       "  'bouquet',\n",
       "  'soundtrack',\n",
       "  'splash',\n",
       "  'water',\n",
       "  'perfect',\n",
       "  'place',\n",
       "  'sip',\n",
       "  'beer',\n",
       "  'read',\n",
       "  'book']]"
      ]
     },
     "execution_count": 121,
     "metadata": {},
     "output_type": "execute_result"
    }
   ],
   "source": [
    "sentence=negative_reviews[10]\n",
    "doc=[sentence]\n",
    "print(doc)\n",
    "train_tokenize(False,True,doc)"
   ]
  },
  {
   "cell_type": "code",
   "execution_count": 122,
   "id": "70942b41",
   "metadata": {},
   "outputs": [
    {
     "name": "stdout",
     "output_type": "stream",
     "text": [
      "[\"Have stayed here a total of nearly 10 weeks over eight visits; my next visit is already reserved. I've been here with family, friends, and strangers about to become friends.  This is not a five-star property.  Its conversion from hacienda to hotel was slap-dash and haphazard. There can, at times, be too much street noise, and the wifi is wonky. ...but I'll be back, and I'll recommend it to friends as an oasis from their expectations.  The courtyards and walk ways will hang with dense flowering vines in the spring and summer, that when added to the flowering shrubs and trees perfumes this small world in a way Chanel aspires to.  The fountain in the main courtyard adds its own bouquet and the soundtrack of splashing water.  It's a perfect place to sip a beer, read a book, fall\"]\n"
     ]
    },
    {
     "name": "stderr",
     "output_type": "stream",
     "text": [
      "Sentences to Words: 100%|██████████| 1/1 [00:00<00:00, 998.41it/s]\n",
      "Lemmatization: 100%|██████████| 1/1 [00:00<00:00,  1.71it/s]\n",
      "Remove StopWords: 100%|██████████| 1/1 [00:00<00:00, 63.13it/s]\n"
     ]
    },
    {
     "data": {
      "text/plain": [
       "[['stay',\n",
       "  'total',\n",
       "  'nearly',\n",
       "  'week',\n",
       "  'visit',\n",
       "  'next',\n",
       "  'visit',\n",
       "  'already',\n",
       "  'reserved',\n",
       "  'family',\n",
       "  'friend',\n",
       "  'stranger',\n",
       "  'become',\n",
       "  'friend',\n",
       "  'star',\n",
       "  'property',\n",
       "  'conversion',\n",
       "  'hacienda',\n",
       "  'hotel',\n",
       "  'slap',\n",
       "  'dash',\n",
       "  'haphazard',\n",
       "  'time',\n",
       "  'much',\n",
       "  'street',\n",
       "  'noise',\n",
       "  'wifi',\n",
       "  'wonky',\n",
       "  'back',\n",
       "  'recommend',\n",
       "  'friend',\n",
       "  'oasis',\n",
       "  'expectation',\n",
       "  'courtyard',\n",
       "  'walk',\n",
       "  'way',\n",
       "  'hang',\n",
       "  'dense',\n",
       "  'flower',\n",
       "  'vine',\n",
       "  'spring',\n",
       "  'summer',\n",
       "  'add',\n",
       "  'flower',\n",
       "  'shrub',\n",
       "  'tree',\n",
       "  'perfume',\n",
       "  'small',\n",
       "  'world',\n",
       "  'way',\n",
       "  'aspire',\n",
       "  'fountain',\n",
       "  'main',\n",
       "  'courtyard',\n",
       "  'add',\n",
       "  'bouquet',\n",
       "  'soundtrack',\n",
       "  'splash',\n",
       "  'water',\n",
       "  'perfect',\n",
       "  'place',\n",
       "  'sip',\n",
       "  'beer',\n",
       "  'read',\n",
       "  'book']]"
      ]
     },
     "execution_count": 122,
     "metadata": {},
     "output_type": "execute_result"
    }
   ],
   "source": [
    "sentence=negative_reviews[10]\n",
    "doc=[sentence]\n",
    "print(doc)\n",
    "train_tokenize(True,True,doc)"
   ]
  },
  {
   "cell_type": "code",
   "execution_count": null,
   "id": "a0078086",
   "metadata": {},
   "outputs": [],
   "source": []
  }
 ],
 "metadata": {
  "kernelspec": {
   "display_name": "Python 3 (ipykernel)",
   "language": "python",
   "name": "python3"
  },
  "language_info": {
   "codemirror_mode": {
    "name": "ipython",
    "version": 3
   },
   "file_extension": ".py",
   "mimetype": "text/x-python",
   "name": "python",
   "nbconvert_exporter": "python",
   "pygments_lexer": "ipython3",
   "version": "3.9.12"
  }
 },
 "nbformat": 4,
 "nbformat_minor": 5
}
